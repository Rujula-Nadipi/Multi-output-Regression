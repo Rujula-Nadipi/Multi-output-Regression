{
  "nbformat": 4,
  "nbformat_minor": 0,
  "metadata": {
    "colab": {
      "provenance": [],
      "collapsed_sections": [
        "pd8bq6Ugl_B5",
        "JgZ4MyLErW4Q",
        "G7yeVihpuFYr",
        "OxaoTUkPwip4"
      ]
    },
    "kernelspec": {
      "name": "python3",
      "display_name": "Python 3"
    },
    "language_info": {
      "name": "python"
    }
  },
  "cells": [
    {
      "cell_type": "markdown",
      "source": [
        "# **Data Loading**"
      ],
      "metadata": {
        "id": "iDkBVr3twiOc"
      }
    },
    {
      "cell_type": "code",
      "execution_count": 1,
      "metadata": {
        "id": "cMVXx_75rCQU"
      },
      "outputs": [],
      "source": [
        "import pandas as pd\n",
        "import argparse\n",
        "from typing import Dict, Tuple, List\n",
        "\n",
        "import numpy as np\n",
        "from matplotlib import pyplot as plt\n",
        "import seaborn as sns\n"
      ]
    },
    {
      "cell_type": "code",
      "source": [
        "from google.colab import drive\n",
        "drive.mount('/content/drive')"
      ],
      "metadata": {
        "colab": {
          "base_uri": "https://localhost:8080/"
        },
        "id": "XW5DaY1MgNTN",
        "outputId": "ed77a233-0817-4e9c-95d4-a1d67dff6609"
      },
      "execution_count": 2,
      "outputs": [
        {
          "output_type": "stream",
          "name": "stdout",
          "text": [
            "Drive already mounted at /content/drive; to attempt to forcibly remount, call drive.mount(\"/content/drive\", force_remount=True).\n"
          ]
        }
      ]
    },
    {
      "cell_type": "code",
      "source": [
        "Manhattan_data = pd.read_csv(\"/content/drive/MyDrive/ReVolt code/Manhattan\")\n",
        "Manhattan_data.head()"
      ],
      "metadata": {
        "colab": {
          "base_uri": "https://localhost:8080/",
          "height": 206
        },
        "id": "5HyWzJM7rMCu",
        "outputId": "7894e71c-b36f-419d-8fa6-f1d24541cf5a"
      },
      "execution_count": 3,
      "outputs": [
        {
          "output_type": "execute_result",
          "data": {
            "text/plain": [
              "   Unnamed: 0  Unnamed: 0.1  Degrees     Time     Speed  Energycons     EProp  \\\n",
              "0        8882          8882      0.0   0.0000  0.000000         NaN   0.00000   \n",
              "1        8883          8883      0.1   4.4742  0.000000         inf   0.00000   \n",
              "2        8884          8884     20.0  10.3730  0.032439  23479000.0   1.79500   \n",
              "3        8885          8885      0.2  11.6200  0.223520    212580.0   0.25015   \n",
              "4        8886          8886     20.1  13.0010  1.119300     53310.0  76.21000   \n",
              "\n",
              "   E_Aux    HVAC    Power  Regen      SoC driveCycle     city weather  \n",
              "0   5.35  4.2501   9.6001    0.0  100.000  Manhattan  Seattle  Summer  \n",
              "1   5.35  4.2501   9.6001    0.0   99.996  Manhattan  Seattle  Summer  \n",
              "2   5.26  4.2500  11.3050    0.0   99.991  Manhattan  Seattle  Summer  \n",
              "3   5.26  4.2500   9.7601    0.0   99.989  Manhattan  Seattle  Summer  \n",
              "4   5.26  4.2500  85.7200    0.0   99.984  Manhattan  Seattle  Summer  "
            ],
            "text/html": [
              "\n",
              "  <div id=\"df-339effff-b69a-4a1c-9feb-ecd13157e2fc\">\n",
              "    <div class=\"colab-df-container\">\n",
              "      <div>\n",
              "<style scoped>\n",
              "    .dataframe tbody tr th:only-of-type {\n",
              "        vertical-align: middle;\n",
              "    }\n",
              "\n",
              "    .dataframe tbody tr th {\n",
              "        vertical-align: top;\n",
              "    }\n",
              "\n",
              "    .dataframe thead th {\n",
              "        text-align: right;\n",
              "    }\n",
              "</style>\n",
              "<table border=\"1\" class=\"dataframe\">\n",
              "  <thead>\n",
              "    <tr style=\"text-align: right;\">\n",
              "      <th></th>\n",
              "      <th>Unnamed: 0</th>\n",
              "      <th>Unnamed: 0.1</th>\n",
              "      <th>Degrees</th>\n",
              "      <th>Time</th>\n",
              "      <th>Speed</th>\n",
              "      <th>Energycons</th>\n",
              "      <th>EProp</th>\n",
              "      <th>E_Aux</th>\n",
              "      <th>HVAC</th>\n",
              "      <th>Power</th>\n",
              "      <th>Regen</th>\n",
              "      <th>SoC</th>\n",
              "      <th>driveCycle</th>\n",
              "      <th>city</th>\n",
              "      <th>weather</th>\n",
              "    </tr>\n",
              "  </thead>\n",
              "  <tbody>\n",
              "    <tr>\n",
              "      <th>0</th>\n",
              "      <td>8882</td>\n",
              "      <td>8882</td>\n",
              "      <td>0.0</td>\n",
              "      <td>0.0000</td>\n",
              "      <td>0.000000</td>\n",
              "      <td>NaN</td>\n",
              "      <td>0.00000</td>\n",
              "      <td>5.35</td>\n",
              "      <td>4.2501</td>\n",
              "      <td>9.6001</td>\n",
              "      <td>0.0</td>\n",
              "      <td>100.000</td>\n",
              "      <td>Manhattan</td>\n",
              "      <td>Seattle</td>\n",
              "      <td>Summer</td>\n",
              "    </tr>\n",
              "    <tr>\n",
              "      <th>1</th>\n",
              "      <td>8883</td>\n",
              "      <td>8883</td>\n",
              "      <td>0.1</td>\n",
              "      <td>4.4742</td>\n",
              "      <td>0.000000</td>\n",
              "      <td>inf</td>\n",
              "      <td>0.00000</td>\n",
              "      <td>5.35</td>\n",
              "      <td>4.2501</td>\n",
              "      <td>9.6001</td>\n",
              "      <td>0.0</td>\n",
              "      <td>99.996</td>\n",
              "      <td>Manhattan</td>\n",
              "      <td>Seattle</td>\n",
              "      <td>Summer</td>\n",
              "    </tr>\n",
              "    <tr>\n",
              "      <th>2</th>\n",
              "      <td>8884</td>\n",
              "      <td>8884</td>\n",
              "      <td>20.0</td>\n",
              "      <td>10.3730</td>\n",
              "      <td>0.032439</td>\n",
              "      <td>23479000.0</td>\n",
              "      <td>1.79500</td>\n",
              "      <td>5.26</td>\n",
              "      <td>4.2500</td>\n",
              "      <td>11.3050</td>\n",
              "      <td>0.0</td>\n",
              "      <td>99.991</td>\n",
              "      <td>Manhattan</td>\n",
              "      <td>Seattle</td>\n",
              "      <td>Summer</td>\n",
              "    </tr>\n",
              "    <tr>\n",
              "      <th>3</th>\n",
              "      <td>8885</td>\n",
              "      <td>8885</td>\n",
              "      <td>0.2</td>\n",
              "      <td>11.6200</td>\n",
              "      <td>0.223520</td>\n",
              "      <td>212580.0</td>\n",
              "      <td>0.25015</td>\n",
              "      <td>5.26</td>\n",
              "      <td>4.2500</td>\n",
              "      <td>9.7601</td>\n",
              "      <td>0.0</td>\n",
              "      <td>99.989</td>\n",
              "      <td>Manhattan</td>\n",
              "      <td>Seattle</td>\n",
              "      <td>Summer</td>\n",
              "    </tr>\n",
              "    <tr>\n",
              "      <th>4</th>\n",
              "      <td>8886</td>\n",
              "      <td>8886</td>\n",
              "      <td>20.1</td>\n",
              "      <td>13.0010</td>\n",
              "      <td>1.119300</td>\n",
              "      <td>53310.0</td>\n",
              "      <td>76.21000</td>\n",
              "      <td>5.26</td>\n",
              "      <td>4.2500</td>\n",
              "      <td>85.7200</td>\n",
              "      <td>0.0</td>\n",
              "      <td>99.984</td>\n",
              "      <td>Manhattan</td>\n",
              "      <td>Seattle</td>\n",
              "      <td>Summer</td>\n",
              "    </tr>\n",
              "  </tbody>\n",
              "</table>\n",
              "</div>\n",
              "      <button class=\"colab-df-convert\" onclick=\"convertToInteractive('df-339effff-b69a-4a1c-9feb-ecd13157e2fc')\"\n",
              "              title=\"Convert this dataframe to an interactive table.\"\n",
              "              style=\"display:none;\">\n",
              "        \n",
              "  <svg xmlns=\"http://www.w3.org/2000/svg\" height=\"24px\"viewBox=\"0 0 24 24\"\n",
              "       width=\"24px\">\n",
              "    <path d=\"M0 0h24v24H0V0z\" fill=\"none\"/>\n",
              "    <path d=\"M18.56 5.44l.94 2.06.94-2.06 2.06-.94-2.06-.94-.94-2.06-.94 2.06-2.06.94zm-11 1L8.5 8.5l.94-2.06 2.06-.94-2.06-.94L8.5 2.5l-.94 2.06-2.06.94zm10 10l.94 2.06.94-2.06 2.06-.94-2.06-.94-.94-2.06-.94 2.06-2.06.94z\"/><path d=\"M17.41 7.96l-1.37-1.37c-.4-.4-.92-.59-1.43-.59-.52 0-1.04.2-1.43.59L10.3 9.45l-7.72 7.72c-.78.78-.78 2.05 0 2.83L4 21.41c.39.39.9.59 1.41.59.51 0 1.02-.2 1.41-.59l7.78-7.78 2.81-2.81c.8-.78.8-2.07 0-2.86zM5.41 20L4 18.59l7.72-7.72 1.47 1.35L5.41 20z\"/>\n",
              "  </svg>\n",
              "      </button>\n",
              "      \n",
              "  <style>\n",
              "    .colab-df-container {\n",
              "      display:flex;\n",
              "      flex-wrap:wrap;\n",
              "      gap: 12px;\n",
              "    }\n",
              "\n",
              "    .colab-df-convert {\n",
              "      background-color: #E8F0FE;\n",
              "      border: none;\n",
              "      border-radius: 50%;\n",
              "      cursor: pointer;\n",
              "      display: none;\n",
              "      fill: #1967D2;\n",
              "      height: 32px;\n",
              "      padding: 0 0 0 0;\n",
              "      width: 32px;\n",
              "    }\n",
              "\n",
              "    .colab-df-convert:hover {\n",
              "      background-color: #E2EBFA;\n",
              "      box-shadow: 0px 1px 2px rgba(60, 64, 67, 0.3), 0px 1px 3px 1px rgba(60, 64, 67, 0.15);\n",
              "      fill: #174EA6;\n",
              "    }\n",
              "\n",
              "    [theme=dark] .colab-df-convert {\n",
              "      background-color: #3B4455;\n",
              "      fill: #D2E3FC;\n",
              "    }\n",
              "\n",
              "    [theme=dark] .colab-df-convert:hover {\n",
              "      background-color: #434B5C;\n",
              "      box-shadow: 0px 1px 3px 1px rgba(0, 0, 0, 0.15);\n",
              "      filter: drop-shadow(0px 1px 2px rgba(0, 0, 0, 0.3));\n",
              "      fill: #FFFFFF;\n",
              "    }\n",
              "  </style>\n",
              "\n",
              "      <script>\n",
              "        const buttonEl =\n",
              "          document.querySelector('#df-339effff-b69a-4a1c-9feb-ecd13157e2fc button.colab-df-convert');\n",
              "        buttonEl.style.display =\n",
              "          google.colab.kernel.accessAllowed ? 'block' : 'none';\n",
              "\n",
              "        async function convertToInteractive(key) {\n",
              "          const element = document.querySelector('#df-339effff-b69a-4a1c-9feb-ecd13157e2fc');\n",
              "          const dataTable =\n",
              "            await google.colab.kernel.invokeFunction('convertToInteractive',\n",
              "                                                     [key], {});\n",
              "          if (!dataTable) return;\n",
              "\n",
              "          const docLinkHtml = 'Like what you see? Visit the ' +\n",
              "            '<a target=\"_blank\" href=https://colab.research.google.com/notebooks/data_table.ipynb>data table notebook</a>'\n",
              "            + ' to learn more about interactive tables.';\n",
              "          element.innerHTML = '';\n",
              "          dataTable['output_type'] = 'display_data';\n",
              "          await google.colab.output.renderOutput(dataTable, element);\n",
              "          const docLink = document.createElement('div');\n",
              "          docLink.innerHTML = docLinkHtml;\n",
              "          element.appendChild(docLink);\n",
              "        }\n",
              "      </script>\n",
              "    </div>\n",
              "  </div>\n",
              "  "
            ]
          },
          "metadata": {},
          "execution_count": 3
        }
      ]
    },
    {
      "cell_type": "code",
      "source": [
        "Manhattan_data.shape"
      ],
      "metadata": {
        "colab": {
          "base_uri": "https://localhost:8080/"
        },
        "id": "bgScmOJqtiHt",
        "outputId": "39c7fb96-9f7a-4c3d-8330-b44dcffdde14"
      },
      "execution_count": 4,
      "outputs": [
        {
          "output_type": "execute_result",
          "data": {
            "text/plain": [
              "(6917, 15)"
            ]
          },
          "metadata": {},
          "execution_count": 4
        }
      ]
    },
    {
      "cell_type": "markdown",
      "source": [
        "# **Data Cleaning**"
      ],
      "metadata": {
        "id": "IX8kmZbAwptu"
      }
    },
    {
      "cell_type": "markdown",
      "source": [
        "Let's add dummies for weather so it will give 0 for summer and 1 for winter, as it will be easier to segregate the data based on seasons for our analysis to compare and contrast."
      ],
      "metadata": {
        "id": "rO5nqUNIhdT2"
      }
    },
    {
      "cell_type": "code",
      "source": [
        "# Creating a dummy variable for the variable 'city' and dropping the first one.\n",
        "#city_dummy = pd.get_dummies(UDDS_data['city'],prefix='city',drop_first=False)\n",
        "#Adding the results to the master dataframe\n",
        "#UD_data = pd.concat([UDDS_data,city_dummy],axis=1)\n",
        "\n",
        "# Creating a dummy variable for the variable 'weather' and dropping the first one.\n",
        "weather_dummy = pd.get_dummies(Manhattan_data['weather'],prefix='weather',drop_first=True)\n",
        "#Adding the results to the master dataframe\n",
        "M_data = pd.concat([Manhattan_data,weather_dummy],axis=1)"
      ],
      "metadata": {
        "id": "gHTfW8Uxsh8o"
      },
      "execution_count": 5,
      "outputs": []
    },
    {
      "cell_type": "code",
      "source": [
        "M_data.columns"
      ],
      "metadata": {
        "colab": {
          "base_uri": "https://localhost:8080/"
        },
        "id": "IZ12wHadtgVu",
        "outputId": "9b842fe8-6ec6-4426-e113-fbced8fb6ee1"
      },
      "execution_count": 6,
      "outputs": [
        {
          "output_type": "execute_result",
          "data": {
            "text/plain": [
              "Index(['Unnamed: 0', 'Unnamed: 0.1', 'Degrees', 'Time', 'Speed', 'Energycons',\n",
              "       'EProp', 'E_Aux', 'HVAC', 'Power', 'Regen', 'SoC', 'driveCycle', 'city',\n",
              "       'weather', 'weather_Winter'],\n",
              "      dtype='object')"
            ]
          },
          "metadata": {},
          "execution_count": 6
        }
      ]
    },
    {
      "cell_type": "markdown",
      "source": [
        "Removing drivecycle and weather columns as we have already reproduced our data in such a way that one file is related to one drive cycle and we have our dummy for weather."
      ],
      "metadata": {
        "id": "ys82B4s-iDPh"
      }
    },
    {
      "cell_type": "code",
      "source": [
        "M_data.drop(columns=['weather','driveCycle','Unnamed: 0','Unnamed: 0.1'],inplace=True)"
      ],
      "metadata": {
        "id": "wixthnI8rtS6"
      },
      "execution_count": 7,
      "outputs": []
    },
    {
      "cell_type": "code",
      "source": [
        "M_data.shape"
      ],
      "metadata": {
        "colab": {
          "base_uri": "https://localhost:8080/"
        },
        "id": "xJdTHHjIuVQL",
        "outputId": "46229883-6131-44a5-f2bf-6bdb26e6e48d"
      },
      "execution_count": 8,
      "outputs": [
        {
          "output_type": "execute_result",
          "data": {
            "text/plain": [
              "(6917, 12)"
            ]
          },
          "metadata": {},
          "execution_count": 8
        }
      ]
    },
    {
      "cell_type": "markdown",
      "source": [
        "Check for any null values :"
      ],
      "metadata": {
        "id": "sgnfEmUeu92k"
      }
    },
    {
      "cell_type": "code",
      "source": [
        "M_nocity_data = M_data[['Degrees', 'Time', 'Speed', 'Energycons',\n",
        "       'EProp', 'E_Aux', 'HVAC', 'Power', 'Regen', 'SoC','weather_Winter']]\n",
        "df =M_nocity_data.columns.to_series()[np.isnan(M_nocity_data).any()]\n",
        "df1 =M_nocity_data.columns.to_series()[np.isinf(M_nocity_data).any()]\n",
        "print(df, df1)"
      ],
      "metadata": {
        "colab": {
          "base_uri": "https://localhost:8080/"
        },
        "id": "NIR-_Judu1ed",
        "outputId": "9e6c6473-e51e-4568-b0f5-63293ab47601"
      },
      "execution_count": 9,
      "outputs": [
        {
          "output_type": "stream",
          "name": "stdout",
          "text": [
            "Energycons    Energycons\n",
            "dtype: object Energycons    Energycons\n",
            "dtype: object\n"
          ]
        }
      ]
    },
    {
      "cell_type": "markdown",
      "source": [
        "Only Energycons contain both Nan and inf values, so first we'll replace inf values with nan and check how much of the data will be effected."
      ],
      "metadata": {
        "id": "n1DkAvELa4JH"
      }
    },
    {
      "cell_type": "code",
      "source": [
        "M_data.replace(np.inf, np.nan, inplace=True)\n",
        "\n",
        "100* M_data.isnull().sum() / M_data.shape[0]"
      ],
      "metadata": {
        "colab": {
          "base_uri": "https://localhost:8080/"
        },
        "id": "iW_utDKjbJch",
        "outputId": "b2e2986e-b5e4-41f0-9c56-d7fd55bc3182"
      },
      "execution_count": 10,
      "outputs": [
        {
          "output_type": "execute_result",
          "data": {
            "text/plain": [
              "Degrees           0.000000\n",
              "Time              0.000000\n",
              "Speed             0.000000\n",
              "Energycons        0.795142\n",
              "EProp             0.000000\n",
              "E_Aux             0.000000\n",
              "HVAC              0.000000\n",
              "Power             0.000000\n",
              "Regen             0.000000\n",
              "SoC               0.000000\n",
              "city              0.000000\n",
              "weather_Winter    0.000000\n",
              "dtype: float64"
            ]
          },
          "metadata": {},
          "execution_count": 10
        }
      ]
    },
    {
      "cell_type": "markdown",
      "source": [
        "Energycons consists of 0.7% data of nan values, when combined with 10 cities, so per city with a particular season, removing those values might effect the regression analysis. Hence let's just replace nan values with 0 and continue with the analysis.\n",
        "\n"
      ],
      "metadata": {
        "id": "weuuIfljvJgc"
      }
    },
    {
      "cell_type": "code",
      "source": [
        "M_data.fillna(0,inplace = True)"
      ],
      "metadata": {
        "id": "KTZrBB0Iu1hO"
      },
      "execution_count": 11,
      "outputs": []
    },
    {
      "cell_type": "code",
      "source": [
        "M_data.shape"
      ],
      "metadata": {
        "colab": {
          "base_uri": "https://localhost:8080/"
        },
        "id": "9X-_894avfav",
        "outputId": "b13aeb5d-44cf-4d6a-80be-e865322a9dc7"
      },
      "execution_count": 12,
      "outputs": [
        {
          "output_type": "execute_result",
          "data": {
            "text/plain": [
              "(6917, 12)"
            ]
          },
          "metadata": {},
          "execution_count": 12
        }
      ]
    },
    {
      "cell_type": "code",
      "source": [
        "M_data.to_csv(\"Manhattan_final.csv\")"
      ],
      "metadata": {
        "id": "7AMURILawUws"
      },
      "execution_count": 13,
      "outputs": []
    },
    {
      "cell_type": "markdown",
      "source": [
        "The resulting data set has been given the name Manhattan_final.csv"
      ],
      "metadata": {
        "id": "LzvBFCAjwejs"
      }
    },
    {
      "cell_type": "markdown",
      "source": [
        "# **Data Understanding**"
      ],
      "metadata": {
        "id": "kX0y2gzf-8QK"
      }
    },
    {
      "cell_type": "markdown",
      "source": [
        "Let's check how dependent are the variables on each other using correlation."
      ],
      "metadata": {
        "id": "JhLiHgBQ_DGj"
      }
    },
    {
      "cell_type": "code",
      "source": [
        "#plotting the heatmap for correlation\n",
        "hm = sns.heatmap(M_data.corr(), annot=True)"
      ],
      "metadata": {
        "id": "9Gi-74Jy_NnF",
        "colab": {
          "base_uri": "https://localhost:8080/",
          "height": 338
        },
        "outputId": "25ddfe3b-017e-4852-d66c-311813aa2c3f"
      },
      "execution_count": 14,
      "outputs": [
        {
          "output_type": "display_data",
          "data": {
            "text/plain": [
              "<Figure size 432x288 with 2 Axes>"
            ],
            "image/png": "[encoded data removed]"
          },
          "metadata": {
            "needs_background": "light"
          }
        }
      ]
    },
    {
      "cell_type": "markdown",
      "source": [
        "The heatmap suggest that power is dependent on Eprop stronger than that of how it is dependent on degrees. We can predict that this can be because the power is the summation of  E-prop,E-Aux & HVAC. \n"
      ],
      "metadata": {
        "id": "FK4LhHiDGe0t"
      }
    },
    {
      "cell_type": "markdown",
      "source": [
        "# **Data Modeling**"
      ],
      "metadata": {
        "id": "9tvH6CQnwzr_"
      }
    },
    {
      "cell_type": "markdown",
      "source": [
        "Converting the data into Predictor and response sets. Where, the data in X, is used to regress on and the data is y is the dependent varibles and are true output varibles."
      ],
      "metadata": {
        "id": "UtKDyV7WyvAR"
      }
    },
    {
      "cell_type": "code",
      "source": [
        "from sklearn.linear_model import LinearRegression\n",
        "from sklearn.multioutput import MultiOutputRegressor\n",
        "from sklearn.neighbors import KNeighborsRegressor\n",
        "from sklearn.ensemble import RandomForestRegressor\n",
        "from sklearn.svm import LinearSVR\n",
        "\n",
        "from sklearn.metrics import mean_absolute_error, mean_absolute_percentage_error, mean_squared_error, r2_score\n",
        "import xgboost as xgb\n",
        "from sklearn.preprocessing import MinMaxScaler\n",
        "\n",
        "from pandas.core.base import NoNewAttributesMixin\n"
      ],
      "metadata": {
        "id": "udhndHnhzOMc"
      },
      "execution_count": 15,
      "outputs": []
    },
    {
      "cell_type": "code",
      "source": [
        "print(M_data['weather_Winter'].unique())"
      ],
      "metadata": {
        "id": "QN-9Tj7CE4Dj",
        "colab": {
          "base_uri": "https://localhost:8080/"
        },
        "outputId": "0c55aec3-37b8-41b2-ebac-5d5f04953df3"
      },
      "execution_count": 16,
      "outputs": [
        {
          "output_type": "stream",
          "name": "stdout",
          "text": [
            "[0 1]\n"
          ]
        }
      ]
    },
    {
      "cell_type": "markdown",
      "source": [
        "splitting data into winter and summer as per seasons respectively"
      ],
      "metadata": {
        "id": "n9fOFmqCmiLI"
      }
    },
    {
      "cell_type": "code",
      "source": [
        "M= M_data.groupby('weather_Winter')\n",
        "M_winter = M.get_group(M_data['weather_Winter'].unique()[1])\n",
        "M_summer = M.get_group(M_data['weather_Winter'].unique()[0])"
      ],
      "metadata": {
        "id": "43xvOgyAAVGZ"
      },
      "execution_count": 17,
      "outputs": []
    },
    {
      "cell_type": "markdown",
      "source": [
        "Train and test split for winter:"
      ],
      "metadata": {
        "id": "imO7GNRkmeDi"
      }
    },
    {
      "cell_type": "code",
      "source": [
        "\n",
        "new_M_winter = M_winter\n",
        "\n",
        "MX_winter = new_M_winter[['Degrees', 'Time', 'Speed','weather_Winter']]\n",
        "\n",
        "\n",
        "MY_winter = new_M_winter[['Energycons', 'EProp', 'E_Aux', 'HVAC',\n",
        "       'Regen', 'SoC']]\n",
        "\n"
      ],
      "metadata": {
        "id": "cLXeZEUgzSmz"
      },
      "execution_count": 18,
      "outputs": []
    },
    {
      "cell_type": "markdown",
      "source": [
        "Train and test data for summer: "
      ],
      "metadata": {
        "id": "1uh7YjygmalC"
      }
    },
    {
      "cell_type": "code",
      "source": [
        "new_M_summer = M_summer\n",
        "\n",
        "MX_summer = new_M_summer[['Degrees', 'Time', 'Speed','weather_Winter']]\n",
        "\n",
        "\n",
        "MY_summer = new_M_summer[['Energycons', 'EProp', 'E_Aux', 'HVAC',\n",
        "       'Regen', 'SoC']]"
      ],
      "metadata": {
        "id": "6o4SZf8ofcC0"
      },
      "execution_count": 19,
      "outputs": []
    },
    {
      "cell_type": "markdown",
      "source": [
        "# Linear Regression For MultiTarget Regression:\n",
        "Applying Linear Regression model and checking the if the prediction is accurate."
      ],
      "metadata": {
        "id": "oSaTFs_FJ43c"
      }
    },
    {
      "cell_type": "markdown",
      "source": [
        "### linear regression for winter of all the cities"
      ],
      "metadata": {
        "id": "nIqX9EkulyTN"
      }
    },
    {
      "cell_type": "code",
      "source": [
        "M_winter_linearmodel = LinearRegression()\n",
        "# fit model\n",
        "M_winter_linearmodel.fit(MX_winter, MY_winter)"
      ],
      "metadata": {
        "id": "42gWohd-J3tZ",
        "colab": {
          "base_uri": "https://localhost:8080/"
        },
        "outputId": "714805a7-7573-492b-ef96-b80c1557bfdf"
      },
      "execution_count": 20,
      "outputs": [
        {
          "output_type": "execute_result",
          "data": {
            "text/plain": [
              "LinearRegression()"
            ]
          },
          "metadata": {},
          "execution_count": 20
        }
      ]
    },
    {
      "cell_type": "code",
      "source": [
        "MY_winter_pred = M_winter_linearmodel.predict(MX_winter)\n",
        "r2_score( np.array(MY_winter), MY_winter_pred,multioutput='uniform_average')"
      ],
      "metadata": {
        "id": "oboXCb8aJ-zd",
        "colab": {
          "base_uri": "https://localhost:8080/"
        },
        "outputId": "8776b308-ccca-4953-9247-5dc3e6f5fb92"
      },
      "execution_count": 21,
      "outputs": [
        {
          "output_type": "execute_result",
          "data": {
            "text/plain": [
              "0.3612358804648997"
            ]
          },
          "metadata": {},
          "execution_count": 21
        }
      ]
    },
    {
      "cell_type": "code",
      "source": [
        "mean_absolute_error( MY_winter, MY_winter_pred)"
      ],
      "metadata": {
        "colab": {
          "base_uri": "https://localhost:8080/"
        },
        "id": "lCOueOqClBxB",
        "outputId": "6f850eaf-2205-4f1d-eadc-89304cc5fcb7"
      },
      "execution_count": 22,
      "outputs": [
        {
          "output_type": "execute_result",
          "data": {
            "text/plain": [
              "373187.5179537113"
            ]
          },
          "metadata": {},
          "execution_count": 22
        }
      ]
    },
    {
      "cell_type": "code",
      "source": [
        "mean_absolute_percentage_error( MY_winter, MY_winter_pred)"
      ],
      "metadata": {
        "colab": {
          "base_uri": "https://localhost:8080/"
        },
        "id": "AykQXlhDlCoy",
        "outputId": "c2ded285-71ba-4b4e-a562-4348569c6633"
      },
      "execution_count": 23,
      "outputs": [
        {
          "output_type": "execute_result",
          "data": {
            "text/plain": [
              "1.856859418236129e+19"
            ]
          },
          "metadata": {},
          "execution_count": 23
        }
      ]
    },
    {
      "cell_type": "code",
      "source": [
        "mean_squared_error( MY_winter, MY_winter_pred)"
      ],
      "metadata": {
        "colab": {
          "base_uri": "https://localhost:8080/"
        },
        "id": "lkTBVFewlC_f",
        "outputId": "aef64b4f-958b-40e7-d72d-24f5ece35292"
      },
      "execution_count": 24,
      "outputs": [
        {
          "output_type": "execute_result",
          "data": {
            "text/plain": [
              "291262380016090.7"
            ]
          },
          "metadata": {},
          "execution_count": 24
        }
      ]
    },
    {
      "cell_type": "markdown",
      "source": [
        "### Scaling and plotting for linear regression (winter)"
      ],
      "metadata": {
        "id": "l-DsYt2c-dm-"
      }
    },
    {
      "cell_type": "markdown",
      "source": [
        "As the values are too large, plotting our regression will become more difficult, therefore we will need to scale our values down."
      ],
      "metadata": {
        "id": "oR665gt17536"
      }
    },
    {
      "cell_type": "code",
      "source": [
        "scaler = MinMaxScaler() ##initialize the minmax scaler from sklearn\n",
        "MY_winter = scaler.fit_transform(MY_winter) ## fit transform on train data\n",
        "MY_winter_pred = scaler.fit_transform(MY_winter_pred)\n"
      ],
      "metadata": {
        "id": "Btv5sV_Q7KV-"
      },
      "execution_count": 25,
      "outputs": []
    },
    {
      "cell_type": "code",
      "source": [
        "#plt.plot(UDY_winter, UDY_winter_pred, color=\"b\")\n",
        "\n",
        "ax1 = sns.distplot(MY_winter, color=\"r\", label=\"Actual Value\")\n",
        "sns.distplot(MY_winter_pred, color=\"b\", label=\"Fitted Values\" , ax=ax1)"
      ],
      "metadata": {
        "colab": {
          "base_uri": "https://localhost:8080/",
          "height": 372
        },
        "id": "P35lPbzn4KYK",
        "outputId": "b4ce59bd-7070-4fbe-f6bb-8686b32a35fb"
      },
      "execution_count": 26,
      "outputs": [
        {
          "output_type": "stream",
          "name": "stderr",
          "text": [
            "/usr/local/lib/python3.7/dist-packages/seaborn/distributions.py:2619: FutureWarning: `distplot` is a deprecated function and will be removed in a future version. Please adapt your code to use either `displot` (a figure-level function with similar flexibility) or `histplot` (an axes-level function for histograms).\n",
            "  warnings.warn(msg, FutureWarning)\n",
            "/usr/local/lib/python3.7/dist-packages/seaborn/distributions.py:2619: FutureWarning: `distplot` is a deprecated function and will be removed in a future version. Please adapt your code to use either `displot` (a figure-level function with similar flexibility) or `histplot` (an axes-level function for histograms).\n",
            "  warnings.warn(msg, FutureWarning)\n"
          ]
        },
        {
          "output_type": "execute_result",
          "data": {
            "text/plain": [
              "<matplotlib.axes._subplots.AxesSubplot at 0x7f56f4e75410>"
            ]
          },
          "metadata": {},
          "execution_count": 26
        },
        {
          "output_type": "display_data",
          "data": {
            "text/plain": [
              "<Figure size 432x288 with 1 Axes>"
            ],
            "image/png": "[encoded data removed]"
          },
          "metadata": {
            "needs_background": "light"
          }
        }
      ]
    },
    {
      "cell_type": "markdown",
      "source": [
        "### linear regression for summer of all the cities"
      ],
      "metadata": {
        "id": "xvlsiGPyl6Nw"
      }
    },
    {
      "cell_type": "code",
      "source": [
        "M_summer_linearmodel = LinearRegression()\n",
        "# fit model\n",
        "M_summer_linearmodel.fit(MX_summer, MY_summer)"
      ],
      "metadata": {
        "colab": {
          "base_uri": "https://localhost:8080/"
        },
        "id": "JpBupWhxf1zM",
        "outputId": "ed6e0c11-dc6d-4195-fe6c-e475927c4da4"
      },
      "execution_count": 27,
      "outputs": [
        {
          "output_type": "execute_result",
          "data": {
            "text/plain": [
              "LinearRegression()"
            ]
          },
          "metadata": {},
          "execution_count": 27
        }
      ]
    },
    {
      "cell_type": "code",
      "source": [
        "MY_summer_pred = M_summer_linearmodel.predict(MX_summer)\n",
        "r2_score( np.array(MY_summer), MY_summer_pred,multioutput='uniform_average')"
      ],
      "metadata": {
        "colab": {
          "base_uri": "https://localhost:8080/"
        },
        "id": "ewcv3cJHf-ac",
        "outputId": "4e9ef6d4-da1a-4e00-ba0f-faf7a7b072aa"
      },
      "execution_count": 28,
      "outputs": [
        {
          "output_type": "execute_result",
          "data": {
            "text/plain": [
              "0.38405863241113875"
            ]
          },
          "metadata": {},
          "execution_count": 28
        }
      ]
    },
    {
      "cell_type": "code",
      "source": [
        "mean_absolute_error( MY_summer, MY_summer_pred)"
      ],
      "metadata": {
        "colab": {
          "base_uri": "https://localhost:8080/"
        },
        "id": "LtcMJRJslTSo",
        "outputId": "a3e8ea54-13c3-408e-c491-ed25d5669eca"
      },
      "execution_count": 29,
      "outputs": [
        {
          "output_type": "execute_result",
          "data": {
            "text/plain": [
              "565449.8184701471"
            ]
          },
          "metadata": {},
          "execution_count": 29
        }
      ]
    },
    {
      "cell_type": "code",
      "source": [
        "mean_absolute_percentage_error( MY_summer, MY_summer_pred)"
      ],
      "metadata": {
        "colab": {
          "base_uri": "https://localhost:8080/"
        },
        "id": "MtecUuzHlTWc",
        "outputId": "1b647af1-6feb-444b-8330-cac870fb334a"
      },
      "execution_count": 30,
      "outputs": [
        {
          "output_type": "execute_result",
          "data": {
            "text/plain": [
              "2.7032944976687624e+19"
            ]
          },
          "metadata": {},
          "execution_count": 30
        }
      ]
    },
    {
      "cell_type": "code",
      "source": [
        "mean_squared_error( MY_summer, MY_summer_pred)"
      ],
      "metadata": {
        "colab": {
          "base_uri": "https://localhost:8080/"
        },
        "id": "4eXheUTulTfT",
        "outputId": "662ac197-89c9-4892-8b0f-25f7380b7b98"
      },
      "execution_count": 31,
      "outputs": [
        {
          "output_type": "execute_result",
          "data": {
            "text/plain": [
              "366595218451179.4"
            ]
          },
          "metadata": {},
          "execution_count": 31
        }
      ]
    },
    {
      "cell_type": "markdown",
      "source": [
        "###Scaling values and plotting: linear regression graph (summer)"
      ],
      "metadata": {
        "id": "jSpzdPw-8z9Q"
      }
    },
    {
      "cell_type": "code",
      "source": [
        "MY_summer = scaler.fit_transform( MY_summer) ## fit transform on train data\n",
        "MY_summer_pred = scaler.fit_transform(MY_summer_pred)"
      ],
      "metadata": {
        "id": "whCJTCLF8ylm"
      },
      "execution_count": 32,
      "outputs": []
    },
    {
      "cell_type": "code",
      "source": [
        "ax1 = sns.distplot(MY_summer, color=\"r\", label=\"Actual Value\")\n",
        "sns.distplot(MY_summer_pred, color=\"b\", label=\"Fitted Values\" , ax=ax1)"
      ],
      "metadata": {
        "colab": {
          "base_uri": "https://localhost:8080/",
          "height": 372
        },
        "id": "AzaTWZu09AXD",
        "outputId": "279099b0-8030-43f2-ded3-77ee44c62d62"
      },
      "execution_count": 33,
      "outputs": [
        {
          "output_type": "stream",
          "name": "stderr",
          "text": [
            "/usr/local/lib/python3.7/dist-packages/seaborn/distributions.py:2619: FutureWarning: `distplot` is a deprecated function and will be removed in a future version. Please adapt your code to use either `displot` (a figure-level function with similar flexibility) or `histplot` (an axes-level function for histograms).\n",
            "  warnings.warn(msg, FutureWarning)\n",
            "/usr/local/lib/python3.7/dist-packages/seaborn/distributions.py:2619: FutureWarning: `distplot` is a deprecated function and will be removed in a future version. Please adapt your code to use either `displot` (a figure-level function with similar flexibility) or `histplot` (an axes-level function for histograms).\n",
            "  warnings.warn(msg, FutureWarning)\n"
          ]
        },
        {
          "output_type": "execute_result",
          "data": {
            "text/plain": [
              "<matplotlib.axes._subplots.AxesSubplot at 0x7f56f4d3f090>"
            ]
          },
          "metadata": {},
          "execution_count": 33
        },
        {
          "output_type": "display_data",
          "data": {
            "text/plain": [
              "<Figure size 432x288 with 1 Axes>"
            ],
            "image/png": "[encoded data removed]"
          },
          "metadata": {
            "needs_background": "light"
          }
        }
      ]
    },
    {
      "cell_type": "markdown",
      "source": [
        "### Conclusion for linear regression :\n",
        "\n",
        "Clearly, linear regression is not an accurate model for both summer and winter data. My guess here is that the variables are not as dependent as they must be for a linear regression to work."
      ],
      "metadata": {
        "id": "pd8bq6Ugl_B5"
      }
    },
    {
      "cell_type": "markdown",
      "source": [
        "# **KNN for multioutput Regression**"
      ],
      "metadata": {
        "id": "ZtHcDLZmo90v"
      }
    },
    {
      "cell_type": "markdown",
      "source": [
        "### KNN for winter of all the cities"
      ],
      "metadata": {
        "id": "5R4glefFrKx6"
      }
    },
    {
      "cell_type": "code",
      "source": [
        "KNNmodel = KNeighborsRegressor()\n",
        "# fit model\n",
        "KNNmodel.fit(MX_winter, MY_winter)"
      ],
      "metadata": {
        "colab": {
          "base_uri": "https://localhost:8080/"
        },
        "id": "bm82RicJpFwg",
        "outputId": "10e4f99f-dff8-4d00-9474-6391129a9c7d"
      },
      "execution_count": 34,
      "outputs": [
        {
          "output_type": "execute_result",
          "data": {
            "text/plain": [
              "KNeighborsRegressor()"
            ]
          },
          "metadata": {},
          "execution_count": 34
        }
      ]
    },
    {
      "cell_type": "code",
      "source": [
        "MY_winter_KNNY_pred = KNNmodel.predict(MX_winter)\n",
        "r2_score( np.array(MY_winter), MY_winter_KNNY_pred,multioutput='uniform_average')"
      ],
      "metadata": {
        "colab": {
          "base_uri": "https://localhost:8080/"
        },
        "id": "EldBF_9fpK8i",
        "outputId": "373ac82b-4238-403a-982d-45237e1f8576"
      },
      "execution_count": 35,
      "outputs": [
        {
          "output_type": "execute_result",
          "data": {
            "text/plain": [
              "0.6905626217228663"
            ]
          },
          "metadata": {},
          "execution_count": 35
        }
      ]
    },
    {
      "cell_type": "code",
      "source": [
        "mean_absolute_error( MY_winter, MY_winter_KNNY_pred)"
      ],
      "metadata": {
        "colab": {
          "base_uri": "https://localhost:8080/"
        },
        "id": "uXYM530apLHJ",
        "outputId": "b3ac6f36-f784-4ea6-e785-03043622d470"
      },
      "execution_count": 36,
      "outputs": [
        {
          "output_type": "execute_result",
          "data": {
            "text/plain": [
              "0.04998269918868018"
            ]
          },
          "metadata": {},
          "execution_count": 36
        }
      ]
    },
    {
      "cell_type": "code",
      "source": [
        "mean_absolute_percentage_error( MY_winter, MY_winter_KNNY_pred)"
      ],
      "metadata": {
        "colab": {
          "base_uri": "https://localhost:8080/"
        },
        "id": "HJgvgo22pLJj",
        "outputId": "55086d2f-aa38-446d-f4e9-d3127227541e"
      },
      "execution_count": 37,
      "outputs": [
        {
          "output_type": "execute_result",
          "data": {
            "text/plain": [
              "16838677365192.703"
            ]
          },
          "metadata": {},
          "execution_count": 37
        }
      ]
    },
    {
      "cell_type": "code",
      "source": [
        "mean_squared_error( MY_winter, MY_winter_KNNY_pred)"
      ],
      "metadata": {
        "colab": {
          "base_uri": "https://localhost:8080/"
        },
        "id": "pRlWX_e4pLMf",
        "outputId": "37c8244e-9e9b-4479-d36f-e2f6d0dfb17c"
      },
      "execution_count": 38,
      "outputs": [
        {
          "output_type": "execute_result",
          "data": {
            "text/plain": [
              "0.01509517070838883"
            ]
          },
          "metadata": {},
          "execution_count": 38
        }
      ]
    },
    {
      "cell_type": "markdown",
      "source": [
        "### Scaling and plotting for KNN (winter)"
      ],
      "metadata": {
        "id": "Sfv8GK3M90X4"
      }
    },
    {
      "cell_type": "code",
      "source": [
        "NYB_winter_KNNY_pred = scaler.fit_transform(MY_winter_KNNY_pred)"
      ],
      "metadata": {
        "id": "-DP1R6SA9Vgo"
      },
      "execution_count": 39,
      "outputs": []
    },
    {
      "cell_type": "code",
      "source": [
        "ax1 = sns.distplot(MY_winter, color=\"r\", label=\"Actual Value\")\n",
        "sns.distplot(MY_winter_KNNY_pred, color=\"b\", label=\"Fitted Values\" , ax=ax1)"
      ],
      "metadata": {
        "colab": {
          "base_uri": "https://localhost:8080/",
          "height": 372
        },
        "id": "ZAoNqUE49Wx7",
        "outputId": "b0a6e5f3-b2f9-4184-c867-15c35687f735"
      },
      "execution_count": 40,
      "outputs": [
        {
          "output_type": "stream",
          "name": "stderr",
          "text": [
            "/usr/local/lib/python3.7/dist-packages/seaborn/distributions.py:2619: FutureWarning: `distplot` is a deprecated function and will be removed in a future version. Please adapt your code to use either `displot` (a figure-level function with similar flexibility) or `histplot` (an axes-level function for histograms).\n",
            "  warnings.warn(msg, FutureWarning)\n",
            "/usr/local/lib/python3.7/dist-packages/seaborn/distributions.py:2619: FutureWarning: `distplot` is a deprecated function and will be removed in a future version. Please adapt your code to use either `displot` (a figure-level function with similar flexibility) or `histplot` (an axes-level function for histograms).\n",
            "  warnings.warn(msg, FutureWarning)\n"
          ]
        },
        {
          "output_type": "execute_result",
          "data": {
            "text/plain": [
              "<matplotlib.axes._subplots.AxesSubplot at 0x7f56f4c40290>"
            ]
          },
          "metadata": {},
          "execution_count": 40
        },
        {
          "output_type": "display_data",
          "data": {
            "text/plain": [
              "<Figure size 432x288 with 1 Axes>"
            ],
            "image/png": "[encoded data removed]"
          },
          "metadata": {
            "needs_background": "light"
          }
        }
      ]
    },
    {
      "cell_type": "markdown",
      "source": [
        "### KNN for summer of all the cities"
      ],
      "metadata": {
        "id": "CACBETNCrRlL"
      }
    },
    {
      "cell_type": "code",
      "source": [
        "# fit model\n",
        "KNNmodel.fit(MX_summer, MY_summer)"
      ],
      "metadata": {
        "colab": {
          "base_uri": "https://localhost:8080/"
        },
        "id": "06EnioK1qGcN",
        "outputId": "323fa0e7-23ec-48dd-9793-5528161e0425"
      },
      "execution_count": 41,
      "outputs": [
        {
          "output_type": "execute_result",
          "data": {
            "text/plain": [
              "KNeighborsRegressor()"
            ]
          },
          "metadata": {},
          "execution_count": 41
        }
      ]
    },
    {
      "cell_type": "code",
      "source": [
        "MY_summer_KNNY_pred = KNNmodel.predict(MX_summer)\n",
        "r2_score( np.array(MY_summer), MY_summer_KNNY_pred,multioutput='uniform_average')"
      ],
      "metadata": {
        "colab": {
          "base_uri": "https://localhost:8080/"
        },
        "id": "ZTKMqypNqGtf",
        "outputId": "f566d4b1-e018-4d88-d1d8-d1f4859db7d6"
      },
      "execution_count": 42,
      "outputs": [
        {
          "output_type": "execute_result",
          "data": {
            "text/plain": [
              "0.746350079793468"
            ]
          },
          "metadata": {},
          "execution_count": 42
        }
      ]
    },
    {
      "cell_type": "code",
      "source": [
        "mean_absolute_error( MY_summer, MY_summer_KNNY_pred)"
      ],
      "metadata": {
        "colab": {
          "base_uri": "https://localhost:8080/"
        },
        "id": "NPBz4KjbqG19",
        "outputId": "55c63ef3-3a0b-41f3-a60e-eb00ef419fd8"
      },
      "execution_count": 43,
      "outputs": [
        {
          "output_type": "execute_result",
          "data": {
            "text/plain": [
              "0.03635112395807965"
            ]
          },
          "metadata": {},
          "execution_count": 43
        }
      ]
    },
    {
      "cell_type": "code",
      "source": [
        "mean_absolute_percentage_error( MY_summer, MY_summer_KNNY_pred)"
      ],
      "metadata": {
        "colab": {
          "base_uri": "https://localhost:8080/"
        },
        "id": "QnYgj3oiqG4b",
        "outputId": "f6a3f415-a1d0-42aa-e294-05bcadbc27eb"
      },
      "execution_count": 44,
      "outputs": [
        {
          "output_type": "execute_result",
          "data": {
            "text/plain": [
              "24357619118517.566"
            ]
          },
          "metadata": {},
          "execution_count": 44
        }
      ]
    },
    {
      "cell_type": "code",
      "source": [
        "mean_squared_error( MY_summer, MY_summer_KNNY_pred)"
      ],
      "metadata": {
        "colab": {
          "base_uri": "https://localhost:8080/"
        },
        "id": "njuGH4pIqG8a",
        "outputId": "72781382-bae3-47ec-fa7f-ed5333519cda"
      },
      "execution_count": 45,
      "outputs": [
        {
          "output_type": "execute_result",
          "data": {
            "text/plain": [
              "0.010773546835821782"
            ]
          },
          "metadata": {},
          "execution_count": 45
        }
      ]
    },
    {
      "cell_type": "markdown",
      "source": [
        "### Scaling and plotting for KNN (summer)"
      ],
      "metadata": {
        "id": "hR7C7JB--DTc"
      }
    },
    {
      "cell_type": "code",
      "source": [
        "MY_summer_KNNY_pred = scaler.fit_transform(MY_summer_KNNY_pred)"
      ],
      "metadata": {
        "id": "eqaWOQbA9aRJ"
      },
      "execution_count": 46,
      "outputs": []
    },
    {
      "cell_type": "code",
      "source": [
        "ax1 = sns.distplot(MY_summer, color=\"r\", label=\"Actual Value\")\n",
        "sns.distplot(MY_summer_KNNY_pred, color=\"b\", label=\"Fitted Values\" , ax=ax1)"
      ],
      "metadata": {
        "colab": {
          "base_uri": "https://localhost:8080/",
          "height": 372
        },
        "id": "TYKpgsou9bVa",
        "outputId": "f5701a80-0971-4140-a474-100020f492fe"
      },
      "execution_count": 47,
      "outputs": [
        {
          "output_type": "stream",
          "name": "stderr",
          "text": [
            "/usr/local/lib/python3.7/dist-packages/seaborn/distributions.py:2619: FutureWarning: `distplot` is a deprecated function and will be removed in a future version. Please adapt your code to use either `displot` (a figure-level function with similar flexibility) or `histplot` (an axes-level function for histograms).\n",
            "  warnings.warn(msg, FutureWarning)\n",
            "/usr/local/lib/python3.7/dist-packages/seaborn/distributions.py:2619: FutureWarning: `distplot` is a deprecated function and will be removed in a future version. Please adapt your code to use either `displot` (a figure-level function with similar flexibility) or `histplot` (an axes-level function for histograms).\n",
            "  warnings.warn(msg, FutureWarning)\n"
          ]
        },
        {
          "output_type": "execute_result",
          "data": {
            "text/plain": [
              "<matplotlib.axes._subplots.AxesSubplot at 0x7f56f4b45dd0>"
            ]
          },
          "metadata": {},
          "execution_count": 47
        },
        {
          "output_type": "display_data",
          "data": {
            "text/plain": [
              "<Figure size 432x288 with 1 Axes>"
            ],
            "image/png": "[encoded data removed]"
          },
          "metadata": {
            "needs_background": "light"
          }
        }
      ]
    },
    {
      "cell_type": "markdown",
      "source": [
        "### Conclusion for KNN :\n",
        "\n",
        "KNN seems to be a better model for both summer and winter data when compared to that of linear regression. But, it is not the best model as a single model as it's accuracy is only about 76%."
      ],
      "metadata": {
        "id": "JgZ4MyLErW4Q"
      }
    },
    {
      "cell_type": "markdown",
      "source": [
        "# **Random Forest for multioutput Regression**\n"
      ],
      "metadata": {
        "id": "dA3TW_Gtr3um"
      }
    },
    {
      "cell_type": "markdown",
      "source": [
        "### Random forest for winter of all the cities"
      ],
      "metadata": {
        "id": "38REkVzFr92t"
      }
    },
    {
      "cell_type": "code",
      "source": [
        "RFmodel = RandomForestRegressor()\n",
        "# fit model\n",
        "RFmodel.fit(MX_winter, MY_winter)"
      ],
      "metadata": {
        "colab": {
          "base_uri": "https://localhost:8080/"
        },
        "id": "5n2KI7dFsBUR",
        "outputId": "ba86de8d-e236-434f-d02c-7f68dd1866f0"
      },
      "execution_count": 48,
      "outputs": [
        {
          "output_type": "execute_result",
          "data": {
            "text/plain": [
              "RandomForestRegressor()"
            ]
          },
          "metadata": {},
          "execution_count": 48
        }
      ]
    },
    {
      "cell_type": "code",
      "source": [
        "MY_winter_RFY_pred = RFmodel.predict(MX_winter)\n",
        "r2_score( np.array(MY_winter), MY_winter_RFY_pred,multioutput='uniform_average')"
      ],
      "metadata": {
        "colab": {
          "base_uri": "https://localhost:8080/"
        },
        "id": "d8UA2hVEsBWz",
        "outputId": "3218afcf-7af4-46dd-b77e-53a49560115e"
      },
      "execution_count": 49,
      "outputs": [
        {
          "output_type": "execute_result",
          "data": {
            "text/plain": [
              "0.9240557952359233"
            ]
          },
          "metadata": {},
          "execution_count": 49
        }
      ]
    },
    {
      "cell_type": "code",
      "source": [
        "mean_absolute_error( MY_winter, MY_winter_RFY_pred)"
      ],
      "metadata": {
        "colab": {
          "base_uri": "https://localhost:8080/"
        },
        "id": "oYr46dXbsBaM",
        "outputId": "aae80b0f-d876-4f5e-c2e6-596b6e365386"
      },
      "execution_count": 50,
      "outputs": [
        {
          "output_type": "execute_result",
          "data": {
            "text/plain": [
              "0.021018393391188012"
            ]
          },
          "metadata": {},
          "execution_count": 50
        }
      ]
    },
    {
      "cell_type": "code",
      "source": [
        "mean_absolute_percentage_error( MY_winter, MY_winter_RFY_pred)"
      ],
      "metadata": {
        "colab": {
          "base_uri": "https://localhost:8080/"
        },
        "id": "KuZphopAsBlY",
        "outputId": "3ca14580-f983-46fd-da6f-ce9aae005ab0"
      },
      "execution_count": 51,
      "outputs": [
        {
          "output_type": "execute_result",
          "data": {
            "text/plain": [
              "5997830107732.522"
            ]
          },
          "metadata": {},
          "execution_count": 51
        }
      ]
    },
    {
      "cell_type": "code",
      "source": [
        "mean_squared_error( MY_winter, MY_winter_RFY_pred)"
      ],
      "metadata": {
        "colab": {
          "base_uri": "https://localhost:8080/"
        },
        "id": "SOx9fe0msB24",
        "outputId": "f6f391e8-21f7-4ea3-db57-952017a40064"
      },
      "execution_count": 52,
      "outputs": [
        {
          "output_type": "execute_result",
          "data": {
            "text/plain": [
              "0.002775620688063625"
            ]
          },
          "metadata": {},
          "execution_count": 52
        }
      ]
    },
    {
      "cell_type": "markdown",
      "source": [
        "### Scaling and plotting for Random forest (winter)"
      ],
      "metadata": {
        "id": "AmobSUlr-8z3"
      }
    },
    {
      "cell_type": "code",
      "source": [
        "MY_winter_RFY_pred = scaler.fit_transform(MY_winter_RFY_pred)"
      ],
      "metadata": {
        "id": "TLE0S0Vi-7YF"
      },
      "execution_count": 53,
      "outputs": []
    },
    {
      "cell_type": "code",
      "source": [
        "ax1 = sns.distplot(MY_winter, color=\"r\", label=\"Actual Value\")\n",
        "sns.distplot(MY_winter_RFY_pred, color=\"b\", label=\"Fitted Values\" , ax=ax1)"
      ],
      "metadata": {
        "colab": {
          "base_uri": "https://localhost:8080/",
          "height": 372
        },
        "id": "KEU3CbXY-8Ho",
        "outputId": "bc554634-39bb-48e1-f531-37c0231cb6b7"
      },
      "execution_count": 54,
      "outputs": [
        {
          "output_type": "stream",
          "name": "stderr",
          "text": [
            "/usr/local/lib/python3.7/dist-packages/seaborn/distributions.py:2619: FutureWarning: `distplot` is a deprecated function and will be removed in a future version. Please adapt your code to use either `displot` (a figure-level function with similar flexibility) or `histplot` (an axes-level function for histograms).\n",
            "  warnings.warn(msg, FutureWarning)\n",
            "/usr/local/lib/python3.7/dist-packages/seaborn/distributions.py:2619: FutureWarning: `distplot` is a deprecated function and will be removed in a future version. Please adapt your code to use either `displot` (a figure-level function with similar flexibility) or `histplot` (an axes-level function for histograms).\n",
            "  warnings.warn(msg, FutureWarning)\n"
          ]
        },
        {
          "output_type": "execute_result",
          "data": {
            "text/plain": [
              "<matplotlib.axes._subplots.AxesSubplot at 0x7f56f4d8c490>"
            ]
          },
          "metadata": {},
          "execution_count": 54
        },
        {
          "output_type": "display_data",
          "data": {
            "text/plain": [
              "<Figure size 432x288 with 1 Axes>"
            ],
            "image/png": "[encoded data removed]"
          },
          "metadata": {
            "needs_background": "light"
          }
        }
      ]
    },
    {
      "cell_type": "markdown",
      "source": [
        "### Random forest for summer of all the cities"
      ],
      "metadata": {
        "id": "fA6WNd8CsGYL"
      }
    },
    {
      "cell_type": "code",
      "source": [
        "RFmodel.fit(MX_summer, MY_summer)"
      ],
      "metadata": {
        "colab": {
          "base_uri": "https://localhost:8080/"
        },
        "id": "-bSGFHq0sB42",
        "outputId": "22ffbf4a-3f31-44db-ed3b-638a89bd50f7"
      },
      "execution_count": 55,
      "outputs": [
        {
          "output_type": "execute_result",
          "data": {
            "text/plain": [
              "RandomForestRegressor()"
            ]
          },
          "metadata": {},
          "execution_count": 55
        }
      ]
    },
    {
      "cell_type": "code",
      "source": [
        "M_summer_RFY_pred = RFmodel.predict(MX_summer)\n",
        "r2_score( np.array(MY_summer), M_summer_RFY_pred,multioutput='uniform_average')"
      ],
      "metadata": {
        "colab": {
          "base_uri": "https://localhost:8080/"
        },
        "id": "t72BbtsksB75",
        "outputId": "01777df2-6831-49bd-d5de-bd9da43f2365"
      },
      "execution_count": 56,
      "outputs": [
        {
          "output_type": "execute_result",
          "data": {
            "text/plain": [
              "0.954876295001705"
            ]
          },
          "metadata": {},
          "execution_count": 56
        }
      ]
    },
    {
      "cell_type": "code",
      "source": [
        "mean_absolute_error( MY_summer, M_summer_RFY_pred)"
      ],
      "metadata": {
        "colab": {
          "base_uri": "https://localhost:8080/"
        },
        "id": "Kmgif-rPsB_E",
        "outputId": "edf7c00b-bde2-475e-9cdc-b322b06245d7"
      },
      "execution_count": 57,
      "outputs": [
        {
          "output_type": "execute_result",
          "data": {
            "text/plain": [
              "0.0141731385962569"
            ]
          },
          "metadata": {},
          "execution_count": 57
        }
      ]
    },
    {
      "cell_type": "code",
      "source": [
        "mean_absolute_percentage_error( MY_summer, M_summer_RFY_pred)\n"
      ],
      "metadata": {
        "colab": {
          "base_uri": "https://localhost:8080/"
        },
        "id": "dIZJBC1mssH5",
        "outputId": "b2cac7c1-1269-4699-8270-8844e2bb28d6"
      },
      "execution_count": 58,
      "outputs": [
        {
          "output_type": "execute_result",
          "data": {
            "text/plain": [
              "11031234808465.414"
            ]
          },
          "metadata": {},
          "execution_count": 58
        }
      ]
    },
    {
      "cell_type": "code",
      "source": [
        "mean_squared_error( MY_summer, M_summer_RFY_pred)"
      ],
      "metadata": {
        "colab": {
          "base_uri": "https://localhost:8080/"
        },
        "id": "gTcL1fakssKt",
        "outputId": "17b2d052-16f5-416a-c580-90279d87f423"
      },
      "execution_count": 59,
      "outputs": [
        {
          "output_type": "execute_result",
          "data": {
            "text/plain": [
              "0.0019585733188700444"
            ]
          },
          "metadata": {},
          "execution_count": 59
        }
      ]
    },
    {
      "cell_type": "markdown",
      "source": [
        "### Scaling and plotting for Random forest (summer)"
      ],
      "metadata": {
        "id": "D15vJrBi_UBH"
      }
    },
    {
      "cell_type": "code",
      "source": [
        "M_summer_RFY_pred = scaler.fit_transform(M_summer_RFY_pred)"
      ],
      "metadata": {
        "id": "VaVjiAmv_Tp2"
      },
      "execution_count": 60,
      "outputs": []
    },
    {
      "cell_type": "code",
      "source": [
        "ax1 = sns.distplot(MY_summer, color=\"r\", label=\"Actual Value\")\n",
        "sns.distplot(M_summer_RFY_pred, color=\"b\", label=\"Fitted Values\" , ax=ax1)"
      ],
      "metadata": {
        "colab": {
          "base_uri": "https://localhost:8080/",
          "height": 372
        },
        "id": "_Op97Z2A_TV3",
        "outputId": "caa73e51-a763-43ae-e27e-3ee138884569"
      },
      "execution_count": 61,
      "outputs": [
        {
          "output_type": "stream",
          "name": "stderr",
          "text": [
            "/usr/local/lib/python3.7/dist-packages/seaborn/distributions.py:2619: FutureWarning: `distplot` is a deprecated function and will be removed in a future version. Please adapt your code to use either `displot` (a figure-level function with similar flexibility) or `histplot` (an axes-level function for histograms).\n",
            "  warnings.warn(msg, FutureWarning)\n",
            "/usr/local/lib/python3.7/dist-packages/seaborn/distributions.py:2619: FutureWarning: `distplot` is a deprecated function and will be removed in a future version. Please adapt your code to use either `displot` (a figure-level function with similar flexibility) or `histplot` (an axes-level function for histograms).\n",
            "  warnings.warn(msg, FutureWarning)\n"
          ]
        },
        {
          "output_type": "execute_result",
          "data": {
            "text/plain": [
              "<matplotlib.axes._subplots.AxesSubplot at 0x7f56f49dce50>"
            ]
          },
          "metadata": {},
          "execution_count": 61
        },
        {
          "output_type": "display_data",
          "data": {
            "text/plain": [
              "<Figure size 432x288 with 1 Axes>"
            ],
            "image/png": "[encoded data removed]"
          },
          "metadata": {
            "needs_background": "light"
          }
        }
      ]
    },
    {
      "cell_type": "markdown",
      "source": [
        "### Conclusion for Random Forest\n",
        " :\n",
        "Random forest seems to be the best model for the data with 93% accuracy and the graph shows how accurate the predicted values are to that of actual values."
      ],
      "metadata": {
        "id": "G7yeVihpuFYr"
      }
    },
    {
      "cell_type": "markdown",
      "source": [
        "# **MultiOutput Regression using XGBoost:**"
      ],
      "metadata": {
        "id": "hK2kTNlWurcZ"
      }
    },
    {
      "cell_type": "markdown",
      "source": [
        "### XGBoost for winter of all the cities"
      ],
      "metadata": {
        "id": "H4Z8mL-ruyEd"
      }
    },
    {
      "cell_type": "code",
      "source": [
        "multioutputregressor = MultiOutputRegressor(xgb.XGBRegressor(objective='reg:linear')).fit(MX_winter, MY_winter)\n",
        "M_winter_XGBY_pred= multioutputregressor.predict(MX_winter)"
      ],
      "metadata": {
        "colab": {
          "base_uri": "https://localhost:8080/"
        },
        "id": "aTJuUrjSuqxK",
        "outputId": "06762e0d-29cb-4f3e-a50a-2b166a01a75a"
      },
      "execution_count": 62,
      "outputs": [
        {
          "output_type": "stream",
          "name": "stdout",
          "text": [
            "[01:39:57] WARNING: /workspace/src/objective/regression_obj.cu:152: reg:linear is now deprecated in favor of reg:squarederror.\n",
            "[01:39:57] WARNING: /workspace/src/objective/regression_obj.cu:152: reg:linear is now deprecated in favor of reg:squarederror.\n",
            "[01:39:58] WARNING: /workspace/src/objective/regression_obj.cu:152: reg:linear is now deprecated in favor of reg:squarederror.\n",
            "[01:39:58] WARNING: /workspace/src/objective/regression_obj.cu:152: reg:linear is now deprecated in favor of reg:squarederror.\n",
            "[01:39:58] WARNING: /workspace/src/objective/regression_obj.cu:152: reg:linear is now deprecated in favor of reg:squarederror.\n",
            "[01:39:58] WARNING: /workspace/src/objective/regression_obj.cu:152: reg:linear is now deprecated in favor of reg:squarederror.\n"
          ]
        }
      ]
    },
    {
      "cell_type": "code",
      "source": [
        "r2_score( np.array(MY_winter), M_winter_XGBY_pred ,multioutput='uniform_average')"
      ],
      "metadata": {
        "colab": {
          "base_uri": "https://localhost:8080/"
        },
        "id": "SkA_s1O4u8pQ",
        "outputId": "a91247ec-87c7-4833-da05-9b883de48aef"
      },
      "execution_count": 63,
      "outputs": [
        {
          "output_type": "execute_result",
          "data": {
            "text/plain": [
              "0.7467265250931665"
            ]
          },
          "metadata": {},
          "execution_count": 63
        }
      ]
    },
    {
      "cell_type": "code",
      "source": [
        "mean_absolute_error( MY_winter, M_winter_XGBY_pred)"
      ],
      "metadata": {
        "colab": {
          "base_uri": "https://localhost:8080/"
        },
        "id": "DlUIClNEu_Lu",
        "outputId": "7e70a553-2d6d-4e4d-d339-1b99fc2d3e68"
      },
      "execution_count": 64,
      "outputs": [
        {
          "output_type": "execute_result",
          "data": {
            "text/plain": [
              "0.05408407455508035"
            ]
          },
          "metadata": {},
          "execution_count": 64
        }
      ]
    },
    {
      "cell_type": "code",
      "source": [
        "mean_absolute_percentage_error( MY_winter, M_winter_XGBY_pred)"
      ],
      "metadata": {
        "colab": {
          "base_uri": "https://localhost:8080/"
        },
        "id": "v_D3evyYu_HC",
        "outputId": "d6f26001-810c-4707-9546-755a22970227"
      },
      "execution_count": 65,
      "outputs": [
        {
          "output_type": "execute_result",
          "data": {
            "text/plain": [
              "15084183971339.658"
            ]
          },
          "metadata": {},
          "execution_count": 65
        }
      ]
    },
    {
      "cell_type": "code",
      "source": [
        "mean_squared_error( MY_winter, M_winter_XGBY_pred)"
      ],
      "metadata": {
        "colab": {
          "base_uri": "https://localhost:8080/"
        },
        "id": "RiZiYrHHu_EY",
        "outputId": "981aedb1-aee9-4b7c-dca9-3dafa748e7bf"
      },
      "execution_count": 66,
      "outputs": [
        {
          "output_type": "execute_result",
          "data": {
            "text/plain": [
              "0.0160012889890623"
            ]
          },
          "metadata": {},
          "execution_count": 66
        }
      ]
    },
    {
      "cell_type": "markdown",
      "source": [
        "### Scaling and plotting for XGBoost (winter)"
      ],
      "metadata": {
        "id": "U6wpofZY_jqq"
      }
    },
    {
      "cell_type": "code",
      "source": [
        "M_winter_XGBY_pred = scaler.fit_transform(M_winter_XGBY_pred)"
      ],
      "metadata": {
        "id": "3ZaA2AHd_kUj"
      },
      "execution_count": 67,
      "outputs": []
    },
    {
      "cell_type": "code",
      "source": [
        "ax1 = sns.distplot(MY_winter, color=\"r\", label=\"Actual Value\")\n",
        "sns.distplot(M_winter_XGBY_pred, color=\"b\", label=\"Fitted Values\" , ax=ax1)"
      ],
      "metadata": {
        "colab": {
          "base_uri": "https://localhost:8080/",
          "height": 372
        },
        "id": "c00iXVTS_iy-",
        "outputId": "597f550f-26fa-4cfd-dd3a-38f61fc00833"
      },
      "execution_count": 68,
      "outputs": [
        {
          "output_type": "stream",
          "name": "stderr",
          "text": [
            "/usr/local/lib/python3.7/dist-packages/seaborn/distributions.py:2619: FutureWarning: `distplot` is a deprecated function and will be removed in a future version. Please adapt your code to use either `displot` (a figure-level function with similar flexibility) or `histplot` (an axes-level function for histograms).\n",
            "  warnings.warn(msg, FutureWarning)\n",
            "/usr/local/lib/python3.7/dist-packages/seaborn/distributions.py:2619: FutureWarning: `distplot` is a deprecated function and will be removed in a future version. Please adapt your code to use either `displot` (a figure-level function with similar flexibility) or `histplot` (an axes-level function for histograms).\n",
            "  warnings.warn(msg, FutureWarning)\n"
          ]
        },
        {
          "output_type": "execute_result",
          "data": {
            "text/plain": [
              "<matplotlib.axes._subplots.AxesSubplot at 0x7f56f4ec2250>"
            ]
          },
          "metadata": {},
          "execution_count": 68
        },
        {
          "output_type": "display_data",
          "data": {
            "text/plain": [
              "<Figure size 432x288 with 1 Axes>"
            ],
            "image/png": "[encoded data removed]"
          },
          "metadata": {
            "needs_background": "light"
          }
        }
      ]
    },
    {
      "cell_type": "markdown",
      "source": [
        "### XGBoost for summer of all the cities"
      ],
      "metadata": {
        "id": "jbhrtoDAvCcy"
      }
    },
    {
      "cell_type": "code",
      "source": [
        "multioutputregressor.fit(MX_summer, MY_summer)\n",
        "M_summer_XGBY_pred= multioutputregressor.predict(MX_summer)"
      ],
      "metadata": {
        "colab": {
          "base_uri": "https://localhost:8080/"
        },
        "id": "B6iRFPlvu-7S",
        "outputId": "898bb556-6e14-4ea2-845a-f8239575c6cc"
      },
      "execution_count": 69,
      "outputs": [
        {
          "output_type": "stream",
          "name": "stdout",
          "text": [
            "[01:39:59] WARNING: /workspace/src/objective/regression_obj.cu:152: reg:linear is now deprecated in favor of reg:squarederror.\n",
            "[01:39:59] WARNING: /workspace/src/objective/regression_obj.cu:152: reg:linear is now deprecated in favor of reg:squarederror.\n",
            "[01:39:59] WARNING: /workspace/src/objective/regression_obj.cu:152: reg:linear is now deprecated in favor of reg:squarederror.\n",
            "[01:39:59] WARNING: /workspace/src/objective/regression_obj.cu:152: reg:linear is now deprecated in favor of reg:squarederror.\n",
            "[01:39:59] WARNING: /workspace/src/objective/regression_obj.cu:152: reg:linear is now deprecated in favor of reg:squarederror.\n",
            "[01:40:00] WARNING: /workspace/src/objective/regression_obj.cu:152: reg:linear is now deprecated in favor of reg:squarederror.\n"
          ]
        }
      ]
    },
    {
      "cell_type": "code",
      "source": [
        "r2_score( np.array(MY_summer), M_summer_XGBY_pred ,multioutput='uniform_average')"
      ],
      "metadata": {
        "colab": {
          "base_uri": "https://localhost:8080/"
        },
        "id": "8LcAV4ggu-z8",
        "outputId": "8bb169bb-414c-4049-bde6-02db5148047b"
      },
      "execution_count": 70,
      "outputs": [
        {
          "output_type": "execute_result",
          "data": {
            "text/plain": [
              "0.7890198818142359"
            ]
          },
          "metadata": {},
          "execution_count": 70
        }
      ]
    },
    {
      "cell_type": "code",
      "source": [
        "mean_absolute_error( MY_summer, M_summer_XGBY_pred)"
      ],
      "metadata": {
        "colab": {
          "base_uri": "https://localhost:8080/"
        },
        "id": "9yvlsdPTu-BM",
        "outputId": "749566c1-356e-4fa7-895b-8fd480955292"
      },
      "execution_count": 71,
      "outputs": [
        {
          "output_type": "execute_result",
          "data": {
            "text/plain": [
              "0.03996554447401643"
            ]
          },
          "metadata": {},
          "execution_count": 71
        }
      ]
    },
    {
      "cell_type": "code",
      "source": [
        "mean_absolute_percentage_error( MY_summer, M_summer_XGBY_pred)\n"
      ],
      "metadata": {
        "colab": {
          "base_uri": "https://localhost:8080/"
        },
        "id": "NjM1xcX5u94Z",
        "outputId": "04c0e5db-efff-47bd-e522-b20435d3840c"
      },
      "execution_count": 72,
      "outputs": [
        {
          "output_type": "execute_result",
          "data": {
            "text/plain": [
              "23839446391956.188"
            ]
          },
          "metadata": {},
          "execution_count": 72
        }
      ]
    },
    {
      "cell_type": "code",
      "source": [
        "mean_squared_error( MY_summer, M_summer_XGBY_pred)"
      ],
      "metadata": {
        "colab": {
          "base_uri": "https://localhost:8080/"
        },
        "id": "8uEHBijDu9rV",
        "outputId": "d9bbb8f7-7f09-4b6e-deea-8b2bcad8c4c6"
      },
      "execution_count": 73,
      "outputs": [
        {
          "output_type": "execute_result",
          "data": {
            "text/plain": [
              "0.010474183036130605"
            ]
          },
          "metadata": {},
          "execution_count": 73
        }
      ]
    },
    {
      "cell_type": "markdown",
      "source": [
        "### Scaling and plotting for XGBoost (summer)"
      ],
      "metadata": {
        "id": "maxo7KY6AACq"
      }
    },
    {
      "cell_type": "code",
      "source": [
        "M_summer_XGBY_pred = scaler.fit_transform(M_summer_XGBY_pred)"
      ],
      "metadata": {
        "id": "uYfAsgTS_-2w"
      },
      "execution_count": 74,
      "outputs": []
    },
    {
      "cell_type": "code",
      "source": [
        "ax1 = sns.distplot(MY_summer, color=\"r\", label=\"Actual Value\")\n",
        "sns.distplot(M_summer_XGBY_pred, color=\"b\", label=\"Fitted Values\" , ax=ax1)"
      ],
      "metadata": {
        "colab": {
          "base_uri": "https://localhost:8080/",
          "height": 372
        },
        "id": "kf7zxNdi__lP",
        "outputId": "2f4faef6-2ffe-44ba-92b4-5f5b08c82392"
      },
      "execution_count": 75,
      "outputs": [
        {
          "output_type": "stream",
          "name": "stderr",
          "text": [
            "/usr/local/lib/python3.7/dist-packages/seaborn/distributions.py:2619: FutureWarning: `distplot` is a deprecated function and will be removed in a future version. Please adapt your code to use either `displot` (a figure-level function with similar flexibility) or `histplot` (an axes-level function for histograms).\n",
            "  warnings.warn(msg, FutureWarning)\n",
            "/usr/local/lib/python3.7/dist-packages/seaborn/distributions.py:2619: FutureWarning: `distplot` is a deprecated function and will be removed in a future version. Please adapt your code to use either `displot` (a figure-level function with similar flexibility) or `histplot` (an axes-level function for histograms).\n",
            "  warnings.warn(msg, FutureWarning)\n"
          ]
        },
        {
          "output_type": "execute_result",
          "data": {
            "text/plain": [
              "<matplotlib.axes._subplots.AxesSubplot at 0x7f56f4f27850>"
            ]
          },
          "metadata": {},
          "execution_count": 75
        },
        {
          "output_type": "display_data",
          "data": {
            "text/plain": [
              "<Figure size 432x288 with 1 Axes>"
            ],
            "image/png": "[encoded data removed]"
          },
          "metadata": {
            "needs_background": "light"
          }
        }
      ]
    },
    {
      "cell_type": "markdown",
      "source": [
        "###Conclusion for XGBoost :\n",
        "XGBoost model is almost like KNN model with accuracy of around the same values for both winter and summer but a little better."
      ],
      "metadata": {
        "id": "OxaoTUkPwip4"
      }
    }
  ]
}