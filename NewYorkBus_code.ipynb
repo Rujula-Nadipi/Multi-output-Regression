{
  "nbformat": 4,
  "nbformat_minor": 0,
  "metadata": {
    "colab": {
      "provenance": [],
      "collapsed_sections": [
        "pd8bq6Ugl_B5",
        "JgZ4MyLErW4Q",
        "G7yeVihpuFYr",
        "OxaoTUkPwip4"
      ]
    },
    "kernelspec": {
      "name": "python3",
      "display_name": "Python 3"
    },
    "language_info": {
      "name": "python"
    }
  },
  "cells": [
    {
      "cell_type": "markdown",
      "source": [
        "# **Data Loading**"
      ],
      "metadata": {
        "id": "iDkBVr3twiOc"
      }
    },
    {
      "cell_type": "code",
      "execution_count": 1,
      "metadata": {
        "id": "cMVXx_75rCQU"
      },
      "outputs": [],
      "source": [
        "import pandas as pd\n",
        "import argparse\n",
        "from typing import Dict, Tuple, List\n",
        "\n",
        "import numpy as np\n",
        "from matplotlib import pyplot as plt\n",
        "import seaborn as sns\n"
      ]
    },
    {
      "cell_type": "code",
      "source": [
        "from google.colab import drive\n",
        "drive.mount('/content/drive')"
      ],
      "metadata": {
        "colab": {
          "base_uri": "https://localhost:8080/"
        },
        "id": "XW5DaY1MgNTN",
        "outputId": "7032ba22-1fa9-46d4-cdb5-f5917f1f1a16"
      },
      "execution_count": 2,
      "outputs": [
        {
          "output_type": "stream",
          "name": "stdout",
          "text": [
            "Drive already mounted at /content/drive; to attempt to forcibly remount, call drive.mount(\"/content/drive\", force_remount=True).\n"
          ]
        }
      ]
    },
    {
      "cell_type": "code",
      "source": [
        "NewYorkBus_data = pd.read_csv(\"/content/drive/MyDrive/ReVolt code/NewYorkBus\")\n",
        "NewYorkBus_data.head()"
      ],
      "metadata": {
        "colab": {
          "base_uri": "https://localhost:8080/",
          "height": 206
        },
        "id": "5HyWzJM7rMCu",
        "outputId": "24b82d57-0f2c-48af-8edf-74da96ea5da2"
      },
      "execution_count": 3,
      "outputs": [
        {
          "output_type": "execute_result",
          "data": {
            "text/plain": [
              "   Unnamed: 0  Unnamed: 0.1  Degrees     Time   Speed  Energycons   EProp  \\\n",
              "0       15799         15799      0.0   0.0000  0.0000         NaN    0.00   \n",
              "1       15800         15800      0.1   2.3318  0.0000         inf    0.00   \n",
              "2       15801         15801      0.2   7.9751  0.0000         inf    0.00   \n",
              "3       15802         15802      0.3  14.2250  0.0000         inf    0.00   \n",
              "4       15803         15803     20.0  16.7000  3.6664     57030.0  273.08   \n",
              "\n",
              "   E_Aux  HVAC   Power  Regen      SoC    driveCycle     city weather  \n",
              "0   5.35  18.0   23.35    0.0  100.000  New York Bus  Phoenix  Summer  \n",
              "1   5.35  18.0   23.35    0.0   99.995  New York Bus  Phoenix  Summer  \n",
              "2   5.35  18.0   23.35    0.0   99.983  New York Bus  Phoenix  Summer  \n",
              "3   5.35  18.0   23.35    0.0   99.969  New York Bus  Phoenix  Summer  \n",
              "4   5.26  18.0  296.34    0.0   99.940  New York Bus  Phoenix  Summer  "
            ],
            "text/html": [
              "\n",
              "  <div id=\"df-ae35bda6-8321-40a8-9297-fe986a50d308\">\n",
              "    <div class=\"colab-df-container\">\n",
              "      <div>\n",
              "<style scoped>\n",
              "    .dataframe tbody tr th:only-of-type {\n",
              "        vertical-align: middle;\n",
              "    }\n",
              "\n",
              "    .dataframe tbody tr th {\n",
              "        vertical-align: top;\n",
              "    }\n",
              "\n",
              "    .dataframe thead th {\n",
              "        text-align: right;\n",
              "    }\n",
              "</style>\n",
              "<table border=\"1\" class=\"dataframe\">\n",
              "  <thead>\n",
              "    <tr style=\"text-align: right;\">\n",
              "      <th></th>\n",
              "      <th>Unnamed: 0</th>\n",
              "      <th>Unnamed: 0.1</th>\n",
              "      <th>Degrees</th>\n",
              "      <th>Time</th>\n",
              "      <th>Speed</th>\n",
              "      <th>Energycons</th>\n",
              "      <th>EProp</th>\n",
              "      <th>E_Aux</th>\n",
              "      <th>HVAC</th>\n",
              "      <th>Power</th>\n",
              "      <th>Regen</th>\n",
              "      <th>SoC</th>\n",
              "      <th>driveCycle</th>\n",
              "      <th>city</th>\n",
              "      <th>weather</th>\n",
              "    </tr>\n",
              "  </thead>\n",
              "  <tbody>\n",
              "    <tr>\n",
              "      <th>0</th>\n",
              "      <td>15799</td>\n",
              "      <td>15799</td>\n",
              "      <td>0.0</td>\n",
              "      <td>0.0000</td>\n",
              "      <td>0.0000</td>\n",
              "      <td>NaN</td>\n",
              "      <td>0.00</td>\n",
              "      <td>5.35</td>\n",
              "      <td>18.0</td>\n",
              "      <td>23.35</td>\n",
              "      <td>0.0</td>\n",
              "      <td>100.000</td>\n",
              "      <td>New York Bus</td>\n",
              "      <td>Phoenix</td>\n",
              "      <td>Summer</td>\n",
              "    </tr>\n",
              "    <tr>\n",
              "      <th>1</th>\n",
              "      <td>15800</td>\n",
              "      <td>15800</td>\n",
              "      <td>0.1</td>\n",
              "      <td>2.3318</td>\n",
              "      <td>0.0000</td>\n",
              "      <td>inf</td>\n",
              "      <td>0.00</td>\n",
              "      <td>5.35</td>\n",
              "      <td>18.0</td>\n",
              "      <td>23.35</td>\n",
              "      <td>0.0</td>\n",
              "      <td>99.995</td>\n",
              "      <td>New York Bus</td>\n",
              "      <td>Phoenix</td>\n",
              "      <td>Summer</td>\n",
              "    </tr>\n",
              "    <tr>\n",
              "      <th>2</th>\n",
              "      <td>15801</td>\n",
              "      <td>15801</td>\n",
              "      <td>0.2</td>\n",
              "      <td>7.9751</td>\n",
              "      <td>0.0000</td>\n",
              "      <td>inf</td>\n",
              "      <td>0.00</td>\n",
              "      <td>5.35</td>\n",
              "      <td>18.0</td>\n",
              "      <td>23.35</td>\n",
              "      <td>0.0</td>\n",
              "      <td>99.983</td>\n",
              "      <td>New York Bus</td>\n",
              "      <td>Phoenix</td>\n",
              "      <td>Summer</td>\n",
              "    </tr>\n",
              "    <tr>\n",
              "      <th>3</th>\n",
              "      <td>15802</td>\n",
              "      <td>15802</td>\n",
              "      <td>0.3</td>\n",
              "      <td>14.2250</td>\n",
              "      <td>0.0000</td>\n",
              "      <td>inf</td>\n",
              "      <td>0.00</td>\n",
              "      <td>5.35</td>\n",
              "      <td>18.0</td>\n",
              "      <td>23.35</td>\n",
              "      <td>0.0</td>\n",
              "      <td>99.969</td>\n",
              "      <td>New York Bus</td>\n",
              "      <td>Phoenix</td>\n",
              "      <td>Summer</td>\n",
              "    </tr>\n",
              "    <tr>\n",
              "      <th>4</th>\n",
              "      <td>15803</td>\n",
              "      <td>15803</td>\n",
              "      <td>20.0</td>\n",
              "      <td>16.7000</td>\n",
              "      <td>3.6664</td>\n",
              "      <td>57030.0</td>\n",
              "      <td>273.08</td>\n",
              "      <td>5.26</td>\n",
              "      <td>18.0</td>\n",
              "      <td>296.34</td>\n",
              "      <td>0.0</td>\n",
              "      <td>99.940</td>\n",
              "      <td>New York Bus</td>\n",
              "      <td>Phoenix</td>\n",
              "      <td>Summer</td>\n",
              "    </tr>\n",
              "  </tbody>\n",
              "</table>\n",
              "</div>\n",
              "      <button class=\"colab-df-convert\" onclick=\"convertToInteractive('df-ae35bda6-8321-40a8-9297-fe986a50d308')\"\n",
              "              title=\"Convert this dataframe to an interactive table.\"\n",
              "              style=\"display:none;\">\n",
              "        \n",
              "  <svg xmlns=\"http://www.w3.org/2000/svg\" height=\"24px\"viewBox=\"0 0 24 24\"\n",
              "       width=\"24px\">\n",
              "    <path d=\"M0 0h24v24H0V0z\" fill=\"none\"/>\n",
              "    <path d=\"M18.56 5.44l.94 2.06.94-2.06 2.06-.94-2.06-.94-.94-2.06-.94 2.06-2.06.94zm-11 1L8.5 8.5l.94-2.06 2.06-.94-2.06-.94L8.5 2.5l-.94 2.06-2.06.94zm10 10l.94 2.06.94-2.06 2.06-.94-2.06-.94-.94-2.06-.94 2.06-2.06.94z\"/><path d=\"M17.41 7.96l-1.37-1.37c-.4-.4-.92-.59-1.43-.59-.52 0-1.04.2-1.43.59L10.3 9.45l-7.72 7.72c-.78.78-.78 2.05 0 2.83L4 21.41c.39.39.9.59 1.41.59.51 0 1.02-.2 1.41-.59l7.78-7.78 2.81-2.81c.8-.78.8-2.07 0-2.86zM5.41 20L4 18.59l7.72-7.72 1.47 1.35L5.41 20z\"/>\n",
              "  </svg>\n",
              "      </button>\n",
              "      \n",
              "  <style>\n",
              "    .colab-df-container {\n",
              "      display:flex;\n",
              "      flex-wrap:wrap;\n",
              "      gap: 12px;\n",
              "    }\n",
              "\n",
              "    .colab-df-convert {\n",
              "      background-color: #E8F0FE;\n",
              "      border: none;\n",
              "      border-radius: 50%;\n",
              "      cursor: pointer;\n",
              "      display: none;\n",
              "      fill: #1967D2;\n",
              "      height: 32px;\n",
              "      padding: 0 0 0 0;\n",
              "      width: 32px;\n",
              "    }\n",
              "\n",
              "    .colab-df-convert:hover {\n",
              "      background-color: #E2EBFA;\n",
              "      box-shadow: 0px 1px 2px rgba(60, 64, 67, 0.3), 0px 1px 3px 1px rgba(60, 64, 67, 0.15);\n",
              "      fill: #174EA6;\n",
              "    }\n",
              "\n",
              "    [theme=dark] .colab-df-convert {\n",
              "      background-color: #3B4455;\n",
              "      fill: #D2E3FC;\n",
              "    }\n",
              "\n",
              "    [theme=dark] .colab-df-convert:hover {\n",
              "      background-color: #434B5C;\n",
              "      box-shadow: 0px 1px 3px 1px rgba(0, 0, 0, 0.15);\n",
              "      filter: drop-shadow(0px 1px 2px rgba(0, 0, 0, 0.3));\n",
              "      fill: #FFFFFF;\n",
              "    }\n",
              "  </style>\n",
              "\n",
              "      <script>\n",
              "        const buttonEl =\n",
              "          document.querySelector('#df-ae35bda6-8321-40a8-9297-fe986a50d308 button.colab-df-convert');\n",
              "        buttonEl.style.display =\n",
              "          google.colab.kernel.accessAllowed ? 'block' : 'none';\n",
              "\n",
              "        async function convertToInteractive(key) {\n",
              "          const element = document.querySelector('#df-ae35bda6-8321-40a8-9297-fe986a50d308');\n",
              "          const dataTable =\n",
              "            await google.colab.kernel.invokeFunction('convertToInteractive',\n",
              "                                                     [key], {});\n",
              "          if (!dataTable) return;\n",
              "\n",
              "          const docLinkHtml = 'Like what you see? Visit the ' +\n",
              "            '<a target=\"_blank\" href=https://colab.research.google.com/notebooks/data_table.ipynb>data table notebook</a>'\n",
              "            + ' to learn more about interactive tables.';\n",
              "          element.innerHTML = '';\n",
              "          dataTable['output_type'] = 'display_data';\n",
              "          await google.colab.output.renderOutput(dataTable, element);\n",
              "          const docLink = document.createElement('div');\n",
              "          docLink.innerHTML = docLinkHtml;\n",
              "          element.appendChild(docLink);\n",
              "        }\n",
              "      </script>\n",
              "    </div>\n",
              "  </div>\n",
              "  "
            ]
          },
          "metadata": {},
          "execution_count": 3
        }
      ]
    },
    {
      "cell_type": "code",
      "source": [
        "NewYorkBus_data.shape"
      ],
      "metadata": {
        "colab": {
          "base_uri": "https://localhost:8080/"
        },
        "id": "bgScmOJqtiHt",
        "outputId": "3fa9fc23-a58a-4171-de51-f8acb21b6c86"
      },
      "execution_count": 4,
      "outputs": [
        {
          "output_type": "execute_result",
          "data": {
            "text/plain": [
              "(2734, 15)"
            ]
          },
          "metadata": {},
          "execution_count": 4
        }
      ]
    },
    {
      "cell_type": "markdown",
      "source": [
        "# **Data Cleaning**"
      ],
      "metadata": {
        "id": "IX8kmZbAwptu"
      }
    },
    {
      "cell_type": "markdown",
      "source": [
        "Let's add dummies for weather so it will give 0 for summer and 1 for winter, as it will be easier to segregate the data based on seasons for our analysis to compare and contrast."
      ],
      "metadata": {
        "id": "rO5nqUNIhdT2"
      }
    },
    {
      "cell_type": "code",
      "source": [
        "# Creating a dummy variable for the variable 'city' and dropping the first one.\n",
        "#city_dummy = pd.get_dummies(UDDS_data['city'],prefix='city',drop_first=False)\n",
        "#Adding the results to the master dataframe\n",
        "#UD_data = pd.concat([UDDS_data,city_dummy],axis=1)\n",
        "\n",
        "# Creating a dummy variable for the variable 'weather' and dropping the first one.\n",
        "weather_dummy = pd.get_dummies(NewYorkBus_data['weather'],prefix='weather',drop_first=True)\n",
        "#Adding the results to the master dataframe\n",
        "NYB_data = pd.concat([NewYorkBus_data,weather_dummy],axis=1)"
      ],
      "metadata": {
        "id": "gHTfW8Uxsh8o"
      },
      "execution_count": 5,
      "outputs": []
    },
    {
      "cell_type": "code",
      "source": [
        "NYB_data.columns"
      ],
      "metadata": {
        "colab": {
          "base_uri": "https://localhost:8080/"
        },
        "id": "IZ12wHadtgVu",
        "outputId": "f007d3ab-f699-46de-aa74-ba7bf0d9bb5b"
      },
      "execution_count": 6,
      "outputs": [
        {
          "output_type": "execute_result",
          "data": {
            "text/plain": [
              "Index(['Unnamed: 0', 'Unnamed: 0.1', 'Degrees', 'Time', 'Speed', 'Energycons',\n",
              "       'EProp', 'E_Aux', 'HVAC', 'Power', 'Regen', 'SoC', 'driveCycle', 'city',\n",
              "       'weather', 'weather_Winter'],\n",
              "      dtype='object')"
            ]
          },
          "metadata": {},
          "execution_count": 6
        }
      ]
    },
    {
      "cell_type": "markdown",
      "source": [
        "Removing drivecycle and weather columns as we have already reproduced our data in such a way that one file is related to one drive cycle and we have our dummy for weather."
      ],
      "metadata": {
        "id": "ys82B4s-iDPh"
      }
    },
    {
      "cell_type": "code",
      "source": [
        "NYB_data.drop(columns=['weather','driveCycle','Unnamed: 0','Unnamed: 0.1'],inplace=True)"
      ],
      "metadata": {
        "id": "wixthnI8rtS6"
      },
      "execution_count": 7,
      "outputs": []
    },
    {
      "cell_type": "code",
      "source": [
        "NYB_data.shape"
      ],
      "metadata": {
        "colab": {
          "base_uri": "https://localhost:8080/"
        },
        "id": "xJdTHHjIuVQL",
        "outputId": "5a3d7ad6-36b9-4298-d41c-0720bb9fc311"
      },
      "execution_count": 8,
      "outputs": [
        {
          "output_type": "execute_result",
          "data": {
            "text/plain": [
              "(2734, 12)"
            ]
          },
          "metadata": {},
          "execution_count": 8
        }
      ]
    },
    {
      "cell_type": "markdown",
      "source": [
        "Check for any null values :"
      ],
      "metadata": {
        "id": "sgnfEmUeu92k"
      }
    },
    {
      "cell_type": "code",
      "source": [
        "NYB_nocity_data = NYB_data[['Degrees', 'Time', 'Speed', 'Energycons',\n",
        "       'EProp', 'E_Aux', 'HVAC', 'Power', 'Regen', 'SoC','weather_Winter']]\n",
        "df =NYB_nocity_data.columns.to_series()[np.isnan(NYB_nocity_data).any()]\n",
        "df1 =NYB_nocity_data.columns.to_series()[np.isinf(NYB_nocity_data).any()]\n",
        "print(df, df1)"
      ],
      "metadata": {
        "colab": {
          "base_uri": "https://localhost:8080/"
        },
        "id": "NIR-_Judu1ed",
        "outputId": "168f6077-11e4-415a-c4bd-06d4e4bb2c4b"
      },
      "execution_count": 9,
      "outputs": [
        {
          "output_type": "stream",
          "name": "stdout",
          "text": [
            "Energycons    Energycons\n",
            "dtype: object Energycons    Energycons\n",
            "dtype: object\n"
          ]
        }
      ]
    },
    {
      "cell_type": "markdown",
      "source": [
        "Only Energycons contain both Nan and inf values, so first we'll replace inf values with nan and check how much of the data will be effected."
      ],
      "metadata": {
        "id": "n1DkAvELa4JH"
      }
    },
    {
      "cell_type": "code",
      "source": [
        "NYB_data.replace(np.inf, np.nan, inplace=True)\n",
        "\n",
        "100* NYB_data.isnull().sum() / NYB_data.shape[0]"
      ],
      "metadata": {
        "colab": {
          "base_uri": "https://localhost:8080/"
        },
        "id": "iW_utDKjbJch",
        "outputId": "5f3e1cb1-ca3d-4200-8c2a-6d815848cfea"
      },
      "execution_count": 10,
      "outputs": [
        {
          "output_type": "execute_result",
          "data": {
            "text/plain": [
              "Degrees           0.000000\n",
              "Time              0.000000\n",
              "Speed             0.000000\n",
              "Energycons        2.487198\n",
              "EProp             0.000000\n",
              "E_Aux             0.000000\n",
              "HVAC              0.000000\n",
              "Power             0.000000\n",
              "Regen             0.000000\n",
              "SoC               0.000000\n",
              "city              0.000000\n",
              "weather_Winter    0.000000\n",
              "dtype: float64"
            ]
          },
          "metadata": {},
          "execution_count": 10
        }
      ]
    },
    {
      "cell_type": "markdown",
      "source": [
        "Energycons consists of 2.4% data of nan values, when combined with 10 cities, so per city with a particular season, removing those values might effect the regression analysis. Hence let's just replace nan values with 0 and continue with the analysis.\n",
        "\n"
      ],
      "metadata": {
        "id": "weuuIfljvJgc"
      }
    },
    {
      "cell_type": "code",
      "source": [
        "NYB_data.fillna(0,inplace = True)"
      ],
      "metadata": {
        "id": "KTZrBB0Iu1hO"
      },
      "execution_count": 11,
      "outputs": []
    },
    {
      "cell_type": "code",
      "source": [
        "NYB_data.shape"
      ],
      "metadata": {
        "colab": {
          "base_uri": "https://localhost:8080/"
        },
        "id": "9X-_894avfav",
        "outputId": "75812236-a249-4655-de38-88d58db47c36"
      },
      "execution_count": 12,
      "outputs": [
        {
          "output_type": "execute_result",
          "data": {
            "text/plain": [
              "(2734, 12)"
            ]
          },
          "metadata": {},
          "execution_count": 12
        }
      ]
    },
    {
      "cell_type": "code",
      "source": [
        "NYB_data.to_csv(\"NewYorkBus_final.csv\")"
      ],
      "metadata": {
        "id": "7AMURILawUws"
      },
      "execution_count": 13,
      "outputs": []
    },
    {
      "cell_type": "markdown",
      "source": [
        "The resulting data set has been given the name NewYorkBus_final.csv"
      ],
      "metadata": {
        "id": "LzvBFCAjwejs"
      }
    },
    {
      "cell_type": "markdown",
      "source": [
        "# **Data Understanding**"
      ],
      "metadata": {
        "id": "kX0y2gzf-8QK"
      }
    },
    {
      "cell_type": "markdown",
      "source": [
        "Let's check how dependent are the variables on each other using correlation."
      ],
      "metadata": {
        "id": "JhLiHgBQ_DGj"
      }
    },
    {
      "cell_type": "code",
      "source": [
        "#plotting the heatmap for correlation\n",
        "hm = sns.heatmap(NYB_data.corr(), annot=True)"
      ],
      "metadata": {
        "id": "9Gi-74Jy_NnF",
        "colab": {
          "base_uri": "https://localhost:8080/",
          "height": 338
        },
        "outputId": "dcff7d0e-277b-4c4c-ec8e-9cc0db20c9a6"
      },
      "execution_count": 14,
      "outputs": [
        {
          "output_type": "display_data",
          "data": {
            "text/plain": [
              "<Figure size 432x288 with 2 Axes>"
            ],
            "image/png": "[encoded data removed]"
          },
          "metadata": {
            "needs_background": "light"
          }
        }
      ]
    },
    {
      "cell_type": "markdown",
      "source": [
        "The heatmap suggest that power is dependent on Eprop stronger than that of how it is dependent on degrees. We can predict that this can be because the power is the summation of  E-prop,E-Aux & HVAC. \n"
      ],
      "metadata": {
        "id": "FK4LhHiDGe0t"
      }
    },
    {
      "cell_type": "markdown",
      "source": [
        "# **Data Modeling**"
      ],
      "metadata": {
        "id": "9tvH6CQnwzr_"
      }
    },
    {
      "cell_type": "markdown",
      "source": [
        "Converting the data into Predictor and response sets. Where, the data in X, is used to regress on and the data is y is the dependent varibles and are true output varibles."
      ],
      "metadata": {
        "id": "UtKDyV7WyvAR"
      }
    },
    {
      "cell_type": "code",
      "source": [
        "from sklearn.linear_model import LinearRegression\n",
        "from sklearn.multioutput import MultiOutputRegressor\n",
        "from sklearn.neighbors import KNeighborsRegressor\n",
        "from sklearn.ensemble import RandomForestRegressor\n",
        "from sklearn.svm import LinearSVR\n",
        "\n",
        "from sklearn.metrics import mean_absolute_error, mean_absolute_percentage_error, mean_squared_error, r2_score\n",
        "import xgboost as xgb\n",
        "from sklearn.preprocessing import MinMaxScaler\n",
        "\n",
        "from pandas.core.base import NoNewAttributesMixin\n"
      ],
      "metadata": {
        "id": "udhndHnhzOMc"
      },
      "execution_count": 15,
      "outputs": []
    },
    {
      "cell_type": "code",
      "source": [
        "print(NYB_data['weather_Winter'].unique())"
      ],
      "metadata": {
        "id": "QN-9Tj7CE4Dj",
        "colab": {
          "base_uri": "https://localhost:8080/"
        },
        "outputId": "c5718b20-7773-454c-a046-938847f9c094"
      },
      "execution_count": 16,
      "outputs": [
        {
          "output_type": "stream",
          "name": "stdout",
          "text": [
            "[0 1]\n"
          ]
        }
      ]
    },
    {
      "cell_type": "markdown",
      "source": [
        "splitting data into winter and summer as per seasons respectively"
      ],
      "metadata": {
        "id": "n9fOFmqCmiLI"
      }
    },
    {
      "cell_type": "code",
      "source": [
        "NYB= NYB_data.groupby('weather_Winter')\n",
        "NYB_winter = NYB.get_group(NYB_data['weather_Winter'].unique()[1])\n",
        "NYB_summer = NYB.get_group(NYB_data['weather_Winter'].unique()[0])"
      ],
      "metadata": {
        "id": "43xvOgyAAVGZ"
      },
      "execution_count": 17,
      "outputs": []
    },
    {
      "cell_type": "markdown",
      "source": [
        "Train and test split for winter:"
      ],
      "metadata": {
        "id": "imO7GNRkmeDi"
      }
    },
    {
      "cell_type": "code",
      "source": [
        "\n",
        "new_NYB_winter = NYB_winter\n",
        "\n",
        "NYBX_winter = new_NYB_winter[['Degrees', 'Time', 'Speed','weather_Winter']]\n",
        "\n",
        "\n",
        "NYBY_winter = new_NYB_winter[['Energycons', 'EProp', 'E_Aux', 'HVAC',\n",
        "       'Regen', 'SoC']]\n",
        "\n"
      ],
      "metadata": {
        "id": "cLXeZEUgzSmz"
      },
      "execution_count": 18,
      "outputs": []
    },
    {
      "cell_type": "markdown",
      "source": [
        "Train and test data for summer: "
      ],
      "metadata": {
        "id": "1uh7YjygmalC"
      }
    },
    {
      "cell_type": "code",
      "source": [
        "new_NYB_summer = NYB_summer\n",
        "\n",
        "NYBX_summer = new_NYB_summer[['Degrees', 'Time', 'Speed','weather_Winter']]\n",
        "\n",
        "\n",
        "NYBY_summer = new_NYB_summer[['Energycons', 'EProp', 'E_Aux', 'HVAC',\n",
        "       'Regen', 'SoC']]"
      ],
      "metadata": {
        "id": "6o4SZf8ofcC0"
      },
      "execution_count": 19,
      "outputs": []
    },
    {
      "cell_type": "markdown",
      "source": [
        "# Linear Regression For MultiTarget Regression:\n",
        "Applying Linear Regression model and checking the if the prediction is accurate."
      ],
      "metadata": {
        "id": "oSaTFs_FJ43c"
      }
    },
    {
      "cell_type": "markdown",
      "source": [
        "### linear regression for winter of all the cities"
      ],
      "metadata": {
        "id": "nIqX9EkulyTN"
      }
    },
    {
      "cell_type": "code",
      "source": [
        "NYB_winter_linearmodel = LinearRegression()\n",
        "# fit model\n",
        "NYB_winter_linearmodel.fit(NYBX_winter, NYBY_winter)"
      ],
      "metadata": {
        "id": "42gWohd-J3tZ",
        "colab": {
          "base_uri": "https://localhost:8080/"
        },
        "outputId": "c0943e21-0685-429c-bc1b-9d290141c580"
      },
      "execution_count": 20,
      "outputs": [
        {
          "output_type": "execute_result",
          "data": {
            "text/plain": [
              "LinearRegression()"
            ]
          },
          "metadata": {},
          "execution_count": 20
        }
      ]
    },
    {
      "cell_type": "code",
      "source": [
        "NYBY_winter_pred = NYB_winter_linearmodel.predict(NYBX_winter)\n",
        "r2_score( np.array(NYBY_winter), NYBY_winter_pred,multioutput='uniform_average')"
      ],
      "metadata": {
        "id": "oboXCb8aJ-zd",
        "colab": {
          "base_uri": "https://localhost:8080/"
        },
        "outputId": "c4d08625-26fa-4c9a-e44e-5b9b26ebc3c1"
      },
      "execution_count": 21,
      "outputs": [
        {
          "output_type": "execute_result",
          "data": {
            "text/plain": [
              "0.37509729266843533"
            ]
          },
          "metadata": {},
          "execution_count": 21
        }
      ]
    },
    {
      "cell_type": "code",
      "source": [
        "mean_absolute_error( NYBY_winter, NYBY_winter_pred)"
      ],
      "metadata": {
        "colab": {
          "base_uri": "https://localhost:8080/"
        },
        "id": "lCOueOqClBxB",
        "outputId": "bee854a3-ff9b-4b10-eaff-38f8d167c99d"
      },
      "execution_count": 22,
      "outputs": [
        {
          "output_type": "execute_result",
          "data": {
            "text/plain": [
              "5990.71265331095"
            ]
          },
          "metadata": {},
          "execution_count": 22
        }
      ]
    },
    {
      "cell_type": "code",
      "source": [
        "mean_absolute_percentage_error( NYBY_winter, NYBY_winter_pred)"
      ],
      "metadata": {
        "colab": {
          "base_uri": "https://localhost:8080/"
        },
        "id": "AykQXlhDlCoy",
        "outputId": "914774f2-18c6-45fc-9760-a409c27b67d4"
      },
      "execution_count": 23,
      "outputs": [
        {
          "output_type": "execute_result",
          "data": {
            "text/plain": [
              "9.171941584236238e+17"
            ]
          },
          "metadata": {},
          "execution_count": 23
        }
      ]
    },
    {
      "cell_type": "code",
      "source": [
        "mean_squared_error( NYBY_winter, NYBY_winter_pred)"
      ],
      "metadata": {
        "colab": {
          "base_uri": "https://localhost:8080/"
        },
        "id": "lkTBVFewlC_f",
        "outputId": "bd9866c1-7fb2-4716-e1f5-db718448c9a5"
      },
      "execution_count": 24,
      "outputs": [
        {
          "output_type": "execute_result",
          "data": {
            "text/plain": [
              "17078073372.681982"
            ]
          },
          "metadata": {},
          "execution_count": 24
        }
      ]
    },
    {
      "cell_type": "markdown",
      "source": [
        "### Scaling and plotting for linear regression (winter)"
      ],
      "metadata": {
        "id": "l-DsYt2c-dm-"
      }
    },
    {
      "cell_type": "markdown",
      "source": [
        "As the values are too large, plotting our regression will become more difficult, therefore we will need to scale our values down."
      ],
      "metadata": {
        "id": "oR665gt17536"
      }
    },
    {
      "cell_type": "code",
      "source": [
        "scaler = MinMaxScaler() ##initialize the minmax scaler from sklearn\n",
        "NYBY_winter = scaler.fit_transform(NYBY_winter) ## fit transform on train data\n",
        "NYBY_winter_pred = scaler.fit_transform(NYBY_winter_pred)\n"
      ],
      "metadata": {
        "id": "Btv5sV_Q7KV-"
      },
      "execution_count": 25,
      "outputs": []
    },
    {
      "cell_type": "code",
      "source": [
        "#plt.plot(UDY_winter, UDY_winter_pred, color=\"b\")\n",
        "\n",
        "ax1 = sns.distplot(NYBY_winter, color=\"r\", label=\"Actual Value\")\n",
        "sns.distplot(NYBY_winter_pred, color=\"b\", label=\"Fitted Values\" , ax=ax1)"
      ],
      "metadata": {
        "colab": {
          "base_uri": "https://localhost:8080/",
          "height": 372
        },
        "id": "P35lPbzn4KYK",
        "outputId": "3f901ca0-d3cd-4fee-ca72-7c6f3aefb67d"
      },
      "execution_count": 26,
      "outputs": [
        {
          "output_type": "stream",
          "name": "stderr",
          "text": [
            "/usr/local/lib/python3.7/dist-packages/seaborn/distributions.py:2619: FutureWarning: `distplot` is a deprecated function and will be removed in a future version. Please adapt your code to use either `displot` (a figure-level function with similar flexibility) or `histplot` (an axes-level function for histograms).\n",
            "  warnings.warn(msg, FutureWarning)\n",
            "/usr/local/lib/python3.7/dist-packages/seaborn/distributions.py:2619: FutureWarning: `distplot` is a deprecated function and will be removed in a future version. Please adapt your code to use either `displot` (a figure-level function with similar flexibility) or `histplot` (an axes-level function for histograms).\n",
            "  warnings.warn(msg, FutureWarning)\n"
          ]
        },
        {
          "output_type": "execute_result",
          "data": {
            "text/plain": [
              "<matplotlib.axes._subplots.AxesSubplot at 0x7f4aa3c8e110>"
            ]
          },
          "metadata": {},
          "execution_count": 26
        },
        {
          "output_type": "display_data",
          "data": {
            "text/plain": [
              "<Figure size 432x288 with 1 Axes>"
            ],
            "image/png": "[encoded data removed]"
          },
          "metadata": {
            "needs_background": "light"
          }
        }
      ]
    },
    {
      "cell_type": "markdown",
      "source": [
        "### linear regression for summer of all the cities"
      ],
      "metadata": {
        "id": "xvlsiGPyl6Nw"
      }
    },
    {
      "cell_type": "code",
      "source": [
        "NYB_summer_linearmodel = LinearRegression()\n",
        "# fit model\n",
        "NYB_summer_linearmodel.fit(NYBX_summer, NYBY_summer)"
      ],
      "metadata": {
        "colab": {
          "base_uri": "https://localhost:8080/"
        },
        "id": "JpBupWhxf1zM",
        "outputId": "0eb49b58-5a13-49f0-d13a-950556affec3"
      },
      "execution_count": 27,
      "outputs": [
        {
          "output_type": "execute_result",
          "data": {
            "text/plain": [
              "LinearRegression()"
            ]
          },
          "metadata": {},
          "execution_count": 27
        }
      ]
    },
    {
      "cell_type": "code",
      "source": [
        "NYBY_summer_pred = NYB_summer_linearmodel.predict(NYBX_summer)\n",
        "r2_score( np.array(NYBY_summer), NYBY_summer_pred,multioutput='uniform_average')"
      ],
      "metadata": {
        "colab": {
          "base_uri": "https://localhost:8080/"
        },
        "id": "ewcv3cJHf-ac",
        "outputId": "064f53cf-b53f-497e-c7d3-e5f146fdb77d"
      },
      "execution_count": 28,
      "outputs": [
        {
          "output_type": "execute_result",
          "data": {
            "text/plain": [
              "0.4182405260720155"
            ]
          },
          "metadata": {},
          "execution_count": 28
        }
      ]
    },
    {
      "cell_type": "code",
      "source": [
        "mean_absolute_error( NYBY_summer, NYBY_summer_pred)"
      ],
      "metadata": {
        "colab": {
          "base_uri": "https://localhost:8080/"
        },
        "id": "LtcMJRJslTSo",
        "outputId": "855436e6-c132-42a7-e58b-9fd4495dacd8"
      },
      "execution_count": 29,
      "outputs": [
        {
          "output_type": "execute_result",
          "data": {
            "text/plain": [
              "183238.4478232289"
            ]
          },
          "metadata": {},
          "execution_count": 29
        }
      ]
    },
    {
      "cell_type": "code",
      "source": [
        "mean_absolute_percentage_error( NYBY_summer, NYBY_summer_pred)"
      ],
      "metadata": {
        "colab": {
          "base_uri": "https://localhost:8080/"
        },
        "id": "MtecUuzHlTWc",
        "outputId": "07a31845-9776-4581-e56c-d06eac317265"
      },
      "execution_count": 30,
      "outputs": [
        {
          "output_type": "execute_result",
          "data": {
            "text/plain": [
              "2.330934624386339e+19"
            ]
          },
          "metadata": {},
          "execution_count": 30
        }
      ]
    },
    {
      "cell_type": "code",
      "source": [
        "mean_squared_error( NYBY_summer, NYBY_summer_pred)"
      ],
      "metadata": {
        "colab": {
          "base_uri": "https://localhost:8080/"
        },
        "id": "4eXheUTulTfT",
        "outputId": "084e07fb-d2fd-466b-b3bf-6c77d860ef3b"
      },
      "execution_count": 31,
      "outputs": [
        {
          "output_type": "execute_result",
          "data": {
            "text/plain": [
              "7627777994882.149"
            ]
          },
          "metadata": {},
          "execution_count": 31
        }
      ]
    },
    {
      "cell_type": "markdown",
      "source": [
        "###Scaling values and plotting: linear regression graph (summer)"
      ],
      "metadata": {
        "id": "jSpzdPw-8z9Q"
      }
    },
    {
      "cell_type": "code",
      "source": [
        "NYBY_summer = scaler.fit_transform( NYBY_summer) ## fit transform on train data\n",
        "NYBY_summer_pred = scaler.fit_transform(NYBY_summer_pred)"
      ],
      "metadata": {
        "id": "whCJTCLF8ylm"
      },
      "execution_count": 32,
      "outputs": []
    },
    {
      "cell_type": "code",
      "source": [
        "ax1 = sns.distplot(NYBY_summer, color=\"r\", label=\"Actual Value\")\n",
        "sns.distplot(NYBY_summer_pred, color=\"b\", label=\"Fitted Values\" , ax=ax1)"
      ],
      "metadata": {
        "colab": {
          "base_uri": "https://localhost:8080/",
          "height": 372
        },
        "id": "AzaTWZu09AXD",
        "outputId": "584659d4-79cc-4223-8597-7c6dddf346db"
      },
      "execution_count": 33,
      "outputs": [
        {
          "output_type": "stream",
          "name": "stderr",
          "text": [
            "/usr/local/lib/python3.7/dist-packages/seaborn/distributions.py:2619: FutureWarning: `distplot` is a deprecated function and will be removed in a future version. Please adapt your code to use either `displot` (a figure-level function with similar flexibility) or `histplot` (an axes-level function for histograms).\n",
            "  warnings.warn(msg, FutureWarning)\n",
            "/usr/local/lib/python3.7/dist-packages/seaborn/distributions.py:2619: FutureWarning: `distplot` is a deprecated function and will be removed in a future version. Please adapt your code to use either `displot` (a figure-level function with similar flexibility) or `histplot` (an axes-level function for histograms).\n",
            "  warnings.warn(msg, FutureWarning)\n"
          ]
        },
        {
          "output_type": "execute_result",
          "data": {
            "text/plain": [
              "<matplotlib.axes._subplots.AxesSubplot at 0x7f4aa3b99650>"
            ]
          },
          "metadata": {},
          "execution_count": 33
        },
        {
          "output_type": "display_data",
          "data": {
            "text/plain": [
              "<Figure size 432x288 with 1 Axes>"
            ],
            "image/png": "[encoded data removed]"
          },
          "metadata": {
            "needs_background": "light"
          }
        }
      ]
    },
    {
      "cell_type": "markdown",
      "source": [
        "### Conclusion for linear regression :\n",
        "\n",
        "Clearly, linear regression is not an accurate model for both summer and winter data. My guess here is that the variables are not as dependent as they must be for a linear regression to work."
      ],
      "metadata": {
        "id": "pd8bq6Ugl_B5"
      }
    },
    {
      "cell_type": "markdown",
      "source": [
        "# **KNN for multioutput Regression**"
      ],
      "metadata": {
        "id": "ZtHcDLZmo90v"
      }
    },
    {
      "cell_type": "markdown",
      "source": [
        "### KNN for winter of all the cities"
      ],
      "metadata": {
        "id": "5R4glefFrKx6"
      }
    },
    {
      "cell_type": "code",
      "source": [
        "KNNmodel = KNeighborsRegressor()\n",
        "# fit model\n",
        "KNNmodel.fit(NYBX_winter, NYBY_winter)"
      ],
      "metadata": {
        "colab": {
          "base_uri": "https://localhost:8080/"
        },
        "id": "bm82RicJpFwg",
        "outputId": "2fb5e9cf-0967-433b-8382-dc36de7e46f7"
      },
      "execution_count": 34,
      "outputs": [
        {
          "output_type": "execute_result",
          "data": {
            "text/plain": [
              "KNeighborsRegressor()"
            ]
          },
          "metadata": {},
          "execution_count": 34
        }
      ]
    },
    {
      "cell_type": "code",
      "source": [
        "NYB_winter_KNNY_pred = KNNmodel.predict(NYBX_winter)\n",
        "r2_score( np.array(NYBY_winter), NYB_winter_KNNY_pred,multioutput='uniform_average')"
      ],
      "metadata": {
        "colab": {
          "base_uri": "https://localhost:8080/"
        },
        "id": "EldBF_9fpK8i",
        "outputId": "352f9ff1-cdc3-4e6c-9723-df83606cbec0"
      },
      "execution_count": 35,
      "outputs": [
        {
          "output_type": "execute_result",
          "data": {
            "text/plain": [
              "0.6728852541365734"
            ]
          },
          "metadata": {},
          "execution_count": 35
        }
      ]
    },
    {
      "cell_type": "code",
      "source": [
        "mean_absolute_error( NYBY_winter, NYB_winter_KNNY_pred)"
      ],
      "metadata": {
        "colab": {
          "base_uri": "https://localhost:8080/"
        },
        "id": "uXYM530apLHJ",
        "outputId": "34cad257-1dd6-4f69-b3e6-7bbd4877e43e"
      },
      "execution_count": 36,
      "outputs": [
        {
          "output_type": "execute_result",
          "data": {
            "text/plain": [
              "0.04923793150015671"
            ]
          },
          "metadata": {},
          "execution_count": 36
        }
      ]
    },
    {
      "cell_type": "code",
      "source": [
        "mean_absolute_percentage_error( NYBY_winter, NYB_winter_KNNY_pred)"
      ],
      "metadata": {
        "colab": {
          "base_uri": "https://localhost:8080/"
        },
        "id": "HJgvgo22pLJj",
        "outputId": "be73add5-a384-4723-c0ad-55d30383bc48"
      },
      "execution_count": 37,
      "outputs": [
        {
          "output_type": "execute_result",
          "data": {
            "text/plain": [
              "13559710651192.947"
            ]
          },
          "metadata": {},
          "execution_count": 37
        }
      ]
    },
    {
      "cell_type": "code",
      "source": [
        "mean_squared_error( NYBY_winter, NYB_winter_KNNY_pred)"
      ],
      "metadata": {
        "colab": {
          "base_uri": "https://localhost:8080/"
        },
        "id": "pRlWX_e4pLMf",
        "outputId": "3a773f7c-9172-4559-eb9f-4abb13fdad21"
      },
      "execution_count": 38,
      "outputs": [
        {
          "output_type": "execute_result",
          "data": {
            "text/plain": [
              "0.014619457937354368"
            ]
          },
          "metadata": {},
          "execution_count": 38
        }
      ]
    },
    {
      "cell_type": "markdown",
      "source": [
        "### Scaling and plotting for KNN (winter)"
      ],
      "metadata": {
        "id": "Sfv8GK3M90X4"
      }
    },
    {
      "cell_type": "code",
      "source": [
        "NYB_winter_KNNY_pred = scaler.fit_transform(NYB_winter_KNNY_pred)"
      ],
      "metadata": {
        "id": "-DP1R6SA9Vgo"
      },
      "execution_count": 39,
      "outputs": []
    },
    {
      "cell_type": "code",
      "source": [
        "ax1 = sns.distplot(NYBY_winter, color=\"r\", label=\"Actual Value\")\n",
        "sns.distplot(NYB_winter_KNNY_pred, color=\"b\", label=\"Fitted Values\" , ax=ax1)"
      ],
      "metadata": {
        "colab": {
          "base_uri": "https://localhost:8080/",
          "height": 372
        },
        "id": "ZAoNqUE49Wx7",
        "outputId": "7857bbea-4782-4584-fa4b-2880c53e76a9"
      },
      "execution_count": 40,
      "outputs": [
        {
          "output_type": "stream",
          "name": "stderr",
          "text": [
            "/usr/local/lib/python3.7/dist-packages/seaborn/distributions.py:2619: FutureWarning: `distplot` is a deprecated function and will be removed in a future version. Please adapt your code to use either `displot` (a figure-level function with similar flexibility) or `histplot` (an axes-level function for histograms).\n",
            "  warnings.warn(msg, FutureWarning)\n",
            "/usr/local/lib/python3.7/dist-packages/seaborn/distributions.py:2619: FutureWarning: `distplot` is a deprecated function and will be removed in a future version. Please adapt your code to use either `displot` (a figure-level function with similar flexibility) or `histplot` (an axes-level function for histograms).\n",
            "  warnings.warn(msg, FutureWarning)\n"
          ]
        },
        {
          "output_type": "execute_result",
          "data": {
            "text/plain": [
              "<matplotlib.axes._subplots.AxesSubplot at 0x7f4acb367550>"
            ]
          },
          "metadata": {},
          "execution_count": 40
        },
        {
          "output_type": "display_data",
          "data": {
            "text/plain": [
              "<Figure size 432x288 with 1 Axes>"
            ],
            "image/png": "[encoded data removed]"
          },
          "metadata": {
            "needs_background": "light"
          }
        }
      ]
    },
    {
      "cell_type": "markdown",
      "source": [
        "### KNN for summer of all the cities"
      ],
      "metadata": {
        "id": "CACBETNCrRlL"
      }
    },
    {
      "cell_type": "code",
      "source": [
        "# fit model\n",
        "KNNmodel.fit(NYBX_summer, NYBY_summer)"
      ],
      "metadata": {
        "colab": {
          "base_uri": "https://localhost:8080/"
        },
        "id": "06EnioK1qGcN",
        "outputId": "ebc7fe72-9e44-46ec-a66f-4c2c0e89cbff"
      },
      "execution_count": 41,
      "outputs": [
        {
          "output_type": "execute_result",
          "data": {
            "text/plain": [
              "KNeighborsRegressor()"
            ]
          },
          "metadata": {},
          "execution_count": 41
        }
      ]
    },
    {
      "cell_type": "code",
      "source": [
        "NYB_summer_KNNY_pred = KNNmodel.predict(NYBX_summer)\n",
        "r2_score( np.array(NYBY_summer), NYB_summer_KNNY_pred,multioutput='uniform_average')"
      ],
      "metadata": {
        "colab": {
          "base_uri": "https://localhost:8080/"
        },
        "id": "ZTKMqypNqGtf",
        "outputId": "b90df574-7cb1-4a25-ecc7-330b46935d1d"
      },
      "execution_count": 42,
      "outputs": [
        {
          "output_type": "execute_result",
          "data": {
            "text/plain": [
              "0.7693353122990839"
            ]
          },
          "metadata": {},
          "execution_count": 42
        }
      ]
    },
    {
      "cell_type": "code",
      "source": [
        "mean_absolute_error( NYBY_summer, NYB_summer_KNNY_pred)"
      ],
      "metadata": {
        "colab": {
          "base_uri": "https://localhost:8080/"
        },
        "id": "NPBz4KjbqG19",
        "outputId": "77adcc7b-1219-456e-ecf4-958e3b8d1fcf"
      },
      "execution_count": 43,
      "outputs": [
        {
          "output_type": "execute_result",
          "data": {
            "text/plain": [
              "0.04017280340219754"
            ]
          },
          "metadata": {},
          "execution_count": 43
        }
      ]
    },
    {
      "cell_type": "code",
      "source": [
        "mean_absolute_percentage_error( NYBY_summer, NYB_summer_KNNY_pred)"
      ],
      "metadata": {
        "colab": {
          "base_uri": "https://localhost:8080/"
        },
        "id": "QnYgj3oiqG4b",
        "outputId": "5da2090e-cddd-4e31-f0ab-86daec770fc1"
      },
      "execution_count": 44,
      "outputs": [
        {
          "output_type": "execute_result",
          "data": {
            "text/plain": [
              "25141656031601.875"
            ]
          },
          "metadata": {},
          "execution_count": 44
        }
      ]
    },
    {
      "cell_type": "code",
      "source": [
        "mean_squared_error( NYBY_summer, NYB_summer_KNNY_pred)"
      ],
      "metadata": {
        "colab": {
          "base_uri": "https://localhost:8080/"
        },
        "id": "njuGH4pIqG8a",
        "outputId": "3eedb6b3-69cb-4a4c-c2c7-7cfe014efb25"
      },
      "execution_count": 45,
      "outputs": [
        {
          "output_type": "execute_result",
          "data": {
            "text/plain": [
              "0.011312508495627774"
            ]
          },
          "metadata": {},
          "execution_count": 45
        }
      ]
    },
    {
      "cell_type": "markdown",
      "source": [
        "### Scaling and plotting for KNN (summer)"
      ],
      "metadata": {
        "id": "hR7C7JB--DTc"
      }
    },
    {
      "cell_type": "code",
      "source": [
        "NYB_summer_KNNY_pred = scaler.fit_transform(NYB_summer_KNNY_pred)"
      ],
      "metadata": {
        "id": "eqaWOQbA9aRJ"
      },
      "execution_count": 46,
      "outputs": []
    },
    {
      "cell_type": "code",
      "source": [
        "ax1 = sns.distplot(NYBY_summer, color=\"r\", label=\"Actual Value\")\n",
        "sns.distplot(NYB_summer_KNNY_pred, color=\"b\", label=\"Fitted Values\" , ax=ax1)"
      ],
      "metadata": {
        "colab": {
          "base_uri": "https://localhost:8080/",
          "height": 372
        },
        "id": "TYKpgsou9bVa",
        "outputId": "2de9dc5e-3bcf-43ff-a507-ce834b8ef7e3"
      },
      "execution_count": 47,
      "outputs": [
        {
          "output_type": "stream",
          "name": "stderr",
          "text": [
            "/usr/local/lib/python3.7/dist-packages/seaborn/distributions.py:2619: FutureWarning: `distplot` is a deprecated function and will be removed in a future version. Please adapt your code to use either `displot` (a figure-level function with similar flexibility) or `histplot` (an axes-level function for histograms).\n",
            "  warnings.warn(msg, FutureWarning)\n",
            "/usr/local/lib/python3.7/dist-packages/seaborn/distributions.py:2619: FutureWarning: `distplot` is a deprecated function and will be removed in a future version. Please adapt your code to use either `displot` (a figure-level function with similar flexibility) or `histplot` (an axes-level function for histograms).\n",
            "  warnings.warn(msg, FutureWarning)\n"
          ]
        },
        {
          "output_type": "execute_result",
          "data": {
            "text/plain": [
              "<matplotlib.axes._subplots.AxesSubplot at 0x7f4aa3ccc850>"
            ]
          },
          "metadata": {},
          "execution_count": 47
        },
        {
          "output_type": "display_data",
          "data": {
            "text/plain": [
              "<Figure size 432x288 with 1 Axes>"
            ],
            "image/png": "[encoded data removed]"
          },
          "metadata": {
            "needs_background": "light"
          }
        }
      ]
    },
    {
      "cell_type": "markdown",
      "source": [
        "### Conclusion for KNN :\n",
        "\n",
        "KNN seems to be a better model for both summer and winter data when compared to that of linear regression. But, it is not the best model as a single model as it's accuracy is only about 76%."
      ],
      "metadata": {
        "id": "JgZ4MyLErW4Q"
      }
    },
    {
      "cell_type": "markdown",
      "source": [
        "# **Random Forest for multioutput Regression**\n"
      ],
      "metadata": {
        "id": "dA3TW_Gtr3um"
      }
    },
    {
      "cell_type": "markdown",
      "source": [
        "### Random forest for winter of all the cities"
      ],
      "metadata": {
        "id": "38REkVzFr92t"
      }
    },
    {
      "cell_type": "code",
      "source": [
        "RFmodel = RandomForestRegressor()\n",
        "# fit model\n",
        "RFmodel.fit(NYBX_winter, NYBY_winter)"
      ],
      "metadata": {
        "colab": {
          "base_uri": "https://localhost:8080/"
        },
        "id": "5n2KI7dFsBUR",
        "outputId": "c53a8641-049e-4c48-8196-3a13a6febdb6"
      },
      "execution_count": 48,
      "outputs": [
        {
          "output_type": "execute_result",
          "data": {
            "text/plain": [
              "RandomForestRegressor()"
            ]
          },
          "metadata": {},
          "execution_count": 48
        }
      ]
    },
    {
      "cell_type": "code",
      "source": [
        "NYB_winter_RFY_pred = RFmodel.predict(NYBX_winter)\n",
        "r2_score( np.array(NYBY_winter), NYB_winter_RFY_pred,multioutput='uniform_average')"
      ],
      "metadata": {
        "colab": {
          "base_uri": "https://localhost:8080/"
        },
        "id": "d8UA2hVEsBWz",
        "outputId": "8ef71cee-52d9-4c91-bbae-e4a3f4ad8c64"
      },
      "execution_count": 49,
      "outputs": [
        {
          "output_type": "execute_result",
          "data": {
            "text/plain": [
              "0.9281263094418906"
            ]
          },
          "metadata": {},
          "execution_count": 49
        }
      ]
    },
    {
      "cell_type": "code",
      "source": [
        "mean_absolute_error( NYBY_winter, NYB_winter_RFY_pred)"
      ],
      "metadata": {
        "colab": {
          "base_uri": "https://localhost:8080/"
        },
        "id": "oYr46dXbsBaM",
        "outputId": "d613d625-66bf-4441-ac2f-c023d8f10f70"
      },
      "execution_count": 50,
      "outputs": [
        {
          "output_type": "execute_result",
          "data": {
            "text/plain": [
              "0.02213556176982727"
            ]
          },
          "metadata": {},
          "execution_count": 50
        }
      ]
    },
    {
      "cell_type": "code",
      "source": [
        "mean_absolute_percentage_error( NYBY_winter, NYB_winter_RFY_pred)"
      ],
      "metadata": {
        "colab": {
          "base_uri": "https://localhost:8080/"
        },
        "id": "KuZphopAsBlY",
        "outputId": "83ea05fb-334b-402e-a516-1b1ff5aa158d"
      },
      "execution_count": 51,
      "outputs": [
        {
          "output_type": "execute_result",
          "data": {
            "text/plain": [
              "4084317721969.946"
            ]
          },
          "metadata": {},
          "execution_count": 51
        }
      ]
    },
    {
      "cell_type": "code",
      "source": [
        "mean_squared_error( NYBY_winter, NYB_winter_RFY_pred)"
      ],
      "metadata": {
        "colab": {
          "base_uri": "https://localhost:8080/"
        },
        "id": "SOx9fe0msB24",
        "outputId": "92ed80ae-b608-4e27-a22b-5ed7a07e1b4a"
      },
      "execution_count": 52,
      "outputs": [
        {
          "output_type": "execute_result",
          "data": {
            "text/plain": [
              "0.0031541592435031275"
            ]
          },
          "metadata": {},
          "execution_count": 52
        }
      ]
    },
    {
      "cell_type": "markdown",
      "source": [
        "### Scaling and plotting for Random forest (winter)"
      ],
      "metadata": {
        "id": "AmobSUlr-8z3"
      }
    },
    {
      "cell_type": "code",
      "source": [
        "NYB_winter_RFY_pred = scaler.fit_transform(NYB_winter_RFY_pred)"
      ],
      "metadata": {
        "id": "TLE0S0Vi-7YF"
      },
      "execution_count": 53,
      "outputs": []
    },
    {
      "cell_type": "code",
      "source": [
        "ax1 = sns.distplot(NYBY_winter, color=\"r\", label=\"Actual Value\")\n",
        "sns.distplot(NYB_winter_RFY_pred, color=\"b\", label=\"Fitted Values\" , ax=ax1)"
      ],
      "metadata": {
        "colab": {
          "base_uri": "https://localhost:8080/",
          "height": 372
        },
        "id": "KEU3CbXY-8Ho",
        "outputId": "488d0392-07bb-4f0e-a0b5-ef1aacf0553c"
      },
      "execution_count": 54,
      "outputs": [
        {
          "output_type": "stream",
          "name": "stderr",
          "text": [
            "/usr/local/lib/python3.7/dist-packages/seaborn/distributions.py:2619: FutureWarning: `distplot` is a deprecated function and will be removed in a future version. Please adapt your code to use either `displot` (a figure-level function with similar flexibility) or `histplot` (an axes-level function for histograms).\n",
            "  warnings.warn(msg, FutureWarning)\n",
            "/usr/local/lib/python3.7/dist-packages/seaborn/distributions.py:2619: FutureWarning: `distplot` is a deprecated function and will be removed in a future version. Please adapt your code to use either `displot` (a figure-level function with similar flexibility) or `histplot` (an axes-level function for histograms).\n",
            "  warnings.warn(msg, FutureWarning)\n"
          ]
        },
        {
          "output_type": "execute_result",
          "data": {
            "text/plain": [
              "<matplotlib.axes._subplots.AxesSubplot at 0x7f4aa3b03d90>"
            ]
          },
          "metadata": {},
          "execution_count": 54
        },
        {
          "output_type": "display_data",
          "data": {
            "text/plain": [
              "<Figure size 432x288 with 1 Axes>"
            ],
            "image/png": "[encoded data removed]"
          },
          "metadata": {
            "needs_background": "light"
          }
        }
      ]
    },
    {
      "cell_type": "markdown",
      "source": [
        "### Random forest for summer of all the cities"
      ],
      "metadata": {
        "id": "fA6WNd8CsGYL"
      }
    },
    {
      "cell_type": "code",
      "source": [
        "RFmodel.fit(NYBX_summer, NYBY_summer)"
      ],
      "metadata": {
        "colab": {
          "base_uri": "https://localhost:8080/"
        },
        "id": "-bSGFHq0sB42",
        "outputId": "69cf7075-67d1-456b-9184-393ba906de39"
      },
      "execution_count": 55,
      "outputs": [
        {
          "output_type": "execute_result",
          "data": {
            "text/plain": [
              "RandomForestRegressor()"
            ]
          },
          "metadata": {},
          "execution_count": 55
        }
      ]
    },
    {
      "cell_type": "code",
      "source": [
        "NYB_summer_RFY_pred = RFmodel.predict(NYBX_summer)\n",
        "r2_score( np.array(NYBY_summer), NYB_summer_RFY_pred,multioutput='uniform_average')"
      ],
      "metadata": {
        "colab": {
          "base_uri": "https://localhost:8080/"
        },
        "id": "t72BbtsksB75",
        "outputId": "d98aebf6-1526-4345-8be8-04da2b7bd4e4"
      },
      "execution_count": 56,
      "outputs": [
        {
          "output_type": "execute_result",
          "data": {
            "text/plain": [
              "0.9533621074432763"
            ]
          },
          "metadata": {},
          "execution_count": 56
        }
      ]
    },
    {
      "cell_type": "code",
      "source": [
        "mean_absolute_error( NYBY_summer, NYB_summer_RFY_pred)"
      ],
      "metadata": {
        "colab": {
          "base_uri": "https://localhost:8080/"
        },
        "id": "Kmgif-rPsB_E",
        "outputId": "89a70418-b01f-4feb-bfc9-9e2e24ae0a27"
      },
      "execution_count": 57,
      "outputs": [
        {
          "output_type": "execute_result",
          "data": {
            "text/plain": [
              "0.01771731987760287"
            ]
          },
          "metadata": {},
          "execution_count": 57
        }
      ]
    },
    {
      "cell_type": "code",
      "source": [
        "mean_absolute_percentage_error( NYBY_summer, NYB_summer_RFY_pred)\n"
      ],
      "metadata": {
        "colab": {
          "base_uri": "https://localhost:8080/"
        },
        "id": "dIZJBC1mssH5",
        "outputId": "317be15f-c9da-4c70-8770-e26fef86bb76"
      },
      "execution_count": 58,
      "outputs": [
        {
          "output_type": "execute_result",
          "data": {
            "text/plain": [
              "10782110196641.834"
            ]
          },
          "metadata": {},
          "execution_count": 58
        }
      ]
    },
    {
      "cell_type": "code",
      "source": [
        "mean_squared_error( NYBY_summer, NYB_summer_RFY_pred)"
      ],
      "metadata": {
        "colab": {
          "base_uri": "https://localhost:8080/"
        },
        "id": "gTcL1fakssKt",
        "outputId": "54562e69-7587-4966-e450-13f4173612d9"
      },
      "execution_count": 59,
      "outputs": [
        {
          "output_type": "execute_result",
          "data": {
            "text/plain": [
              "0.002657936910674629"
            ]
          },
          "metadata": {},
          "execution_count": 59
        }
      ]
    },
    {
      "cell_type": "markdown",
      "source": [
        "### Scaling and plotting for Random forest (summer)"
      ],
      "metadata": {
        "id": "D15vJrBi_UBH"
      }
    },
    {
      "cell_type": "code",
      "source": [
        "NYB_summer_RFY_pred = scaler.fit_transform(NYB_summer_RFY_pred)"
      ],
      "metadata": {
        "id": "VaVjiAmv_Tp2"
      },
      "execution_count": 60,
      "outputs": []
    },
    {
      "cell_type": "code",
      "source": [
        "ax1 = sns.distplot(NYBY_summer, color=\"r\", label=\"Actual Value\")\n",
        "sns.distplot(NYB_summer_RFY_pred, color=\"b\", label=\"Fitted Values\" , ax=ax1)"
      ],
      "metadata": {
        "colab": {
          "base_uri": "https://localhost:8080/",
          "height": 372
        },
        "id": "_Op97Z2A_TV3",
        "outputId": "b53da4e7-ac36-4c25-cfed-70851259d718"
      },
      "execution_count": 61,
      "outputs": [
        {
          "output_type": "stream",
          "name": "stderr",
          "text": [
            "/usr/local/lib/python3.7/dist-packages/seaborn/distributions.py:2619: FutureWarning: `distplot` is a deprecated function and will be removed in a future version. Please adapt your code to use either `displot` (a figure-level function with similar flexibility) or `histplot` (an axes-level function for histograms).\n",
            "  warnings.warn(msg, FutureWarning)\n",
            "/usr/local/lib/python3.7/dist-packages/seaborn/distributions.py:2619: FutureWarning: `distplot` is a deprecated function and will be removed in a future version. Please adapt your code to use either `displot` (a figure-level function with similar flexibility) or `histplot` (an axes-level function for histograms).\n",
            "  warnings.warn(msg, FutureWarning)\n"
          ]
        },
        {
          "output_type": "execute_result",
          "data": {
            "text/plain": [
              "<matplotlib.axes._subplots.AxesSubplot at 0x7f4aad267550>"
            ]
          },
          "metadata": {},
          "execution_count": 61
        },
        {
          "output_type": "display_data",
          "data": {
            "text/plain": [
              "<Figure size 432x288 with 1 Axes>"
            ],
            "image/png": "[encoded data removed]"
          },
          "metadata": {
            "needs_background": "light"
          }
        }
      ]
    },
    {
      "cell_type": "markdown",
      "source": [
        "### Conclusion for Random Forest\n",
        " :\n",
        "Random forest seems to be the best model for the data with 93% accuracy and the graph shows how accurate the predicted values are to that of actual values."
      ],
      "metadata": {
        "id": "G7yeVihpuFYr"
      }
    },
    {
      "cell_type": "markdown",
      "source": [
        "# **MultiOutput Regression using XGBoost:**"
      ],
      "metadata": {
        "id": "hK2kTNlWurcZ"
      }
    },
    {
      "cell_type": "markdown",
      "source": [
        "### XGBoost for winter of all the cities"
      ],
      "metadata": {
        "id": "H4Z8mL-ruyEd"
      }
    },
    {
      "cell_type": "code",
      "source": [
        "multioutputregressor = MultiOutputRegressor(xgb.XGBRegressor(objective='reg:linear')).fit(NYBX_winter, NYBY_winter)\n",
        "NYB_winter_XGBY_pred= multioutputregressor.predict(NYBX_winter)"
      ],
      "metadata": {
        "colab": {
          "base_uri": "https://localhost:8080/"
        },
        "id": "aTJuUrjSuqxK",
        "outputId": "12f31001-f4b1-41ec-fb0e-c49696c83dbf"
      },
      "execution_count": 62,
      "outputs": [
        {
          "output_type": "stream",
          "name": "stdout",
          "text": [
            "[01:16:33] WARNING: /workspace/src/objective/regression_obj.cu:152: reg:linear is now deprecated in favor of reg:squarederror.\n",
            "[01:16:33] WARNING: /workspace/src/objective/regression_obj.cu:152: reg:linear is now deprecated in favor of reg:squarederror.\n",
            "[01:16:33] WARNING: /workspace/src/objective/regression_obj.cu:152: reg:linear is now deprecated in favor of reg:squarederror.\n",
            "[01:16:33] WARNING: /workspace/src/objective/regression_obj.cu:152: reg:linear is now deprecated in favor of reg:squarederror.\n",
            "[01:16:33] WARNING: /workspace/src/objective/regression_obj.cu:152: reg:linear is now deprecated in favor of reg:squarederror.\n",
            "[01:16:34] WARNING: /workspace/src/objective/regression_obj.cu:152: reg:linear is now deprecated in favor of reg:squarederror.\n"
          ]
        }
      ]
    },
    {
      "cell_type": "code",
      "source": [
        "r2_score( np.array(NYBY_winter), NYB_winter_XGBY_pred ,multioutput='uniform_average')"
      ],
      "metadata": {
        "colab": {
          "base_uri": "https://localhost:8080/"
        },
        "id": "SkA_s1O4u8pQ",
        "outputId": "0571d29b-4756-4c9f-a6b8-96015686003a"
      },
      "execution_count": 63,
      "outputs": [
        {
          "output_type": "execute_result",
          "data": {
            "text/plain": [
              "0.784859354397526"
            ]
          },
          "metadata": {},
          "execution_count": 63
        }
      ]
    },
    {
      "cell_type": "code",
      "source": [
        "mean_absolute_error( NYBY_winter, NYB_winter_XGBY_pred)"
      ],
      "metadata": {
        "colab": {
          "base_uri": "https://localhost:8080/"
        },
        "id": "DlUIClNEu_Lu",
        "outputId": "f6b7daae-cad6-48ea-a8bc-20bb8e6e0216"
      },
      "execution_count": 64,
      "outputs": [
        {
          "output_type": "execute_result",
          "data": {
            "text/plain": [
              "0.04989373116107932"
            ]
          },
          "metadata": {},
          "execution_count": 64
        }
      ]
    },
    {
      "cell_type": "code",
      "source": [
        "mean_absolute_percentage_error( NYBY_winter, NYB_winter_XGBY_pred)"
      ],
      "metadata": {
        "colab": {
          "base_uri": "https://localhost:8080/"
        },
        "id": "v_D3evyYu_HC",
        "outputId": "2057726d-a3fd-44d3-93c2-a559627fd7df"
      },
      "execution_count": 65,
      "outputs": [
        {
          "output_type": "execute_result",
          "data": {
            "text/plain": [
              "9500020801022.666"
            ]
          },
          "metadata": {},
          "execution_count": 65
        }
      ]
    },
    {
      "cell_type": "code",
      "source": [
        "mean_squared_error( NYBY_winter, NYB_winter_XGBY_pred)"
      ],
      "metadata": {
        "colab": {
          "base_uri": "https://localhost:8080/"
        },
        "id": "RiZiYrHHu_EY",
        "outputId": "edd5f647-6fd5-4e6f-eb33-3969e9b07162"
      },
      "execution_count": 66,
      "outputs": [
        {
          "output_type": "execute_result",
          "data": {
            "text/plain": [
              "0.014530715919526255"
            ]
          },
          "metadata": {},
          "execution_count": 66
        }
      ]
    },
    {
      "cell_type": "markdown",
      "source": [
        "### Scaling and plotting for XGBoost (winter)"
      ],
      "metadata": {
        "id": "U6wpofZY_jqq"
      }
    },
    {
      "cell_type": "code",
      "source": [
        "NYB_winter_XGBY_pred = scaler.fit_transform(NYB_winter_XGBY_pred)"
      ],
      "metadata": {
        "id": "3ZaA2AHd_kUj"
      },
      "execution_count": 67,
      "outputs": []
    },
    {
      "cell_type": "code",
      "source": [
        "ax1 = sns.distplot(NYBY_winter, color=\"r\", label=\"Actual Value\")\n",
        "sns.distplot(NYB_winter_XGBY_pred, color=\"b\", label=\"Fitted Values\" , ax=ax1)"
      ],
      "metadata": {
        "colab": {
          "base_uri": "https://localhost:8080/",
          "height": 372
        },
        "id": "c00iXVTS_iy-",
        "outputId": "1c553207-4cc0-4e65-f466-60dfe7f52043"
      },
      "execution_count": 68,
      "outputs": [
        {
          "output_type": "stream",
          "name": "stderr",
          "text": [
            "/usr/local/lib/python3.7/dist-packages/seaborn/distributions.py:2619: FutureWarning: `distplot` is a deprecated function and will be removed in a future version. Please adapt your code to use either `displot` (a figure-level function with similar flexibility) or `histplot` (an axes-level function for histograms).\n",
            "  warnings.warn(msg, FutureWarning)\n",
            "/usr/local/lib/python3.7/dist-packages/seaborn/distributions.py:2619: FutureWarning: `distplot` is a deprecated function and will be removed in a future version. Please adapt your code to use either `displot` (a figure-level function with similar flexibility) or `histplot` (an axes-level function for histograms).\n",
            "  warnings.warn(msg, FutureWarning)\n"
          ]
        },
        {
          "output_type": "execute_result",
          "data": {
            "text/plain": [
              "<matplotlib.axes._subplots.AxesSubplot at 0x7f4aa382e9d0>"
            ]
          },
          "metadata": {},
          "execution_count": 68
        },
        {
          "output_type": "display_data",
          "data": {
            "text/plain": [
              "<Figure size 432x288 with 1 Axes>"
            ],
            "image/png": "[encoded data removed]"
          },
          "metadata": {
            "needs_background": "light"
          }
        }
      ]
    },
    {
      "cell_type": "markdown",
      "source": [
        "### XGBoost for summer of all the cities"
      ],
      "metadata": {
        "id": "jbhrtoDAvCcy"
      }
    },
    {
      "cell_type": "code",
      "source": [
        "multioutputregressor.fit(NYBX_summer, NYBY_summer)\n",
        "NYB_summer_XGBY_pred= multioutputregressor.predict(NYBX_summer)"
      ],
      "metadata": {
        "colab": {
          "base_uri": "https://localhost:8080/"
        },
        "id": "B6iRFPlvu-7S",
        "outputId": "58a599ba-3abc-4ab9-85db-ed0dde37ecdb"
      },
      "execution_count": 69,
      "outputs": [
        {
          "output_type": "stream",
          "name": "stdout",
          "text": [
            "[01:16:35] WARNING: /workspace/src/objective/regression_obj.cu:152: reg:linear is now deprecated in favor of reg:squarederror.\n",
            "[01:16:35] WARNING: /workspace/src/objective/regression_obj.cu:152: reg:linear is now deprecated in favor of reg:squarederror.\n",
            "[01:16:35] WARNING: /workspace/src/objective/regression_obj.cu:152: reg:linear is now deprecated in favor of reg:squarederror.\n",
            "[01:16:35] WARNING: /workspace/src/objective/regression_obj.cu:152: reg:linear is now deprecated in favor of reg:squarederror.\n",
            "[01:16:35] WARNING: /workspace/src/objective/regression_obj.cu:152: reg:linear is now deprecated in favor of reg:squarederror.\n",
            "[01:16:36] WARNING: /workspace/src/objective/regression_obj.cu:152: reg:linear is now deprecated in favor of reg:squarederror.\n"
          ]
        }
      ]
    },
    {
      "cell_type": "code",
      "source": [
        "r2_score( np.array(NYBY_summer), NYB_summer_XGBY_pred ,multioutput='uniform_average')"
      ],
      "metadata": {
        "colab": {
          "base_uri": "https://localhost:8080/"
        },
        "id": "8LcAV4ggu-z8",
        "outputId": "f24ce329-8d83-41b6-85f3-2195fe85998c"
      },
      "execution_count": 70,
      "outputs": [
        {
          "output_type": "execute_result",
          "data": {
            "text/plain": [
              "0.8170195940990385"
            ]
          },
          "metadata": {},
          "execution_count": 70
        }
      ]
    },
    {
      "cell_type": "code",
      "source": [
        "mean_absolute_error( NYBY_summer, NYB_summer_XGBY_pred)"
      ],
      "metadata": {
        "colab": {
          "base_uri": "https://localhost:8080/"
        },
        "id": "9yvlsdPTu-BM",
        "outputId": "74778a2a-4ec6-467f-80c2-172ab9113bd8"
      },
      "execution_count": 71,
      "outputs": [
        {
          "output_type": "execute_result",
          "data": {
            "text/plain": [
              "0.037563366192545494"
            ]
          },
          "metadata": {},
          "execution_count": 71
        }
      ]
    },
    {
      "cell_type": "code",
      "source": [
        "mean_absolute_percentage_error( NYBY_summer, NYB_summer_XGBY_pred)\n"
      ],
      "metadata": {
        "colab": {
          "base_uri": "https://localhost:8080/"
        },
        "id": "NjM1xcX5u94Z",
        "outputId": "e5192e2d-40cc-4e0a-8b70-8e4dfccd8acb"
      },
      "execution_count": 72,
      "outputs": [
        {
          "output_type": "execute_result",
          "data": {
            "text/plain": [
              "23542034428742.613"
            ]
          },
          "metadata": {},
          "execution_count": 72
        }
      ]
    },
    {
      "cell_type": "code",
      "source": [
        "mean_squared_error( NYBY_summer, NYB_summer_XGBY_pred)"
      ],
      "metadata": {
        "colab": {
          "base_uri": "https://localhost:8080/"
        },
        "id": "8uEHBijDu9rV",
        "outputId": "c374090b-17f7-49ed-9789-5a76f395f06d"
      },
      "execution_count": 73,
      "outputs": [
        {
          "output_type": "execute_result",
          "data": {
            "text/plain": [
              "0.010443353020222042"
            ]
          },
          "metadata": {},
          "execution_count": 73
        }
      ]
    },
    {
      "cell_type": "markdown",
      "source": [
        "### Scaling and plotting for XGBoost (summer)"
      ],
      "metadata": {
        "id": "maxo7KY6AACq"
      }
    },
    {
      "cell_type": "code",
      "source": [
        "NYB_summer_XGBY_pred = scaler.fit_transform(NYB_summer_XGBY_pred)"
      ],
      "metadata": {
        "id": "uYfAsgTS_-2w"
      },
      "execution_count": 74,
      "outputs": []
    },
    {
      "cell_type": "code",
      "source": [
        "ax1 = sns.distplot(NYBY_summer, color=\"r\", label=\"Actual Value\")\n",
        "sns.distplot(NYB_summer_XGBY_pred, color=\"b\", label=\"Fitted Values\" , ax=ax1)"
      ],
      "metadata": {
        "colab": {
          "base_uri": "https://localhost:8080/",
          "height": 372
        },
        "id": "kf7zxNdi__lP",
        "outputId": "a444bf5b-5d7d-418a-aaf7-89ed5b39eaf8"
      },
      "execution_count": 75,
      "outputs": [
        {
          "output_type": "stream",
          "name": "stderr",
          "text": [
            "/usr/local/lib/python3.7/dist-packages/seaborn/distributions.py:2619: FutureWarning: `distplot` is a deprecated function and will be removed in a future version. Please adapt your code to use either `displot` (a figure-level function with similar flexibility) or `histplot` (an axes-level function for histograms).\n",
            "  warnings.warn(msg, FutureWarning)\n",
            "/usr/local/lib/python3.7/dist-packages/seaborn/distributions.py:2619: FutureWarning: `distplot` is a deprecated function and will be removed in a future version. Please adapt your code to use either `displot` (a figure-level function with similar flexibility) or `histplot` (an axes-level function for histograms).\n",
            "  warnings.warn(msg, FutureWarning)\n"
          ]
        },
        {
          "output_type": "execute_result",
          "data": {
            "text/plain": [
              "<matplotlib.axes._subplots.AxesSubplot at 0x7f4aa370f2d0>"
            ]
          },
          "metadata": {},
          "execution_count": 75
        },
        {
          "output_type": "display_data",
          "data": {
            "text/plain": [
              "<Figure size 432x288 with 1 Axes>"
            ],
            "image/png": "[encoded data removed]"
          },
          "metadata": {
            "needs_background": "light"
          }
        }
      ]
    },
    {
      "cell_type": "markdown",
      "source": [
        "###Conclusion for XGBoost :\n",
        "XGBoost model is almost like KNN model with accuracy of around the same values for both winter and summer but a little better."
      ],
      "metadata": {
        "id": "OxaoTUkPwip4"
      }
    }
  ]
}