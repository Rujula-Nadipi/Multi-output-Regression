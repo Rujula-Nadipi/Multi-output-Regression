{
  "nbformat": 4,
  "nbformat_minor": 0,
  "metadata": {
    "colab": {
      "provenance": [],
      "collapsed_sections": [
        "pd8bq6Ugl_B5",
        "JgZ4MyLErW4Q",
        "G7yeVihpuFYr",
        "OxaoTUkPwip4"
      ]
    },
    "kernelspec": {
      "name": "python3",
      "display_name": "Python 3"
    },
    "language_info": {
      "name": "python"
    }
  },
  "cells": [
    {
      "cell_type": "markdown",
      "source": [
        "# **Data Loading**"
      ],
      "metadata": {
        "id": "iDkBVr3twiOc"
      }
    },
    {
      "cell_type": "code",
      "execution_count": 1,
      "metadata": {
        "id": "cMVXx_75rCQU"
      },
      "outputs": [],
      "source": [
        "import pandas as pd\n",
        "import argparse\n",
        "from typing import Dict, Tuple, List\n",
        "\n",
        "import numpy as np\n",
        "from matplotlib import pyplot as plt\n",
        "import seaborn as sns\n"
      ]
    },
    {
      "cell_type": "code",
      "source": [
        "from google.colab import drive\n",
        "drive.mount('/content/drive')"
      ],
      "metadata": {
        "colab": {
          "base_uri": "https://localhost:8080/"
        },
        "id": "XW5DaY1MgNTN",
        "outputId": "25d3894b-4666-4549-cd8f-5904ce7b6823"
      },
      "execution_count": 2,
      "outputs": [
        {
          "output_type": "stream",
          "name": "stdout",
          "text": [
            "Drive already mounted at /content/drive; to attempt to forcibly remount, call drive.mount(\"/content/drive\", force_remount=True).\n"
          ]
        }
      ]
    },
    {
      "cell_type": "code",
      "source": [
        "OrangeCountry_data = pd.read_csv(\"/content/drive/MyDrive/ReVolt code/OrangeCountry\")\n",
        "OrangeCountry_data.head()"
      ],
      "metadata": {
        "colab": {
          "base_uri": "https://localhost:8080/",
          "height": 206
        },
        "id": "5HyWzJM7rMCu",
        "outputId": "5a93b2cf-a26d-43d8-ddf8-c922f5c8aad8"
      },
      "execution_count": 3,
      "outputs": [
        {
          "output_type": "execute_result",
          "data": {
            "text/plain": [
              "   Unnamed: 0  Unnamed: 0.1  Degrees      Time  Speed  Energycons  EProp  \\\n",
              "0       18533         18533      0.0  0.000000    0.0         NaN    0.0   \n",
              "1       18534         18534      0.1  0.000039    0.0         inf    0.0   \n",
              "2       18535         18535      0.2  0.555860    0.0         inf    0.0   \n",
              "3       18536         18536      0.3  5.500000    0.0         inf    0.0   \n",
              "4       18537         18537      0.4  9.702200    0.0         inf    0.0   \n",
              "\n",
              "   E_Aux    HVAC   Power  Regen      SoC      driveCycle     city weather  \n",
              "0   5.35  4.2501  9.6001    0.0  100.000  Orange Country  Seattle  Summer  \n",
              "1   5.35  4.2501  9.6001    0.0  100.000  Orange Country  Seattle  Summer  \n",
              "2   5.35  4.2501  9.6001    0.0  100.000  Orange Country  Seattle  Summer  \n",
              "3   5.35  4.2501  9.6001    0.0   99.995  Orange Country  Seattle  Summer  \n",
              "4   5.35  4.2501  9.6001    0.0   99.991  Orange Country  Seattle  Summer  "
            ],
            "text/html": [
              "\n",
              "  <div id=\"df-6604bcf8-aecd-4182-9bd6-690dc4a66584\">\n",
              "    <div class=\"colab-df-container\">\n",
              "      <div>\n",
              "<style scoped>\n",
              "    .dataframe tbody tr th:only-of-type {\n",
              "        vertical-align: middle;\n",
              "    }\n",
              "\n",
              "    .dataframe tbody tr th {\n",
              "        vertical-align: top;\n",
              "    }\n",
              "\n",
              "    .dataframe thead th {\n",
              "        text-align: right;\n",
              "    }\n",
              "</style>\n",
              "<table border=\"1\" class=\"dataframe\">\n",
              "  <thead>\n",
              "    <tr style=\"text-align: right;\">\n",
              "      <th></th>\n",
              "      <th>Unnamed: 0</th>\n",
              "      <th>Unnamed: 0.1</th>\n",
              "      <th>Degrees</th>\n",
              "      <th>Time</th>\n",
              "      <th>Speed</th>\n",
              "      <th>Energycons</th>\n",
              "      <th>EProp</th>\n",
              "      <th>E_Aux</th>\n",
              "      <th>HVAC</th>\n",
              "      <th>Power</th>\n",
              "      <th>Regen</th>\n",
              "      <th>SoC</th>\n",
              "      <th>driveCycle</th>\n",
              "      <th>city</th>\n",
              "      <th>weather</th>\n",
              "    </tr>\n",
              "  </thead>\n",
              "  <tbody>\n",
              "    <tr>\n",
              "      <th>0</th>\n",
              "      <td>18533</td>\n",
              "      <td>18533</td>\n",
              "      <td>0.0</td>\n",
              "      <td>0.000000</td>\n",
              "      <td>0.0</td>\n",
              "      <td>NaN</td>\n",
              "      <td>0.0</td>\n",
              "      <td>5.35</td>\n",
              "      <td>4.2501</td>\n",
              "      <td>9.6001</td>\n",
              "      <td>0.0</td>\n",
              "      <td>100.000</td>\n",
              "      <td>Orange Country</td>\n",
              "      <td>Seattle</td>\n",
              "      <td>Summer</td>\n",
              "    </tr>\n",
              "    <tr>\n",
              "      <th>1</th>\n",
              "      <td>18534</td>\n",
              "      <td>18534</td>\n",
              "      <td>0.1</td>\n",
              "      <td>0.000039</td>\n",
              "      <td>0.0</td>\n",
              "      <td>inf</td>\n",
              "      <td>0.0</td>\n",
              "      <td>5.35</td>\n",
              "      <td>4.2501</td>\n",
              "      <td>9.6001</td>\n",
              "      <td>0.0</td>\n",
              "      <td>100.000</td>\n",
              "      <td>Orange Country</td>\n",
              "      <td>Seattle</td>\n",
              "      <td>Summer</td>\n",
              "    </tr>\n",
              "    <tr>\n",
              "      <th>2</th>\n",
              "      <td>18535</td>\n",
              "      <td>18535</td>\n",
              "      <td>0.2</td>\n",
              "      <td>0.555860</td>\n",
              "      <td>0.0</td>\n",
              "      <td>inf</td>\n",
              "      <td>0.0</td>\n",
              "      <td>5.35</td>\n",
              "      <td>4.2501</td>\n",
              "      <td>9.6001</td>\n",
              "      <td>0.0</td>\n",
              "      <td>100.000</td>\n",
              "      <td>Orange Country</td>\n",
              "      <td>Seattle</td>\n",
              "      <td>Summer</td>\n",
              "    </tr>\n",
              "    <tr>\n",
              "      <th>3</th>\n",
              "      <td>18536</td>\n",
              "      <td>18536</td>\n",
              "      <td>0.3</td>\n",
              "      <td>5.500000</td>\n",
              "      <td>0.0</td>\n",
              "      <td>inf</td>\n",
              "      <td>0.0</td>\n",
              "      <td>5.35</td>\n",
              "      <td>4.2501</td>\n",
              "      <td>9.6001</td>\n",
              "      <td>0.0</td>\n",
              "      <td>99.995</td>\n",
              "      <td>Orange Country</td>\n",
              "      <td>Seattle</td>\n",
              "      <td>Summer</td>\n",
              "    </tr>\n",
              "    <tr>\n",
              "      <th>4</th>\n",
              "      <td>18537</td>\n",
              "      <td>18537</td>\n",
              "      <td>0.4</td>\n",
              "      <td>9.702200</td>\n",
              "      <td>0.0</td>\n",
              "      <td>inf</td>\n",
              "      <td>0.0</td>\n",
              "      <td>5.35</td>\n",
              "      <td>4.2501</td>\n",
              "      <td>9.6001</td>\n",
              "      <td>0.0</td>\n",
              "      <td>99.991</td>\n",
              "      <td>Orange Country</td>\n",
              "      <td>Seattle</td>\n",
              "      <td>Summer</td>\n",
              "    </tr>\n",
              "  </tbody>\n",
              "</table>\n",
              "</div>\n",
              "      <button class=\"colab-df-convert\" onclick=\"convertToInteractive('df-6604bcf8-aecd-4182-9bd6-690dc4a66584')\"\n",
              "              title=\"Convert this dataframe to an interactive table.\"\n",
              "              style=\"display:none;\">\n",
              "        \n",
              "  <svg xmlns=\"http://www.w3.org/2000/svg\" height=\"24px\"viewBox=\"0 0 24 24\"\n",
              "       width=\"24px\">\n",
              "    <path d=\"M0 0h24v24H0V0z\" fill=\"none\"/>\n",
              "    <path d=\"M18.56 5.44l.94 2.06.94-2.06 2.06-.94-2.06-.94-.94-2.06-.94 2.06-2.06.94zm-11 1L8.5 8.5l.94-2.06 2.06-.94-2.06-.94L8.5 2.5l-.94 2.06-2.06.94zm10 10l.94 2.06.94-2.06 2.06-.94-2.06-.94-.94-2.06-.94 2.06-2.06.94z\"/><path d=\"M17.41 7.96l-1.37-1.37c-.4-.4-.92-.59-1.43-.59-.52 0-1.04.2-1.43.59L10.3 9.45l-7.72 7.72c-.78.78-.78 2.05 0 2.83L4 21.41c.39.39.9.59 1.41.59.51 0 1.02-.2 1.41-.59l7.78-7.78 2.81-2.81c.8-.78.8-2.07 0-2.86zM5.41 20L4 18.59l7.72-7.72 1.47 1.35L5.41 20z\"/>\n",
              "  </svg>\n",
              "      </button>\n",
              "      \n",
              "  <style>\n",
              "    .colab-df-container {\n",
              "      display:flex;\n",
              "      flex-wrap:wrap;\n",
              "      gap: 12px;\n",
              "    }\n",
              "\n",
              "    .colab-df-convert {\n",
              "      background-color: #E8F0FE;\n",
              "      border: none;\n",
              "      border-radius: 50%;\n",
              "      cursor: pointer;\n",
              "      display: none;\n",
              "      fill: #1967D2;\n",
              "      height: 32px;\n",
              "      padding: 0 0 0 0;\n",
              "      width: 32px;\n",
              "    }\n",
              "\n",
              "    .colab-df-convert:hover {\n",
              "      background-color: #E2EBFA;\n",
              "      box-shadow: 0px 1px 2px rgba(60, 64, 67, 0.3), 0px 1px 3px 1px rgba(60, 64, 67, 0.15);\n",
              "      fill: #174EA6;\n",
              "    }\n",
              "\n",
              "    [theme=dark] .colab-df-convert {\n",
              "      background-color: #3B4455;\n",
              "      fill: #D2E3FC;\n",
              "    }\n",
              "\n",
              "    [theme=dark] .colab-df-convert:hover {\n",
              "      background-color: #434B5C;\n",
              "      box-shadow: 0px 1px 3px 1px rgba(0, 0, 0, 0.15);\n",
              "      filter: drop-shadow(0px 1px 2px rgba(0, 0, 0, 0.3));\n",
              "      fill: #FFFFFF;\n",
              "    }\n",
              "  </style>\n",
              "\n",
              "      <script>\n",
              "        const buttonEl =\n",
              "          document.querySelector('#df-6604bcf8-aecd-4182-9bd6-690dc4a66584 button.colab-df-convert');\n",
              "        buttonEl.style.display =\n",
              "          google.colab.kernel.accessAllowed ? 'block' : 'none';\n",
              "\n",
              "        async function convertToInteractive(key) {\n",
              "          const element = document.querySelector('#df-6604bcf8-aecd-4182-9bd6-690dc4a66584');\n",
              "          const dataTable =\n",
              "            await google.colab.kernel.invokeFunction('convertToInteractive',\n",
              "                                                     [key], {});\n",
              "          if (!dataTable) return;\n",
              "\n",
              "          const docLinkHtml = 'Like what you see? Visit the ' +\n",
              "            '<a target=\"_blank\" href=https://colab.research.google.com/notebooks/data_table.ipynb>data table notebook</a>'\n",
              "            + ' to learn more about interactive tables.';\n",
              "          element.innerHTML = '';\n",
              "          dataTable['output_type'] = 'display_data';\n",
              "          await google.colab.output.renderOutput(dataTable, element);\n",
              "          const docLink = document.createElement('div');\n",
              "          docLink.innerHTML = docLinkHtml;\n",
              "          element.appendChild(docLink);\n",
              "        }\n",
              "      </script>\n",
              "    </div>\n",
              "  </div>\n",
              "  "
            ]
          },
          "metadata": {},
          "execution_count": 3
        }
      ]
    },
    {
      "cell_type": "code",
      "source": [
        "OrangeCountry_data.shape"
      ],
      "metadata": {
        "colab": {
          "base_uri": "https://localhost:8080/"
        },
        "id": "bgScmOJqtiHt",
        "outputId": "bad33318-6951-42e6-86c1-1c8e40650a3b"
      },
      "execution_count": 4,
      "outputs": [
        {
          "output_type": "execute_result",
          "data": {
            "text/plain": [
              "(11549, 15)"
            ]
          },
          "metadata": {},
          "execution_count": 4
        }
      ]
    },
    {
      "cell_type": "markdown",
      "source": [
        "# **Data Cleaning**"
      ],
      "metadata": {
        "id": "IX8kmZbAwptu"
      }
    },
    {
      "cell_type": "markdown",
      "source": [
        "Let's add dummies for weather so it will give 0 for summer and 1 for winter, as it will be easier to segregate the data based on seasons for our analysis to compare and contrast."
      ],
      "metadata": {
        "id": "rO5nqUNIhdT2"
      }
    },
    {
      "cell_type": "code",
      "source": [
        "# Creating a dummy variable for the variable 'city' and dropping the first one.\n",
        "#city_dummy = pd.get_dummies(UDDS_data['city'],prefix='city',drop_first=False)\n",
        "#Adding the results to the master dataframe\n",
        "#UD_data = pd.concat([UDDS_data,city_dummy],axis=1)\n",
        "\n",
        "# Creating a dummy variable for the variable 'weather' and dropping the first one.\n",
        "weather_dummy = pd.get_dummies(OrangeCountry_data['weather'],prefix='weather',drop_first=True)\n",
        "#Adding the results to the master dataframe\n",
        "OC_data = pd.concat([OrangeCountry_data,weather_dummy],axis=1)"
      ],
      "metadata": {
        "id": "gHTfW8Uxsh8o"
      },
      "execution_count": 5,
      "outputs": []
    },
    {
      "cell_type": "code",
      "source": [
        "OC_data.columns"
      ],
      "metadata": {
        "colab": {
          "base_uri": "https://localhost:8080/"
        },
        "id": "IZ12wHadtgVu",
        "outputId": "6239c0c3-69b7-4ce4-b289-b6e87fe558fc"
      },
      "execution_count": 6,
      "outputs": [
        {
          "output_type": "execute_result",
          "data": {
            "text/plain": [
              "Index(['Unnamed: 0', 'Unnamed: 0.1', 'Degrees', 'Time', 'Speed', 'Energycons',\n",
              "       'EProp', 'E_Aux', 'HVAC', 'Power', 'Regen', 'SoC', 'driveCycle', 'city',\n",
              "       'weather', 'weather_Winter'],\n",
              "      dtype='object')"
            ]
          },
          "metadata": {},
          "execution_count": 6
        }
      ]
    },
    {
      "cell_type": "markdown",
      "source": [
        "Removing drivecycle and weather columns as we have already reproduced our data in such a way that one file is related to one drive cycle and we have our dummy for weather."
      ],
      "metadata": {
        "id": "ys82B4s-iDPh"
      }
    },
    {
      "cell_type": "code",
      "source": [
        "OC_data.drop(columns=['weather','driveCycle','Unnamed: 0','Unnamed: 0.1'],inplace=True)"
      ],
      "metadata": {
        "id": "wixthnI8rtS6"
      },
      "execution_count": 7,
      "outputs": []
    },
    {
      "cell_type": "code",
      "source": [
        "OC_data.shape"
      ],
      "metadata": {
        "colab": {
          "base_uri": "https://localhost:8080/"
        },
        "id": "xJdTHHjIuVQL",
        "outputId": "82bda6ee-acae-4909-e77b-ecc65ba137ac"
      },
      "execution_count": 8,
      "outputs": [
        {
          "output_type": "execute_result",
          "data": {
            "text/plain": [
              "(11549, 12)"
            ]
          },
          "metadata": {},
          "execution_count": 8
        }
      ]
    },
    {
      "cell_type": "markdown",
      "source": [
        "Check for any null values :"
      ],
      "metadata": {
        "id": "sgnfEmUeu92k"
      }
    },
    {
      "cell_type": "code",
      "source": [
        "OC_nocity_data = OC_data[['Degrees', 'Time', 'Speed', 'Energycons',\n",
        "       'EProp', 'E_Aux', 'HVAC', 'Power', 'Regen', 'SoC','weather_Winter']]\n",
        "df =OC_nocity_data.columns.to_series()[np.isnan(OC_nocity_data).any()]\n",
        "df1 =OC_nocity_data.columns.to_series()[np.isinf(OC_nocity_data).any()]\n",
        "print(df, df1)"
      ],
      "metadata": {
        "colab": {
          "base_uri": "https://localhost:8080/"
        },
        "id": "NIR-_Judu1ed",
        "outputId": "70609f92-579e-4add-a799-6e7b612af404"
      },
      "execution_count": 9,
      "outputs": [
        {
          "output_type": "stream",
          "name": "stdout",
          "text": [
            "Energycons    Energycons\n",
            "dtype: object Energycons    Energycons\n",
            "dtype: object\n"
          ]
        }
      ]
    },
    {
      "cell_type": "markdown",
      "source": [
        "Only Energycons contain both Nan and inf values, so first we'll replace inf values with nan and check how much of the data will be effected."
      ],
      "metadata": {
        "id": "n1DkAvELa4JH"
      }
    },
    {
      "cell_type": "code",
      "source": [
        "OC_data.replace(np.inf, np.nan, inplace=True)\n",
        "\n",
        "100* OC_data.isnull().sum() / OC_data.shape[0]"
      ],
      "metadata": {
        "colab": {
          "base_uri": "https://localhost:8080/"
        },
        "id": "iW_utDKjbJch",
        "outputId": "fde2e3bf-d2e7-41ef-b8ca-889ce335beb2"
      },
      "execution_count": 10,
      "outputs": [
        {
          "output_type": "execute_result",
          "data": {
            "text/plain": [
              "Degrees           0.000000\n",
              "Time              0.000000\n",
              "Speed             0.000000\n",
              "Energycons        0.961122\n",
              "EProp             0.000000\n",
              "E_Aux             0.000000\n",
              "HVAC              0.000000\n",
              "Power             0.000000\n",
              "Regen             0.000000\n",
              "SoC               0.000000\n",
              "city              0.000000\n",
              "weather_Winter    0.000000\n",
              "dtype: float64"
            ]
          },
          "metadata": {},
          "execution_count": 10
        }
      ]
    },
    {
      "cell_type": "markdown",
      "source": [
        "Energycons consists of 0.9% data of nan values, when combined with 10 cities, so per city with a particular season, removing those values might effect the regression analysis. Hence let's just replace nan values with 0 and continue with the analysis.\n",
        "\n"
      ],
      "metadata": {
        "id": "weuuIfljvJgc"
      }
    },
    {
      "cell_type": "code",
      "source": [
        "OC_data.fillna(0,inplace = True)"
      ],
      "metadata": {
        "id": "KTZrBB0Iu1hO"
      },
      "execution_count": 11,
      "outputs": []
    },
    {
      "cell_type": "code",
      "source": [
        "OC_data.shape"
      ],
      "metadata": {
        "colab": {
          "base_uri": "https://localhost:8080/"
        },
        "id": "9X-_894avfav",
        "outputId": "75326ecf-73c9-4336-c048-a6d2cd2dcf68"
      },
      "execution_count": 12,
      "outputs": [
        {
          "output_type": "execute_result",
          "data": {
            "text/plain": [
              "(11549, 12)"
            ]
          },
          "metadata": {},
          "execution_count": 12
        }
      ]
    },
    {
      "cell_type": "code",
      "source": [
        "OC_data.to_csv(\"OrangeCountry_final.csv\")"
      ],
      "metadata": {
        "id": "7AMURILawUws"
      },
      "execution_count": 13,
      "outputs": []
    },
    {
      "cell_type": "markdown",
      "source": [
        "The resulting data set has been given the name OrangeCountry_final.csv"
      ],
      "metadata": {
        "id": "LzvBFCAjwejs"
      }
    },
    {
      "cell_type": "markdown",
      "source": [
        "# **Data Understanding**"
      ],
      "metadata": {
        "id": "kX0y2gzf-8QK"
      }
    },
    {
      "cell_type": "markdown",
      "source": [
        "Let's check how dependent are the variables on each other using correlation."
      ],
      "metadata": {
        "id": "JhLiHgBQ_DGj"
      }
    },
    {
      "cell_type": "code",
      "source": [
        "#plotting the heatmap for correlation\n",
        "hm = sns.heatmap(OC_data.corr(), annot=True)"
      ],
      "metadata": {
        "id": "9Gi-74Jy_NnF",
        "colab": {
          "base_uri": "https://localhost:8080/",
          "height": 338
        },
        "outputId": "917e1cdc-1ea4-4cbe-c209-302eb6f70cb4"
      },
      "execution_count": 14,
      "outputs": [
        {
          "output_type": "display_data",
          "data": {
            "text/plain": [
              "<Figure size 432x288 with 2 Axes>"
            ],
            "image/png": "[encoded data removed]"
          },
          "metadata": {
            "needs_background": "light"
          }
        }
      ]
    },
    {
      "cell_type": "markdown",
      "source": [
        "The heatmap suggest that power is dependent on Eprop stronger than that of how it is dependent on degrees. We can predict that this can be because the power is the summation of  E-prop,E-Aux & HVAC. \n",
        "In this case, EProp and Power are both are less deperendent on degrees when compared to the strength of dependency as that of power and Eprop."
      ],
      "metadata": {
        "id": "FK4LhHiDGe0t"
      }
    },
    {
      "cell_type": "markdown",
      "source": [
        "# **Data Modeling**"
      ],
      "metadata": {
        "id": "9tvH6CQnwzr_"
      }
    },
    {
      "cell_type": "markdown",
      "source": [
        "Converting the data into Predictor and response sets. Where, the data in X, is used to regress on and the data is y is the dependent varibles and are true output varibles."
      ],
      "metadata": {
        "id": "UtKDyV7WyvAR"
      }
    },
    {
      "cell_type": "code",
      "source": [
        "from sklearn.linear_model import LinearRegression\n",
        "from sklearn.multioutput import MultiOutputRegressor\n",
        "from sklearn.neighbors import KNeighborsRegressor\n",
        "from sklearn.ensemble import RandomForestRegressor\n",
        "from sklearn.svm import LinearSVR\n",
        "\n",
        "from sklearn.metrics import mean_absolute_error, mean_absolute_percentage_error, mean_squared_error, r2_score\n",
        "import xgboost as xgb\n",
        "from sklearn.preprocessing import MinMaxScaler\n",
        "\n",
        "from pandas.core.base import NoNewAttributesMixin\n"
      ],
      "metadata": {
        "id": "udhndHnhzOMc"
      },
      "execution_count": 15,
      "outputs": []
    },
    {
      "cell_type": "code",
      "source": [
        "print(OC_data['weather_Winter'].unique())"
      ],
      "metadata": {
        "id": "QN-9Tj7CE4Dj",
        "colab": {
          "base_uri": "https://localhost:8080/"
        },
        "outputId": "87c39a67-359a-476a-ccd3-822e265d8a92"
      },
      "execution_count": 16,
      "outputs": [
        {
          "output_type": "stream",
          "name": "stdout",
          "text": [
            "[0 1]\n"
          ]
        }
      ]
    },
    {
      "cell_type": "markdown",
      "source": [
        "splitting data into winter and summer as per seasons respectively"
      ],
      "metadata": {
        "id": "n9fOFmqCmiLI"
      }
    },
    {
      "cell_type": "code",
      "source": [
        "OC= OC_data.groupby('weather_Winter')\n",
        "OC_winter = OC.get_group(OC_data['weather_Winter'].unique()[1])\n",
        "OC_summer = OC.get_group(OC_data['weather_Winter'].unique()[0])"
      ],
      "metadata": {
        "id": "43xvOgyAAVGZ"
      },
      "execution_count": 17,
      "outputs": []
    },
    {
      "cell_type": "markdown",
      "source": [
        "Train and test split for winter:"
      ],
      "metadata": {
        "id": "imO7GNRkmeDi"
      }
    },
    {
      "cell_type": "code",
      "source": [
        "\n",
        "newOC_winter = OC_winter\n",
        "\n",
        "OCX_winter = newOC_winter[['Degrees', 'Time', 'Speed','weather_Winter']]\n",
        "\n",
        "\n",
        "OCY_winter = newOC_winter[['Energycons', 'EProp', 'E_Aux', 'HVAC',\n",
        "       'Regen', 'SoC']]\n",
        "\n"
      ],
      "metadata": {
        "id": "cLXeZEUgzSmz"
      },
      "execution_count": 18,
      "outputs": []
    },
    {
      "cell_type": "markdown",
      "source": [
        "Train and test data for summer: "
      ],
      "metadata": {
        "id": "1uh7YjygmalC"
      }
    },
    {
      "cell_type": "code",
      "source": [
        "newOC_summer = OC_summer\n",
        "\n",
        "OCX_summer = newOC_summer[['Degrees', 'Time', 'Speed','weather_Winter']]\n",
        "\n",
        "\n",
        "OCY_summer = newOC_summer[['Energycons', 'EProp', 'E_Aux', 'HVAC',\n",
        "       'Regen', 'SoC']]"
      ],
      "metadata": {
        "id": "6o4SZf8ofcC0"
      },
      "execution_count": 19,
      "outputs": []
    },
    {
      "cell_type": "markdown",
      "source": [
        "# Linear Regression For MultiTarget Regression:\n",
        "Applying Linear Regression model and checking the if the prediction is accurate."
      ],
      "metadata": {
        "id": "oSaTFs_FJ43c"
      }
    },
    {
      "cell_type": "markdown",
      "source": [
        "### linear regression for winter of all the cities"
      ],
      "metadata": {
        "id": "nIqX9EkulyTN"
      }
    },
    {
      "cell_type": "code",
      "source": [
        "OC_winter_linearmodel = LinearRegression()\n",
        "# fit model\n",
        "OC_winter_linearmodel.fit(OCX_winter, OCY_winter)"
      ],
      "metadata": {
        "id": "42gWohd-J3tZ",
        "colab": {
          "base_uri": "https://localhost:8080/"
        },
        "outputId": "ad354308-b519-40fc-ca1d-4a3acf6eae2a"
      },
      "execution_count": 20,
      "outputs": [
        {
          "output_type": "execute_result",
          "data": {
            "text/plain": [
              "LinearRegression()"
            ]
          },
          "metadata": {},
          "execution_count": 20
        }
      ]
    },
    {
      "cell_type": "code",
      "source": [
        "OCY_winter_pred = OC_winter_linearmodel.predict(OCX_winter)\n",
        "r2_score( np.array(OCY_winter), OCY_winter_pred,multioutput='uniform_average')"
      ],
      "metadata": {
        "id": "oboXCb8aJ-zd",
        "colab": {
          "base_uri": "https://localhost:8080/"
        },
        "outputId": "4b37ecaf-2cdd-42ca-d5d0-ef69aa40ee64"
      },
      "execution_count": 21,
      "outputs": [
        {
          "output_type": "execute_result",
          "data": {
            "text/plain": [
              "0.31518894469187553"
            ]
          },
          "metadata": {},
          "execution_count": 21
        }
      ]
    },
    {
      "cell_type": "code",
      "source": [
        "mean_absolute_error( OCY_winter, OCY_winter_pred)"
      ],
      "metadata": {
        "colab": {
          "base_uri": "https://localhost:8080/"
        },
        "id": "lCOueOqClBxB",
        "outputId": "d42b5e2b-fe99-4d61-e31c-4738ccc68853"
      },
      "execution_count": 22,
      "outputs": [
        {
          "output_type": "execute_result",
          "data": {
            "text/plain": [
              "1.052700086483299e+17"
            ]
          },
          "metadata": {},
          "execution_count": 22
        }
      ]
    },
    {
      "cell_type": "code",
      "source": [
        "mean_absolute_percentage_error( OCY_winter, OCY_winter_pred)"
      ],
      "metadata": {
        "colab": {
          "base_uri": "https://localhost:8080/"
        },
        "id": "AykQXlhDlCoy",
        "outputId": "74746a17-f9ca-4b9e-d717-9e9e2d90010e"
      },
      "execution_count": 23,
      "outputs": [
        {
          "output_type": "execute_result",
          "data": {
            "text/plain": [
              "5.629855497889182e+30"
            ]
          },
          "metadata": {},
          "execution_count": 23
        }
      ]
    },
    {
      "cell_type": "code",
      "source": [
        "mean_squared_error( OCY_winter, OCY_winter_pred)"
      ],
      "metadata": {
        "colab": {
          "base_uri": "https://localhost:8080/"
        },
        "id": "lkTBVFewlC_f",
        "outputId": "72219d58-2fd3-4be4-af0a-1135aac11171"
      },
      "execution_count": 24,
      "outputs": [
        {
          "output_type": "execute_result",
          "data": {
            "text/plain": [
              "3.834100332201758e+37"
            ]
          },
          "metadata": {},
          "execution_count": 24
        }
      ]
    },
    {
      "cell_type": "markdown",
      "source": [
        "### Scaling and plotting for linear regression (winter)"
      ],
      "metadata": {
        "id": "l-DsYt2c-dm-"
      }
    },
    {
      "cell_type": "markdown",
      "source": [
        "As the values are too large, plotting our regression will become more difficult, therefore we will need to scale our values down."
      ],
      "metadata": {
        "id": "oR665gt17536"
      }
    },
    {
      "cell_type": "code",
      "source": [
        "scaler = MinMaxScaler() ##initialize the minmax scaler from sklearn\n",
        "OCY_winter = scaler.fit_transform(OCY_winter) ## fit transform on train data\n",
        "OCY_winter_pred = scaler.fit_transform(OCY_winter_pred)\n"
      ],
      "metadata": {
        "id": "Btv5sV_Q7KV-"
      },
      "execution_count": 25,
      "outputs": []
    },
    {
      "cell_type": "code",
      "source": [
        "#plt.plot(UDY_winter, UDY_winter_pred, color=\"b\")\n",
        "\n",
        "ax1 = sns.distplot(OCY_winter, color=\"r\", label=\"Actual Value\")\n",
        "sns.distplot(OCY_winter_pred, color=\"b\", label=\"Fitted Values\" , ax=ax1)"
      ],
      "metadata": {
        "colab": {
          "base_uri": "https://localhost:8080/",
          "height": 372
        },
        "id": "P35lPbzn4KYK",
        "outputId": "dbb52caf-24c5-4a77-8ed7-0654c087fbb4"
      },
      "execution_count": 26,
      "outputs": [
        {
          "output_type": "stream",
          "name": "stderr",
          "text": [
            "/usr/local/lib/python3.7/dist-packages/seaborn/distributions.py:2619: FutureWarning: `distplot` is a deprecated function and will be removed in a future version. Please adapt your code to use either `displot` (a figure-level function with similar flexibility) or `histplot` (an axes-level function for histograms).\n",
            "  warnings.warn(msg, FutureWarning)\n",
            "/usr/local/lib/python3.7/dist-packages/seaborn/distributions.py:2619: FutureWarning: `distplot` is a deprecated function and will be removed in a future version. Please adapt your code to use either `displot` (a figure-level function with similar flexibility) or `histplot` (an axes-level function for histograms).\n",
            "  warnings.warn(msg, FutureWarning)\n"
          ]
        },
        {
          "output_type": "execute_result",
          "data": {
            "text/plain": [
              "<matplotlib.axes._subplots.AxesSubplot at 0x7f602f3e7e10>"
            ]
          },
          "metadata": {},
          "execution_count": 26
        },
        {
          "output_type": "display_data",
          "data": {
            "text/plain": [
              "<Figure size 432x288 with 1 Axes>"
            ],
            "image/png": "[encoded data removed]"
          },
          "metadata": {
            "needs_background": "light"
          }
        }
      ]
    },
    {
      "cell_type": "markdown",
      "source": [
        "### linear regression for summer of all the cities"
      ],
      "metadata": {
        "id": "xvlsiGPyl6Nw"
      }
    },
    {
      "cell_type": "code",
      "source": [
        "OC_summer_linearmodel = LinearRegression()\n",
        "# fit model\n",
        "OC_summer_linearmodel.fit(OCX_summer, OCY_summer)"
      ],
      "metadata": {
        "colab": {
          "base_uri": "https://localhost:8080/"
        },
        "id": "JpBupWhxf1zM",
        "outputId": "ae0ebc6f-2c35-4c3c-e723-3e398c3bc70b"
      },
      "execution_count": 27,
      "outputs": [
        {
          "output_type": "execute_result",
          "data": {
            "text/plain": [
              "LinearRegression()"
            ]
          },
          "metadata": {},
          "execution_count": 27
        }
      ]
    },
    {
      "cell_type": "code",
      "source": [
        "OCY_summer_pred = OC_summer_linearmodel.predict(OCX_summer)\n",
        "r2_score( np.array(OCY_summer), OCY_summer_pred,multioutput='uniform_average')"
      ],
      "metadata": {
        "colab": {
          "base_uri": "https://localhost:8080/"
        },
        "id": "ewcv3cJHf-ac",
        "outputId": "36ccf15a-e42e-414b-ccae-228004a8a32b"
      },
      "execution_count": 28,
      "outputs": [
        {
          "output_type": "execute_result",
          "data": {
            "text/plain": [
              "0.3339481204595202"
            ]
          },
          "metadata": {},
          "execution_count": 28
        }
      ]
    },
    {
      "cell_type": "code",
      "source": [
        "mean_absolute_error( OCY_summer, OCY_summer_pred)"
      ],
      "metadata": {
        "colab": {
          "base_uri": "https://localhost:8080/"
        },
        "id": "LtcMJRJslTSo",
        "outputId": "4f2307a9-8aa8-46b4-c628-074613248985"
      },
      "execution_count": 29,
      "outputs": [
        {
          "output_type": "execute_result",
          "data": {
            "text/plain": [
              "35169845.07171308"
            ]
          },
          "metadata": {},
          "execution_count": 29
        }
      ]
    },
    {
      "cell_type": "code",
      "source": [
        "mean_absolute_percentage_error( OCY_summer, OCY_summer_pred)"
      ],
      "metadata": {
        "colab": {
          "base_uri": "https://localhost:8080/"
        },
        "id": "MtecUuzHlTWc",
        "outputId": "a2012571-700c-46ce-b4da-2b8faafb73bf"
      },
      "execution_count": 30,
      "outputs": [
        {
          "output_type": "execute_result",
          "data": {
            "text/plain": [
              "1.9090294485259557e+21"
            ]
          },
          "metadata": {},
          "execution_count": 30
        }
      ]
    },
    {
      "cell_type": "code",
      "source": [
        "mean_squared_error( OCY_summer, OCY_summer_pred)"
      ],
      "metadata": {
        "colab": {
          "base_uri": "https://localhost:8080/"
        },
        "id": "4eXheUTulTfT",
        "outputId": "c4adb8a5-8087-4a0b-e9e7-3cd3d533a31b"
      },
      "execution_count": 31,
      "outputs": [
        {
          "output_type": "execute_result",
          "data": {
            "text/plain": [
              "1.1080996724761216e+18"
            ]
          },
          "metadata": {},
          "execution_count": 31
        }
      ]
    },
    {
      "cell_type": "markdown",
      "source": [
        "###Scaling values and plotting: linear regression graph (summer)"
      ],
      "metadata": {
        "id": "jSpzdPw-8z9Q"
      }
    },
    {
      "cell_type": "code",
      "source": [
        "OCY_summer = scaler.fit_transform(OCY_summer) ## fit transform on train data\n",
        "OCY_summer_pred = scaler.fit_transform(OCY_summer_pred)"
      ],
      "metadata": {
        "id": "whCJTCLF8ylm"
      },
      "execution_count": 32,
      "outputs": []
    },
    {
      "cell_type": "code",
      "source": [
        "ax1 = sns.distplot(OCY_summer, color=\"r\", label=\"Actual Value\")\n",
        "sns.distplot(OCY_summer_pred, color=\"b\", label=\"Fitted Values\" , ax=ax1)"
      ],
      "metadata": {
        "colab": {
          "base_uri": "https://localhost:8080/",
          "height": 372
        },
        "id": "AzaTWZu09AXD",
        "outputId": "0507c0d6-a8cc-40fa-c3c9-b25c450d17a0"
      },
      "execution_count": 33,
      "outputs": [
        {
          "output_type": "stream",
          "name": "stderr",
          "text": [
            "/usr/local/lib/python3.7/dist-packages/seaborn/distributions.py:2619: FutureWarning: `distplot` is a deprecated function and will be removed in a future version. Please adapt your code to use either `displot` (a figure-level function with similar flexibility) or `histplot` (an axes-level function for histograms).\n",
            "  warnings.warn(msg, FutureWarning)\n",
            "/usr/local/lib/python3.7/dist-packages/seaborn/distributions.py:2619: FutureWarning: `distplot` is a deprecated function and will be removed in a future version. Please adapt your code to use either `displot` (a figure-level function with similar flexibility) or `histplot` (an axes-level function for histograms).\n",
            "  warnings.warn(msg, FutureWarning)\n"
          ]
        },
        {
          "output_type": "execute_result",
          "data": {
            "text/plain": [
              "<matplotlib.axes._subplots.AxesSubplot at 0x7f602f267490>"
            ]
          },
          "metadata": {},
          "execution_count": 33
        },
        {
          "output_type": "display_data",
          "data": {
            "text/plain": [
              "<Figure size 432x288 with 1 Axes>"
            ],
            "image/png": "[encoded data removed]"
          },
          "metadata": {
            "needs_background": "light"
          }
        }
      ]
    },
    {
      "cell_type": "markdown",
      "source": [
        "### Conclusion for linear regression :\n",
        "\n",
        "Clearly, linear regression is not an accurate model for both summer and winter data. My guess here is that the variables are not as dependent as they must be for a linear regression to work."
      ],
      "metadata": {
        "id": "pd8bq6Ugl_B5"
      }
    },
    {
      "cell_type": "markdown",
      "source": [
        "# **KNN for multioutput Regression**"
      ],
      "metadata": {
        "id": "ZtHcDLZmo90v"
      }
    },
    {
      "cell_type": "markdown",
      "source": [
        "### KNN for winter of all the cities"
      ],
      "metadata": {
        "id": "5R4glefFrKx6"
      }
    },
    {
      "cell_type": "code",
      "source": [
        "KNNmodel = KNeighborsRegressor()\n",
        "# fit model\n",
        "KNNmodel.fit(OCX_winter, OCY_winter)"
      ],
      "metadata": {
        "colab": {
          "base_uri": "https://localhost:8080/"
        },
        "id": "bm82RicJpFwg",
        "outputId": "ad989418-0be0-47b9-f557-dabe3847c7af"
      },
      "execution_count": 34,
      "outputs": [
        {
          "output_type": "execute_result",
          "data": {
            "text/plain": [
              "KNeighborsRegressor()"
            ]
          },
          "metadata": {},
          "execution_count": 34
        }
      ]
    },
    {
      "cell_type": "code",
      "source": [
        "OC_winter_KNNY_pred = KNNmodel.predict(OCX_winter)\n",
        "r2_score( np.array(OCY_winter), OC_winter_KNNY_pred,multioutput='uniform_average')"
      ],
      "metadata": {
        "colab": {
          "base_uri": "https://localhost:8080/"
        },
        "id": "EldBF_9fpK8i",
        "outputId": "d5fd8c57-3d52-4bc2-807d-818a4309fe96"
      },
      "execution_count": 35,
      "outputs": [
        {
          "output_type": "execute_result",
          "data": {
            "text/plain": [
              "0.6812502709294709"
            ]
          },
          "metadata": {},
          "execution_count": 35
        }
      ]
    },
    {
      "cell_type": "code",
      "source": [
        "mean_absolute_error( OCY_winter, OC_winter_KNNY_pred)"
      ],
      "metadata": {
        "colab": {
          "base_uri": "https://localhost:8080/"
        },
        "id": "uXYM530apLHJ",
        "outputId": "0dd4404b-3489-49f9-8b03-4f2f83f8cdb7"
      },
      "execution_count": 36,
      "outputs": [
        {
          "output_type": "execute_result",
          "data": {
            "text/plain": [
              "0.04684012461792949"
            ]
          },
          "metadata": {},
          "execution_count": 36
        }
      ]
    },
    {
      "cell_type": "code",
      "source": [
        "mean_absolute_percentage_error( OCY_winter, OC_winter_KNNY_pred)"
      ],
      "metadata": {
        "colab": {
          "base_uri": "https://localhost:8080/"
        },
        "id": "HJgvgo22pLJj",
        "outputId": "76fdeb89-6515-4908-a710-2f7bbd6774d2"
      },
      "execution_count": 37,
      "outputs": [
        {
          "output_type": "execute_result",
          "data": {
            "text/plain": [
              "18735503515082.434"
            ]
          },
          "metadata": {},
          "execution_count": 37
        }
      ]
    },
    {
      "cell_type": "code",
      "source": [
        "mean_squared_error( OCY_winter, OC_winter_KNNY_pred)"
      ],
      "metadata": {
        "colab": {
          "base_uri": "https://localhost:8080/"
        },
        "id": "pRlWX_e4pLMf",
        "outputId": "8bdbc70b-6727-48a7-813b-30295d0ceef0"
      },
      "execution_count": 38,
      "outputs": [
        {
          "output_type": "execute_result",
          "data": {
            "text/plain": [
              "0.014696372594767223"
            ]
          },
          "metadata": {},
          "execution_count": 38
        }
      ]
    },
    {
      "cell_type": "markdown",
      "source": [
        "### Scaling and plotting for KNN (winter)"
      ],
      "metadata": {
        "id": "Sfv8GK3M90X4"
      }
    },
    {
      "cell_type": "code",
      "source": [
        "OC_winter_KNNY_pred = scaler.fit_transform(OC_winter_KNNY_pred)"
      ],
      "metadata": {
        "id": "-DP1R6SA9Vgo"
      },
      "execution_count": 39,
      "outputs": []
    },
    {
      "cell_type": "code",
      "source": [
        "ax1 = sns.distplot(OCY_winter, color=\"r\", label=\"Actual Value\")\n",
        "sns.distplot(OC_winter_KNNY_pred, color=\"b\", label=\"Fitted Values\" , ax=ax1)"
      ],
      "metadata": {
        "colab": {
          "base_uri": "https://localhost:8080/",
          "height": 372
        },
        "id": "ZAoNqUE49Wx7",
        "outputId": "d46de4fe-c7e8-454a-8533-be5b5520fadb"
      },
      "execution_count": 40,
      "outputs": [
        {
          "output_type": "stream",
          "name": "stderr",
          "text": [
            "/usr/local/lib/python3.7/dist-packages/seaborn/distributions.py:2619: FutureWarning: `distplot` is a deprecated function and will be removed in a future version. Please adapt your code to use either `displot` (a figure-level function with similar flexibility) or `histplot` (an axes-level function for histograms).\n",
            "  warnings.warn(msg, FutureWarning)\n",
            "/usr/local/lib/python3.7/dist-packages/seaborn/distributions.py:2619: FutureWarning: `distplot` is a deprecated function and will be removed in a future version. Please adapt your code to use either `displot` (a figure-level function with similar flexibility) or `histplot` (an axes-level function for histograms).\n",
            "  warnings.warn(msg, FutureWarning)\n"
          ]
        },
        {
          "output_type": "execute_result",
          "data": {
            "text/plain": [
              "<matplotlib.axes._subplots.AxesSubplot at 0x7f602f14a8d0>"
            ]
          },
          "metadata": {},
          "execution_count": 40
        },
        {
          "output_type": "display_data",
          "data": {
            "text/plain": [
              "<Figure size 432x288 with 1 Axes>"
            ],
            "image/png": "[encoded data removed]"
          },
          "metadata": {
            "needs_background": "light"
          }
        }
      ]
    },
    {
      "cell_type": "markdown",
      "source": [
        "### KNN for summer of all the cities"
      ],
      "metadata": {
        "id": "CACBETNCrRlL"
      }
    },
    {
      "cell_type": "code",
      "source": [
        "# fit model\n",
        "KNNmodel.fit(OCX_summer, OCY_summer)"
      ],
      "metadata": {
        "colab": {
          "base_uri": "https://localhost:8080/"
        },
        "id": "06EnioK1qGcN",
        "outputId": "aefe14ea-c322-402c-f8ec-96e8952eead2"
      },
      "execution_count": 41,
      "outputs": [
        {
          "output_type": "execute_result",
          "data": {
            "text/plain": [
              "KNeighborsRegressor()"
            ]
          },
          "metadata": {},
          "execution_count": 41
        }
      ]
    },
    {
      "cell_type": "code",
      "source": [
        "OC_summer_KNNY_pred = KNNmodel.predict(OCX_summer)\n",
        "r2_score( np.array(OCY_summer), OC_summer_KNNY_pred,multioutput='uniform_average')"
      ],
      "metadata": {
        "colab": {
          "base_uri": "https://localhost:8080/"
        },
        "id": "ZTKMqypNqGtf",
        "outputId": "ff668d98-3bd0-4ad3-eff7-153528f92704"
      },
      "execution_count": 42,
      "outputs": [
        {
          "output_type": "execute_result",
          "data": {
            "text/plain": [
              "0.7906548328150667"
            ]
          },
          "metadata": {},
          "execution_count": 42
        }
      ]
    },
    {
      "cell_type": "code",
      "source": [
        "mean_absolute_error( OCY_summer, OC_summer_KNNY_pred)"
      ],
      "metadata": {
        "colab": {
          "base_uri": "https://localhost:8080/"
        },
        "id": "NPBz4KjbqG19",
        "outputId": "240ff4bf-8c05-4557-c992-d49c5b28104a"
      },
      "execution_count": 43,
      "outputs": [
        {
          "output_type": "execute_result",
          "data": {
            "text/plain": [
              "0.033583087806683676"
            ]
          },
          "metadata": {},
          "execution_count": 43
        }
      ]
    },
    {
      "cell_type": "code",
      "source": [
        "mean_absolute_percentage_error( OCY_summer, OC_summer_KNNY_pred)"
      ],
      "metadata": {
        "colab": {
          "base_uri": "https://localhost:8080/"
        },
        "id": "QnYgj3oiqG4b",
        "outputId": "a23a5ede-2494-483c-b926-6222003251a7"
      },
      "execution_count": 44,
      "outputs": [
        {
          "output_type": "execute_result",
          "data": {
            "text/plain": [
              "25320243804766.734"
            ]
          },
          "metadata": {},
          "execution_count": 44
        }
      ]
    },
    {
      "cell_type": "code",
      "source": [
        "mean_squared_error( OCY_summer, OC_summer_KNNY_pred)"
      ],
      "metadata": {
        "colab": {
          "base_uri": "https://localhost:8080/"
        },
        "id": "njuGH4pIqG8a",
        "outputId": "7f25e86d-0b76-4512-e21e-38bedc24f153"
      },
      "execution_count": 45,
      "outputs": [
        {
          "output_type": "execute_result",
          "data": {
            "text/plain": [
              "0.010180807894343138"
            ]
          },
          "metadata": {},
          "execution_count": 45
        }
      ]
    },
    {
      "cell_type": "markdown",
      "source": [
        "### Scaling and plotting for KNN (summer)"
      ],
      "metadata": {
        "id": "hR7C7JB--DTc"
      }
    },
    {
      "cell_type": "code",
      "source": [
        "OC_summer_KNNY_pred = scaler.fit_transform(OC_summer_KNNY_pred)"
      ],
      "metadata": {
        "id": "eqaWOQbA9aRJ"
      },
      "execution_count": 46,
      "outputs": []
    },
    {
      "cell_type": "code",
      "source": [
        "ax1 = sns.distplot(OCY_summer, color=\"r\", label=\"Actual Value\")\n",
        "sns.distplot(OC_summer_KNNY_pred, color=\"b\", label=\"Fitted Values\" , ax=ax1)"
      ],
      "metadata": {
        "colab": {
          "base_uri": "https://localhost:8080/",
          "height": 372
        },
        "id": "TYKpgsou9bVa",
        "outputId": "3a2a87bc-9b64-4820-ab21-dbe66b0ce191"
      },
      "execution_count": 47,
      "outputs": [
        {
          "output_type": "stream",
          "name": "stderr",
          "text": [
            "/usr/local/lib/python3.7/dist-packages/seaborn/distributions.py:2619: FutureWarning: `distplot` is a deprecated function and will be removed in a future version. Please adapt your code to use either `displot` (a figure-level function with similar flexibility) or `histplot` (an axes-level function for histograms).\n",
            "  warnings.warn(msg, FutureWarning)\n",
            "/usr/local/lib/python3.7/dist-packages/seaborn/distributions.py:2619: FutureWarning: `distplot` is a deprecated function and will be removed in a future version. Please adapt your code to use either `displot` (a figure-level function with similar flexibility) or `histplot` (an axes-level function for histograms).\n",
            "  warnings.warn(msg, FutureWarning)\n"
          ]
        },
        {
          "output_type": "execute_result",
          "data": {
            "text/plain": [
              "<matplotlib.axes._subplots.AxesSubplot at 0x7f602f036c90>"
            ]
          },
          "metadata": {},
          "execution_count": 47
        },
        {
          "output_type": "display_data",
          "data": {
            "text/plain": [
              "<Figure size 432x288 with 1 Axes>"
            ],
            "image/png": "[encoded data removed]"
          },
          "metadata": {
            "needs_background": "light"
          }
        }
      ]
    },
    {
      "cell_type": "markdown",
      "source": [
        "### Conclusion for KNN :\n",
        "\n",
        "KNN seems to be a better model for both summer and winter data when compared to that of linear regression. But, it is not the best model as a single model as it's accuracy is only about 78%."
      ],
      "metadata": {
        "id": "JgZ4MyLErW4Q"
      }
    },
    {
      "cell_type": "markdown",
      "source": [
        "# **Random Forest for multioutput Regression**\n"
      ],
      "metadata": {
        "id": "dA3TW_Gtr3um"
      }
    },
    {
      "cell_type": "markdown",
      "source": [
        "### Random forest for winter of all the cities"
      ],
      "metadata": {
        "id": "38REkVzFr92t"
      }
    },
    {
      "cell_type": "code",
      "source": [
        "RFmodel = RandomForestRegressor()\n",
        "# fit model\n",
        "RFmodel.fit(OCX_winter, OCY_winter)"
      ],
      "metadata": {
        "colab": {
          "base_uri": "https://localhost:8080/"
        },
        "id": "5n2KI7dFsBUR",
        "outputId": "f44b6d91-7938-4902-e110-7d6ca67a348d"
      },
      "execution_count": 48,
      "outputs": [
        {
          "output_type": "execute_result",
          "data": {
            "text/plain": [
              "RandomForestRegressor()"
            ]
          },
          "metadata": {},
          "execution_count": 48
        }
      ]
    },
    {
      "cell_type": "code",
      "source": [
        "OC_winter_RFY_pred = RFmodel.predict(OCX_winter)\n",
        "r2_score( np.array(OCY_winter), OC_winter_RFY_pred,multioutput='uniform_average')"
      ],
      "metadata": {
        "colab": {
          "base_uri": "https://localhost:8080/"
        },
        "id": "d8UA2hVEsBWz",
        "outputId": "d2dfc67e-119a-44c7-b8ca-b11b3314e99f"
      },
      "execution_count": 49,
      "outputs": [
        {
          "output_type": "execute_result",
          "data": {
            "text/plain": [
              "0.9344422220175402"
            ]
          },
          "metadata": {},
          "execution_count": 49
        }
      ]
    },
    {
      "cell_type": "code",
      "source": [
        "mean_absolute_error( OCY_winter, OC_winter_RFY_pred)"
      ],
      "metadata": {
        "colab": {
          "base_uri": "https://localhost:8080/"
        },
        "id": "oYr46dXbsBaM",
        "outputId": "5c158703-dd14-4efb-d487-036af80590ce"
      },
      "execution_count": 50,
      "outputs": [
        {
          "output_type": "execute_result",
          "data": {
            "text/plain": [
              "0.0178488429744741"
            ]
          },
          "metadata": {},
          "execution_count": 50
        }
      ]
    },
    {
      "cell_type": "code",
      "source": [
        "mean_absolute_percentage_error( OCY_winter, OC_winter_RFY_pred)"
      ],
      "metadata": {
        "colab": {
          "base_uri": "https://localhost:8080/"
        },
        "id": "KuZphopAsBlY",
        "outputId": "ac7ce48a-92a4-4b68-f012-9b49e497311c"
      },
      "execution_count": 51,
      "outputs": [
        {
          "output_type": "execute_result",
          "data": {
            "text/plain": [
              "6844603329666.879"
            ]
          },
          "metadata": {},
          "execution_count": 51
        }
      ]
    },
    {
      "cell_type": "code",
      "source": [
        "mean_squared_error( OCY_winter, OC_winter_RFY_pred)"
      ],
      "metadata": {
        "colab": {
          "base_uri": "https://localhost:8080/"
        },
        "id": "SOx9fe0msB24",
        "outputId": "9c971912-2abc-4eca-b9ff-f363988d1df7"
      },
      "execution_count": 52,
      "outputs": [
        {
          "output_type": "execute_result",
          "data": {
            "text/plain": [
              "0.0022467355275384935"
            ]
          },
          "metadata": {},
          "execution_count": 52
        }
      ]
    },
    {
      "cell_type": "markdown",
      "source": [
        "### Scaling and plotting for Random forest (winter)"
      ],
      "metadata": {
        "id": "AmobSUlr-8z3"
      }
    },
    {
      "cell_type": "code",
      "source": [
        "OC_winter_RFY_pred = scaler.fit_transform(OC_winter_RFY_pred)"
      ],
      "metadata": {
        "id": "TLE0S0Vi-7YF"
      },
      "execution_count": 53,
      "outputs": []
    },
    {
      "cell_type": "code",
      "source": [
        "ax1 = sns.distplot(OCY_winter, color=\"r\", label=\"Actual Value\")\n",
        "sns.distplot(OC_winter_RFY_pred, color=\"b\", label=\"Fitted Values\" , ax=ax1)"
      ],
      "metadata": {
        "colab": {
          "base_uri": "https://localhost:8080/",
          "height": 372
        },
        "id": "KEU3CbXY-8Ho",
        "outputId": "a73ceff2-1481-4232-a16f-aefe0e7960ab"
      },
      "execution_count": 54,
      "outputs": [
        {
          "output_type": "stream",
          "name": "stderr",
          "text": [
            "/usr/local/lib/python3.7/dist-packages/seaborn/distributions.py:2619: FutureWarning: `distplot` is a deprecated function and will be removed in a future version. Please adapt your code to use either `displot` (a figure-level function with similar flexibility) or `histplot` (an axes-level function for histograms).\n",
            "  warnings.warn(msg, FutureWarning)\n",
            "/usr/local/lib/python3.7/dist-packages/seaborn/distributions.py:2619: FutureWarning: `distplot` is a deprecated function and will be removed in a future version. Please adapt your code to use either `displot` (a figure-level function with similar flexibility) or `histplot` (an axes-level function for histograms).\n",
            "  warnings.warn(msg, FutureWarning)\n"
          ]
        },
        {
          "output_type": "execute_result",
          "data": {
            "text/plain": [
              "<matplotlib.axes._subplots.AxesSubplot at 0x7f602ef259d0>"
            ]
          },
          "metadata": {},
          "execution_count": 54
        },
        {
          "output_type": "display_data",
          "data": {
            "text/plain": [
              "<Figure size 432x288 with 1 Axes>"
            ],
            "image/png": "[encoded data removed]"
          },
          "metadata": {
            "needs_background": "light"
          }
        }
      ]
    },
    {
      "cell_type": "markdown",
      "source": [
        "### Random forest for summer of all the cities"
      ],
      "metadata": {
        "id": "fA6WNd8CsGYL"
      }
    },
    {
      "cell_type": "code",
      "source": [
        "RFmodel.fit(OCX_summer, OCY_summer)"
      ],
      "metadata": {
        "colab": {
          "base_uri": "https://localhost:8080/"
        },
        "id": "-bSGFHq0sB42",
        "outputId": "a07f1655-cea5-4a8a-cf36-9aff58d19148"
      },
      "execution_count": 55,
      "outputs": [
        {
          "output_type": "execute_result",
          "data": {
            "text/plain": [
              "RandomForestRegressor()"
            ]
          },
          "metadata": {},
          "execution_count": 55
        }
      ]
    },
    {
      "cell_type": "code",
      "source": [
        "OC_summer_RFY_pred = RFmodel.predict(OCX_summer)\n",
        "r2_score( np.array(OCY_summer), OC_summer_RFY_pred,multioutput='uniform_average')"
      ],
      "metadata": {
        "colab": {
          "base_uri": "https://localhost:8080/"
        },
        "id": "t72BbtsksB75",
        "outputId": "dcc9dbd5-a6d4-409b-eecc-c5d4e59d16a3"
      },
      "execution_count": 56,
      "outputs": [
        {
          "output_type": "execute_result",
          "data": {
            "text/plain": [
              "0.9693298634776699"
            ]
          },
          "metadata": {},
          "execution_count": 56
        }
      ]
    },
    {
      "cell_type": "code",
      "source": [
        "mean_absolute_error( OCY_summer, OC_summer_RFY_pred)"
      ],
      "metadata": {
        "colab": {
          "base_uri": "https://localhost:8080/"
        },
        "id": "Kmgif-rPsB_E",
        "outputId": "9472169f-9fc1-473e-f40f-acbfd86ed7fe"
      },
      "execution_count": 57,
      "outputs": [
        {
          "output_type": "execute_result",
          "data": {
            "text/plain": [
              "0.012801498954947232"
            ]
          },
          "metadata": {},
          "execution_count": 57
        }
      ]
    },
    {
      "cell_type": "code",
      "source": [
        "mean_absolute_percentage_error( OCY_summer, OC_summer_RFY_pred)\n"
      ],
      "metadata": {
        "colab": {
          "base_uri": "https://localhost:8080/"
        },
        "id": "dIZJBC1mssH5",
        "outputId": "b2e54048-0c5a-475b-d522-d4c5cf2a500b"
      },
      "execution_count": 58,
      "outputs": [
        {
          "output_type": "execute_result",
          "data": {
            "text/plain": [
              "8823433654059.85"
            ]
          },
          "metadata": {},
          "execution_count": 58
        }
      ]
    },
    {
      "cell_type": "code",
      "source": [
        "mean_squared_error( OCY_summer, OC_summer_RFY_pred)"
      ],
      "metadata": {
        "colab": {
          "base_uri": "https://localhost:8080/"
        },
        "id": "gTcL1fakssKt",
        "outputId": "36a1bce4-8a9d-46ec-e7cb-995f27880d0d"
      },
      "execution_count": 59,
      "outputs": [
        {
          "output_type": "execute_result",
          "data": {
            "text/plain": [
              "0.001557362339648133"
            ]
          },
          "metadata": {},
          "execution_count": 59
        }
      ]
    },
    {
      "cell_type": "markdown",
      "source": [
        "### Scaling and plotting for Random forest (summer)"
      ],
      "metadata": {
        "id": "D15vJrBi_UBH"
      }
    },
    {
      "cell_type": "code",
      "source": [
        "OC_summer_RFY_pred = scaler.fit_transform(OC_summer_RFY_pred)"
      ],
      "metadata": {
        "id": "VaVjiAmv_Tp2"
      },
      "execution_count": 60,
      "outputs": []
    },
    {
      "cell_type": "code",
      "source": [
        "ax1 = sns.distplot(OCY_summer, color=\"r\", label=\"Actual Value\")\n",
        "sns.distplot(OC_summer_RFY_pred, color=\"b\", label=\"Fitted Values\" , ax=ax1)"
      ],
      "metadata": {
        "colab": {
          "base_uri": "https://localhost:8080/",
          "height": 372
        },
        "id": "_Op97Z2A_TV3",
        "outputId": "cbc3f7af-ec44-4230-e393-640d957ef7a1"
      },
      "execution_count": 61,
      "outputs": [
        {
          "output_type": "stream",
          "name": "stderr",
          "text": [
            "/usr/local/lib/python3.7/dist-packages/seaborn/distributions.py:2619: FutureWarning: `distplot` is a deprecated function and will be removed in a future version. Please adapt your code to use either `displot` (a figure-level function with similar flexibility) or `histplot` (an axes-level function for histograms).\n",
            "  warnings.warn(msg, FutureWarning)\n",
            "/usr/local/lib/python3.7/dist-packages/seaborn/distributions.py:2619: FutureWarning: `distplot` is a deprecated function and will be removed in a future version. Please adapt your code to use either `displot` (a figure-level function with similar flexibility) or `histplot` (an axes-level function for histograms).\n",
            "  warnings.warn(msg, FutureWarning)\n"
          ]
        },
        {
          "output_type": "execute_result",
          "data": {
            "text/plain": [
              "<matplotlib.axes._subplots.AxesSubplot at 0x7f602ef9a210>"
            ]
          },
          "metadata": {},
          "execution_count": 61
        },
        {
          "output_type": "display_data",
          "data": {
            "text/plain": [
              "<Figure size 432x288 with 1 Axes>"
            ],
            "image/png": "[encoded data removed]"
          },
          "metadata": {
            "needs_background": "light"
          }
        }
      ]
    },
    {
      "cell_type": "markdown",
      "source": [
        "### Conclusion for KNN :\n",
        "Random forest seems to be the best model for the data with 95% accuracy and the graph shows how accurate the predicted values are to that of actual values."
      ],
      "metadata": {
        "id": "G7yeVihpuFYr"
      }
    },
    {
      "cell_type": "markdown",
      "source": [
        "# **MultiOutput Regression using XGBoost:**"
      ],
      "metadata": {
        "id": "hK2kTNlWurcZ"
      }
    },
    {
      "cell_type": "markdown",
      "source": [
        "### XGBoost for winter of all the cities"
      ],
      "metadata": {
        "id": "H4Z8mL-ruyEd"
      }
    },
    {
      "cell_type": "code",
      "source": [
        "multioutputregressor = MultiOutputRegressor(xgb.XGBRegressor(objective='reg:linear')).fit(OCX_winter, OCY_winter)\n",
        "OC_winter_XGBY_pred= multioutputregressor.predict(OCX_winter)"
      ],
      "metadata": {
        "colab": {
          "base_uri": "https://localhost:8080/"
        },
        "id": "aTJuUrjSuqxK",
        "outputId": "e521b7fe-d67c-45f2-b66f-cd0e27d7360f"
      },
      "execution_count": 62,
      "outputs": [
        {
          "output_type": "stream",
          "name": "stdout",
          "text": [
            "[23:05:07] WARNING: /workspace/src/objective/regression_obj.cu:152: reg:linear is now deprecated in favor of reg:squarederror.\n",
            "[23:05:08] WARNING: /workspace/src/objective/regression_obj.cu:152: reg:linear is now deprecated in favor of reg:squarederror.\n",
            "[23:05:09] WARNING: /workspace/src/objective/regression_obj.cu:152: reg:linear is now deprecated in favor of reg:squarederror.\n",
            "[23:05:09] WARNING: /workspace/src/objective/regression_obj.cu:152: reg:linear is now deprecated in favor of reg:squarederror.\n",
            "[23:05:09] WARNING: /workspace/src/objective/regression_obj.cu:152: reg:linear is now deprecated in favor of reg:squarederror.\n",
            "[23:05:09] WARNING: /workspace/src/objective/regression_obj.cu:152: reg:linear is now deprecated in favor of reg:squarederror.\n"
          ]
        }
      ]
    },
    {
      "cell_type": "code",
      "source": [
        "r2_score( np.array(OCY_winter), OC_winter_XGBY_pred ,multioutput='uniform_average')"
      ],
      "metadata": {
        "colab": {
          "base_uri": "https://localhost:8080/"
        },
        "id": "SkA_s1O4u8pQ",
        "outputId": "36add513-7ac9-4b91-da78-cb7bd4b25c7e"
      },
      "execution_count": 63,
      "outputs": [
        {
          "output_type": "execute_result",
          "data": {
            "text/plain": [
              "0.7473107823802496"
            ]
          },
          "metadata": {},
          "execution_count": 63
        }
      ]
    },
    {
      "cell_type": "code",
      "source": [
        "mean_absolute_error( OCY_winter, OC_winter_XGBY_pred)"
      ],
      "metadata": {
        "colab": {
          "base_uri": "https://localhost:8080/"
        },
        "id": "DlUIClNEu_Lu",
        "outputId": "4c1acd5a-e36e-45d6-a8dc-95c1b576e589"
      },
      "execution_count": 64,
      "outputs": [
        {
          "output_type": "execute_result",
          "data": {
            "text/plain": [
              "0.052194053986056484"
            ]
          },
          "metadata": {},
          "execution_count": 64
        }
      ]
    },
    {
      "cell_type": "code",
      "source": [
        "mean_absolute_percentage_error( OCY_winter, OC_winter_XGBY_pred)"
      ],
      "metadata": {
        "colab": {
          "base_uri": "https://localhost:8080/"
        },
        "id": "v_D3evyYu_HC",
        "outputId": "cf3e2b7e-08a4-4eaf-bc30-4fc5cfd695e0"
      },
      "execution_count": 65,
      "outputs": [
        {
          "output_type": "execute_result",
          "data": {
            "text/plain": [
              "16914578279307.69"
            ]
          },
          "metadata": {},
          "execution_count": 65
        }
      ]
    },
    {
      "cell_type": "code",
      "source": [
        "mean_squared_error( OCY_winter, OC_winter_XGBY_pred)"
      ],
      "metadata": {
        "colab": {
          "base_uri": "https://localhost:8080/"
        },
        "id": "RiZiYrHHu_EY",
        "outputId": "d8b3c893-4060-4eb1-ad92-ba39e99f4f0f"
      },
      "execution_count": 66,
      "outputs": [
        {
          "output_type": "execute_result",
          "data": {
            "text/plain": [
              "0.014996260062694106"
            ]
          },
          "metadata": {},
          "execution_count": 66
        }
      ]
    },
    {
      "cell_type": "markdown",
      "source": [
        "### Scaling and plotting for XGBoost (winter)"
      ],
      "metadata": {
        "id": "U6wpofZY_jqq"
      }
    },
    {
      "cell_type": "code",
      "source": [
        "OC_winter_XGBY_pred = scaler.fit_transform(OC_winter_XGBY_pred)"
      ],
      "metadata": {
        "id": "3ZaA2AHd_kUj"
      },
      "execution_count": 67,
      "outputs": []
    },
    {
      "cell_type": "code",
      "source": [
        "ax1 = sns.distplot(OCY_winter, color=\"r\", label=\"Actual Value\")\n",
        "sns.distplot(OC_winter_XGBY_pred, color=\"b\", label=\"Fitted Values\" , ax=ax1)"
      ],
      "metadata": {
        "colab": {
          "base_uri": "https://localhost:8080/",
          "height": 372
        },
        "id": "c00iXVTS_iy-",
        "outputId": "79e1d451-62c2-4bd4-875a-0f81da583dd4"
      },
      "execution_count": 68,
      "outputs": [
        {
          "output_type": "stream",
          "name": "stderr",
          "text": [
            "/usr/local/lib/python3.7/dist-packages/seaborn/distributions.py:2619: FutureWarning: `distplot` is a deprecated function and will be removed in a future version. Please adapt your code to use either `displot` (a figure-level function with similar flexibility) or `histplot` (an axes-level function for histograms).\n",
            "  warnings.warn(msg, FutureWarning)\n",
            "/usr/local/lib/python3.7/dist-packages/seaborn/distributions.py:2619: FutureWarning: `distplot` is a deprecated function and will be removed in a future version. Please adapt your code to use either `displot` (a figure-level function with similar flexibility) or `histplot` (an axes-level function for histograms).\n",
            "  warnings.warn(msg, FutureWarning)\n"
          ]
        },
        {
          "output_type": "execute_result",
          "data": {
            "text/plain": [
              "<matplotlib.axes._subplots.AxesSubplot at 0x7f602f41d890>"
            ]
          },
          "metadata": {},
          "execution_count": 68
        },
        {
          "output_type": "display_data",
          "data": {
            "text/plain": [
              "<Figure size 432x288 with 1 Axes>"
            ],
            "image/png": "[encoded data removed]"
          },
          "metadata": {
            "needs_background": "light"
          }
        }
      ]
    },
    {
      "cell_type": "markdown",
      "source": [
        "### XGBoost for summer of all the cities"
      ],
      "metadata": {
        "id": "jbhrtoDAvCcy"
      }
    },
    {
      "cell_type": "code",
      "source": [
        "multioutputregressor.fit(OCX_summer, OCY_summer)\n",
        "OC_summer_XGBY_pred= multioutputregressor.predict(OCX_summer)"
      ],
      "metadata": {
        "colab": {
          "base_uri": "https://localhost:8080/"
        },
        "id": "B6iRFPlvu-7S",
        "outputId": "f675c3a3-d38f-4804-bc0d-95ca14e34785"
      },
      "execution_count": 69,
      "outputs": [
        {
          "output_type": "stream",
          "name": "stdout",
          "text": [
            "[23:05:10] WARNING: /workspace/src/objective/regression_obj.cu:152: reg:linear is now deprecated in favor of reg:squarederror.\n",
            "[23:05:11] WARNING: /workspace/src/objective/regression_obj.cu:152: reg:linear is now deprecated in favor of reg:squarederror.\n",
            "[23:05:11] WARNING: /workspace/src/objective/regression_obj.cu:152: reg:linear is now deprecated in favor of reg:squarederror.\n",
            "[23:05:11] WARNING: /workspace/src/objective/regression_obj.cu:152: reg:linear is now deprecated in favor of reg:squarederror.\n",
            "[23:05:11] WARNING: /workspace/src/objective/regression_obj.cu:152: reg:linear is now deprecated in favor of reg:squarederror.\n",
            "[23:05:11] WARNING: /workspace/src/objective/regression_obj.cu:152: reg:linear is now deprecated in favor of reg:squarederror.\n"
          ]
        }
      ]
    },
    {
      "cell_type": "code",
      "source": [
        "r2_score( np.array(OCY_summer), OC_summer_XGBY_pred ,multioutput='uniform_average')"
      ],
      "metadata": {
        "colab": {
          "base_uri": "https://localhost:8080/"
        },
        "id": "8LcAV4ggu-z8",
        "outputId": "8bdb2d78-f6d0-48a9-aea9-c2032e9710ad"
      },
      "execution_count": 70,
      "outputs": [
        {
          "output_type": "execute_result",
          "data": {
            "text/plain": [
              "0.7545387188597733"
            ]
          },
          "metadata": {},
          "execution_count": 70
        }
      ]
    },
    {
      "cell_type": "code",
      "source": [
        "mean_absolute_error( OCY_summer, OC_summer_XGBY_pred)"
      ],
      "metadata": {
        "colab": {
          "base_uri": "https://localhost:8080/"
        },
        "id": "9yvlsdPTu-BM",
        "outputId": "81651af9-58d6-4ab7-ef9b-62d9fa016f2d"
      },
      "execution_count": 71,
      "outputs": [
        {
          "output_type": "execute_result",
          "data": {
            "text/plain": [
              "0.04231275095566862"
            ]
          },
          "metadata": {},
          "execution_count": 71
        }
      ]
    },
    {
      "cell_type": "code",
      "source": [
        "mean_absolute_percentage_error( OCY_summer, OC_summer_XGBY_pred)\n"
      ],
      "metadata": {
        "colab": {
          "base_uri": "https://localhost:8080/"
        },
        "id": "NjM1xcX5u94Z",
        "outputId": "db24953c-2f5a-45a6-9e13-297299e35034"
      },
      "execution_count": 72,
      "outputs": [
        {
          "output_type": "execute_result",
          "data": {
            "text/plain": [
              "24527368346484.926"
            ]
          },
          "metadata": {},
          "execution_count": 72
        }
      ]
    },
    {
      "cell_type": "code",
      "source": [
        "mean_squared_error( OCY_summer, OC_summer_XGBY_pred)"
      ],
      "metadata": {
        "colab": {
          "base_uri": "https://localhost:8080/"
        },
        "id": "8uEHBijDu9rV",
        "outputId": "1afe0aa2-a7f2-455e-9ba5-279a459f91fb"
      },
      "execution_count": 73,
      "outputs": [
        {
          "output_type": "execute_result",
          "data": {
            "text/plain": [
              "0.011500352678273882"
            ]
          },
          "metadata": {},
          "execution_count": 73
        }
      ]
    },
    {
      "cell_type": "markdown",
      "source": [
        "### Scaling and plotting for XGBoost (summer)"
      ],
      "metadata": {
        "id": "maxo7KY6AACq"
      }
    },
    {
      "cell_type": "code",
      "source": [
        "OC_summer_XGBY_pred = scaler.fit_transform(OC_summer_XGBY_pred)"
      ],
      "metadata": {
        "id": "uYfAsgTS_-2w"
      },
      "execution_count": 74,
      "outputs": []
    },
    {
      "cell_type": "code",
      "source": [
        "ax1 = sns.distplot(OCY_summer, color=\"r\", label=\"Actual Value\")\n",
        "sns.distplot(OC_summer_XGBY_pred, color=\"b\", label=\"Fitted Values\" , ax=ax1)"
      ],
      "metadata": {
        "colab": {
          "base_uri": "https://localhost:8080/",
          "height": 372
        },
        "id": "kf7zxNdi__lP",
        "outputId": "1c8a6820-b5e0-488c-816a-47e4d038d434"
      },
      "execution_count": 75,
      "outputs": [
        {
          "output_type": "stream",
          "name": "stderr",
          "text": [
            "/usr/local/lib/python3.7/dist-packages/seaborn/distributions.py:2619: FutureWarning: `distplot` is a deprecated function and will be removed in a future version. Please adapt your code to use either `displot` (a figure-level function with similar flexibility) or `histplot` (an axes-level function for histograms).\n",
            "  warnings.warn(msg, FutureWarning)\n",
            "/usr/local/lib/python3.7/dist-packages/seaborn/distributions.py:2619: FutureWarning: `distplot` is a deprecated function and will be removed in a future version. Please adapt your code to use either `displot` (a figure-level function with similar flexibility) or `histplot` (an axes-level function for histograms).\n",
            "  warnings.warn(msg, FutureWarning)\n"
          ]
        },
        {
          "output_type": "execute_result",
          "data": {
            "text/plain": [
              "<matplotlib.axes._subplots.AxesSubplot at 0x7f602eca8310>"
            ]
          },
          "metadata": {},
          "execution_count": 75
        },
        {
          "output_type": "display_data",
          "data": {
            "text/plain": [
              "<Figure size 432x288 with 1 Axes>"
            ],
            "image/png": "[encoded data removed]"
          },
          "metadata": {
            "needs_background": "light"
          }
        }
      ]
    },
    {
      "cell_type": "markdown",
      "source": [
        "###Conclusion for XGBoost :\n",
        "XGBoost model is almost like KNN model with accuracy of around the same values for both winter and summer. "
      ],
      "metadata": {
        "id": "OxaoTUkPwip4"
      }
    }
  ]
}