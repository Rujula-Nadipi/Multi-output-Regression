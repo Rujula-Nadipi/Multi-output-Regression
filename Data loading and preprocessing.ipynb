{
  "cells": [
    {
      "cell_type": "markdown",
      "source": [
        "# **Data** **Loading**"
      ],
      "metadata": {
        "id": "o4rCZAe7ry1G"
      }
    },
    {
      "cell_type": "code",
      "execution_count": null,
      "metadata": {
        "id": "s0UHHDDPzCtO"
      },
      "outputs": [],
      "source": [
        "import pandas as pd\n",
        "pd.set_option('display.max_rows', None)\n",
        "pd.set_option('display.max_columns', None)\n",
        "pd.set_option('display.width', None)\n",
        "pd.set_option('display.max_colwidth', None)\n",
        "\n",
        "import os\n"
      ]
    },
    {
      "cell_type": "markdown",
      "source": [
        "Making a connection to google drive in order to get data\n"
      ],
      "metadata": {
        "id": "fOXK6Hn9sMde"
      }
    },
    {
      "cell_type": "code",
      "source": [
        "from google.colab import drive\n",
        "drive.mount('/content/drive')"
      ],
      "metadata": {
        "colab": {
          "base_uri": "https://localhost:8080/"
        },
        "id": "qDN8G6bcH_SN",
        "outputId": "7b031b6b-951e-4281-e69c-2be415186468"
      },
      "execution_count": null,
      "outputs": [
        {
          "output_type": "stream",
          "name": "stdout",
          "text": [
            "Drive already mounted at /content/drive; to attempt to forcibly remount, call drive.mount(\"/content/drive\", force_remount=True).\n"
          ]
        }
      ]
    },
    {
      "cell_type": "markdown",
      "source": [
        "# **Data Preprocessing**"
      ],
      "metadata": {
        "id": "lSRnudShsXK7"
      }
    },
    {
      "cell_type": "code",
      "execution_count": null,
      "metadata": {
        "colab": {
          "base_uri": "https://localhost:8080/",
          "height": 206
        },
        "id": "j4ypy_b9mDCC",
        "outputId": "e2f82fd5-43a4-4b98-8eca-4ba27466ff5a"
      },
      "outputs": [
        {
          "output_type": "execute_result",
          "data": {
            "text/plain": [
              "  Degrees      Time Speed Energycons EProp E_Aux    HVAC   Power Regen  \\\n",
              "0       0       0.0   0.0        NaN   0.0  5.35  4.2501  9.6001   0.0   \n",
              "1     0.1  0.000039   0.0        inf   0.0  5.35  4.2501  9.6001   0.0   \n",
              "2     0.2   0.55586   0.0        inf   0.0  5.35  4.2501  9.6001   0.0   \n",
              "3     0.3       5.5   0.0        inf   0.0  5.35  4.2501  9.6001   0.0   \n",
              "4     0.4    9.7022   0.0        inf   0.0  5.35  4.2501  9.6001   0.0   \n",
              "\n",
              "      SoC driveCycle     city weather  \n",
              "0   100.0       UDDS  Seattle  Summer  \n",
              "1   100.0       UDDS  Seattle  Summer  \n",
              "2   100.0       UDDS  Seattle  Summer  \n",
              "3  99.995       UDDS  Seattle  Summer  \n",
              "4  99.991       UDDS  Seattle  Summer  "
            ],
            "text/html": [
              "\n",
              "  <div id=\"df-68db03b8-6c88-4494-a282-178bbdb21eac\">\n",
              "    <div class=\"colab-df-container\">\n",
              "      <div>\n",
              "<style scoped>\n",
              "    .dataframe tbody tr th:only-of-type {\n",
              "        vertical-align: middle;\n",
              "    }\n",
              "\n",
              "    .dataframe tbody tr th {\n",
              "        vertical-align: top;\n",
              "    }\n",
              "\n",
              "    .dataframe thead th {\n",
              "        text-align: right;\n",
              "    }\n",
              "</style>\n",
              "<table border=\"1\" class=\"dataframe\">\n",
              "  <thead>\n",
              "    <tr style=\"text-align: right;\">\n",
              "      <th></th>\n",
              "      <th>Degrees</th>\n",
              "      <th>Time</th>\n",
              "      <th>Speed</th>\n",
              "      <th>Energycons</th>\n",
              "      <th>EProp</th>\n",
              "      <th>E_Aux</th>\n",
              "      <th>HVAC</th>\n",
              "      <th>Power</th>\n",
              "      <th>Regen</th>\n",
              "      <th>SoC</th>\n",
              "      <th>driveCycle</th>\n",
              "      <th>city</th>\n",
              "      <th>weather</th>\n",
              "    </tr>\n",
              "  </thead>\n",
              "  <tbody>\n",
              "    <tr>\n",
              "      <th>0</th>\n",
              "      <td>0</td>\n",
              "      <td>0.0</td>\n",
              "      <td>0.0</td>\n",
              "      <td>NaN</td>\n",
              "      <td>0.0</td>\n",
              "      <td>5.35</td>\n",
              "      <td>4.2501</td>\n",
              "      <td>9.6001</td>\n",
              "      <td>0.0</td>\n",
              "      <td>100.0</td>\n",
              "      <td>UDDS</td>\n",
              "      <td>Seattle</td>\n",
              "      <td>Summer</td>\n",
              "    </tr>\n",
              "    <tr>\n",
              "      <th>1</th>\n",
              "      <td>0.1</td>\n",
              "      <td>0.000039</td>\n",
              "      <td>0.0</td>\n",
              "      <td>inf</td>\n",
              "      <td>0.0</td>\n",
              "      <td>5.35</td>\n",
              "      <td>4.2501</td>\n",
              "      <td>9.6001</td>\n",
              "      <td>0.0</td>\n",
              "      <td>100.0</td>\n",
              "      <td>UDDS</td>\n",
              "      <td>Seattle</td>\n",
              "      <td>Summer</td>\n",
              "    </tr>\n",
              "    <tr>\n",
              "      <th>2</th>\n",
              "      <td>0.2</td>\n",
              "      <td>0.55586</td>\n",
              "      <td>0.0</td>\n",
              "      <td>inf</td>\n",
              "      <td>0.0</td>\n",
              "      <td>5.35</td>\n",
              "      <td>4.2501</td>\n",
              "      <td>9.6001</td>\n",
              "      <td>0.0</td>\n",
              "      <td>100.0</td>\n",
              "      <td>UDDS</td>\n",
              "      <td>Seattle</td>\n",
              "      <td>Summer</td>\n",
              "    </tr>\n",
              "    <tr>\n",
              "      <th>3</th>\n",
              "      <td>0.3</td>\n",
              "      <td>5.5</td>\n",
              "      <td>0.0</td>\n",
              "      <td>inf</td>\n",
              "      <td>0.0</td>\n",
              "      <td>5.35</td>\n",
              "      <td>4.2501</td>\n",
              "      <td>9.6001</td>\n",
              "      <td>0.0</td>\n",
              "      <td>99.995</td>\n",
              "      <td>UDDS</td>\n",
              "      <td>Seattle</td>\n",
              "      <td>Summer</td>\n",
              "    </tr>\n",
              "    <tr>\n",
              "      <th>4</th>\n",
              "      <td>0.4</td>\n",
              "      <td>9.7022</td>\n",
              "      <td>0.0</td>\n",
              "      <td>inf</td>\n",
              "      <td>0.0</td>\n",
              "      <td>5.35</td>\n",
              "      <td>4.2501</td>\n",
              "      <td>9.6001</td>\n",
              "      <td>0.0</td>\n",
              "      <td>99.991</td>\n",
              "      <td>UDDS</td>\n",
              "      <td>Seattle</td>\n",
              "      <td>Summer</td>\n",
              "    </tr>\n",
              "  </tbody>\n",
              "</table>\n",
              "</div>\n",
              "      <button class=\"colab-df-convert\" onclick=\"convertToInteractive('df-68db03b8-6c88-4494-a282-178bbdb21eac')\"\n",
              "              title=\"Convert this dataframe to an interactive table.\"\n",
              "              style=\"display:none;\">\n",
              "        \n",
              "  <svg xmlns=\"http://www.w3.org/2000/svg\" height=\"24px\"viewBox=\"0 0 24 24\"\n",
              "       width=\"24px\">\n",
              "    <path d=\"M0 0h24v24H0V0z\" fill=\"none\"/>\n",
              "    <path d=\"M18.56 5.44l.94 2.06.94-2.06 2.06-.94-2.06-.94-.94-2.06-.94 2.06-2.06.94zm-11 1L8.5 8.5l.94-2.06 2.06-.94-2.06-.94L8.5 2.5l-.94 2.06-2.06.94zm10 10l.94 2.06.94-2.06 2.06-.94-2.06-.94-.94-2.06-.94 2.06-2.06.94z\"/><path d=\"M17.41 7.96l-1.37-1.37c-.4-.4-.92-.59-1.43-.59-.52 0-1.04.2-1.43.59L10.3 9.45l-7.72 7.72c-.78.78-.78 2.05 0 2.83L4 21.41c.39.39.9.59 1.41.59.51 0 1.02-.2 1.41-.59l7.78-7.78 2.81-2.81c.8-.78.8-2.07 0-2.86zM5.41 20L4 18.59l7.72-7.72 1.47 1.35L5.41 20z\"/>\n",
              "  </svg>\n",
              "      </button>\n",
              "      \n",
              "  <style>\n",
              "    .colab-df-container {\n",
              "      display:flex;\n",
              "      flex-wrap:wrap;\n",
              "      gap: 12px;\n",
              "    }\n",
              "\n",
              "    .colab-df-convert {\n",
              "      background-color: #E8F0FE;\n",
              "      border: none;\n",
              "      border-radius: 50%;\n",
              "      cursor: pointer;\n",
              "      display: none;\n",
              "      fill: #1967D2;\n",
              "      height: 32px;\n",
              "      padding: 0 0 0 0;\n",
              "      width: 32px;\n",
              "    }\n",
              "\n",
              "    .colab-df-convert:hover {\n",
              "      background-color: #E2EBFA;\n",
              "      box-shadow: 0px 1px 2px rgba(60, 64, 67, 0.3), 0px 1px 3px 1px rgba(60, 64, 67, 0.15);\n",
              "      fill: #174EA6;\n",
              "    }\n",
              "\n",
              "    [theme=dark] .colab-df-convert {\n",
              "      background-color: #3B4455;\n",
              "      fill: #D2E3FC;\n",
              "    }\n",
              "\n",
              "    [theme=dark] .colab-df-convert:hover {\n",
              "      background-color: #434B5C;\n",
              "      box-shadow: 0px 1px 3px 1px rgba(0, 0, 0, 0.15);\n",
              "      filter: drop-shadow(0px 1px 2px rgba(0, 0, 0, 0.3));\n",
              "      fill: #FFFFFF;\n",
              "    }\n",
              "  </style>\n",
              "\n",
              "      <script>\n",
              "        const buttonEl =\n",
              "          document.querySelector('#df-68db03b8-6c88-4494-a282-178bbdb21eac button.colab-df-convert');\n",
              "        buttonEl.style.display =\n",
              "          google.colab.kernel.accessAllowed ? 'block' : 'none';\n",
              "\n",
              "        async function convertToInteractive(key) {\n",
              "          const element = document.querySelector('#df-68db03b8-6c88-4494-a282-178bbdb21eac');\n",
              "          const dataTable =\n",
              "            await google.colab.kernel.invokeFunction('convertToInteractive',\n",
              "                                                     [key], {});\n",
              "          if (!dataTable) return;\n",
              "\n",
              "          const docLinkHtml = 'Like what you see? Visit the ' +\n",
              "            '<a target=\"_blank\" href=https://colab.research.google.com/notebooks/data_table.ipynb>data table notebook</a>'\n",
              "            + ' to learn more about interactive tables.';\n",
              "          element.innerHTML = '';\n",
              "          dataTable['output_type'] = 'display_data';\n",
              "          await google.colab.output.renderOutput(dataTable, element);\n",
              "          const docLink = document.createElement('div');\n",
              "          docLink.innerHTML = docLinkHtml;\n",
              "          element.appendChild(docLink);\n",
              "        }\n",
              "      </script>\n",
              "    </div>\n",
              "  </div>\n",
              "  "
            ]
          },
          "metadata": {},
          "execution_count": 3
        }
      ],
      "source": [
        "driveCyclesPath = \"/content/drive/MyDrive/degreecycle/20 degrees\"\n",
        "data = None\n",
        "\n",
        "# Access each drive cycle\n",
        "for driveCycle in os.listdir(driveCyclesPath):\n",
        "\n",
        "  if os.path.isdir(driveCyclesPath+\"/\"+driveCycle):\n",
        "\n",
        "# Access each city folder in the drive cycles\n",
        "      for city in os.listdir(driveCyclesPath+\"/\"+driveCycle):\n",
        "\n",
        "# Access weather files in each city \n",
        "        for weather in [\"Summer\",\"Winter\"]:\n",
        "\n",
        "# Read the drive cycle file from each season folder and setting up the dataset with the appropriate variables in order to setup a dataset.\n",
        "          df = pd.read_csv(driveCyclesPath+\"/\"+driveCycle+\"/\"+city+\"/\"+weather+\"/Drive_cycle-v2.csv\")\n",
        "          dfT = df.transpose()\n",
        "          dfT.reset_index(inplace=True)\n",
        "          dfT.columns = dfT.iloc[0].values\n",
        "          newCitydf = dfT.iloc[1:]\n",
        "\n",
        "# Trying to concatenate all the files by adding drive cycle, city and weather as their respective features.\n",
        "          newCitydf = newCitydf.assign(driveCycle=driveCycle)\n",
        "          newCitydf = newCitydf.assign(city=city)\n",
        "          newCitydf = newCitydf.assign(weather=weather)\n",
        "\n",
        "          try:\n",
        "            data = pd.concat([data, newCitydf], ignore_index=True)\n",
        "          except:\n",
        "            data = newCitydf\n",
        "\n",
        "\n",
        "data.head()\n"
      ]
    },
    {
      "cell_type": "code",
      "execution_count": null,
      "metadata": {
        "id": "cGRprekOzjBL"
      },
      "outputs": [],
      "source": [
        "data.to_csv(\"revoltData.csv\")"
      ]
    },
    {
      "cell_type": "code",
      "execution_count": null,
      "metadata": {
        "id": "gc_BX5HwBcY4"
      },
      "outputs": [],
      "source": [
        "data = pd.read_csv(\"revoltData.csv\")"
      ]
    },
    {
      "cell_type": "markdown",
      "source": [
        "Now to divide the file into multiple files based on drive cycle, we use groupby method."
      ],
      "metadata": {
        "id": "TfG2RIWmxgtc"
      }
    },
    {
      "cell_type": "code",
      "source": [
        "groupeddata = data.groupby('driveCycle')"
      ],
      "metadata": {
        "id": "sKTgnZc92vvL"
      },
      "execution_count": null,
      "outputs": []
    },
    {
      "cell_type": "code",
      "source": [
        "UDDS_data = groupeddata.get_group(data['driveCycle'].unique()[0])\n",
        "Manh_data = groupeddata.get_group(data['driveCycle'].unique()[1])\n",
        "NYB_data = groupeddata.get_group(data['driveCycle'].unique()[2])\n",
        "Oran_data = groupeddata.get_group(data['driveCycle'].unique()[3])\n",
        "NYC_data = groupeddata.get_group(data['driveCycle'].unique()[4])\n",
        "CBD_data = groupeddata.get_group(data['driveCycle'].unique()[5])\n",
        "\n"
      ],
      "metadata": {
        "id": "HpS808UL3MFP"
      },
      "execution_count": null,
      "outputs": []
    },
    {
      "cell_type": "markdown",
      "source": [
        "Checking if all the cities and weather exists in the files. We don't have to check for all the files as we have applied the code in the same manner. Checking for two files will help us know if the files have different shape with required amount of rows and columns."
      ],
      "metadata": {
        "id": "eJGG1IQtx7p8"
      }
    },
    {
      "cell_type": "code",
      "source": [
        "print(Manh_data.nunique())"
      ],
      "metadata": {
        "colab": {
          "base_uri": "https://localhost:8080/"
        },
        "id": "Tl4WRlkG37BQ",
        "outputId": "db30e3fc-8237-4442-de23-399bbe9027a4"
      },
      "execution_count": null,
      "outputs": [
        {
          "output_type": "stream",
          "name": "stdout",
          "text": [
            "Unnamed: 0    6917\n",
            "Degrees        329\n",
            "Time          5528\n",
            "Speed         3053\n",
            "Energycons    5358\n",
            "EProp         3330\n",
            "E_Aux            2\n",
            "HVAC            26\n",
            "Power         4495\n",
            "Regen          708\n",
            "SoC           4034\n",
            "driveCycle       1\n",
            "city            10\n",
            "weather          2\n",
            "dtype: int64\n"
          ]
        }
      ]
    },
    {
      "cell_type": "code",
      "source": [
        "print(NYC_data.nunique())"
      ],
      "metadata": {
        "colab": {
          "base_uri": "https://localhost:8080/"
        },
        "id": "qBBhZ6NPydV7",
        "outputId": "7aca2cca-801f-432b-932e-52a9e14f92fd"
      },
      "execution_count": null,
      "outputs": [
        {
          "output_type": "stream",
          "name": "stdout",
          "text": [
            "Unnamed: 0    8405\n",
            "Degrees        397\n",
            "Time          4700\n",
            "Speed         5172\n",
            "Energycons    6960\n",
            "EProp         5429\n",
            "E_Aux            2\n",
            "HVAC            26\n",
            "Power         6224\n",
            "Regen         2038\n",
            "SoC           4299\n",
            "driveCycle       1\n",
            "city            10\n",
            "weather          2\n",
            "dtype: int64\n"
          ]
        }
      ]
    },
    {
      "cell_type": "code",
      "source": [
        "UDDS_data.to_csv(\"UDDS\")\n",
        "Manh_data.to_csv(\"Manhattan\")\n",
        "NYB_data.to_csv(\"NewYorkBus\")\n",
        "Oran_data.to_csv(\"OrangeCountry\")\n",
        "NYC_data.to_csv(\"NewYorkComp\")\n",
        "CBD_data.to_csv(\"CBD\")\n"
      ],
      "metadata": {
        "id": "8m5X_SVYHwyo"
      },
      "execution_count": null,
      "outputs": []
    }
  ],
  "metadata": {
    "colab": {
      "provenance": []
    },
    "kernelspec": {
      "display_name": "Python 3 (ipykernel)",
      "language": "python",
      "name": "python3"
    },
    "language_info": {
      "codemirror_mode": {
        "name": "ipython",
        "version": 3
      },
      "file_extension": ".py",
      "mimetype": "text/x-python",
      "name": "python",
      "nbconvert_exporter": "python",
      "pygments_lexer": "ipython3",
      "version": "3.9.7"
    }
  },
  "nbformat": 4,
  "nbformat_minor": 0
}