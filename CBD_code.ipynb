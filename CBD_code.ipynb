{
  "nbformat": 4,
  "nbformat_minor": 0,
  "metadata": {
    "colab": {
      "provenance": [],
      "collapsed_sections": [
        "pd8bq6Ugl_B5",
        "JgZ4MyLErW4Q",
        "G7yeVihpuFYr",
        "OxaoTUkPwip4"
      ]
    },
    "kernelspec": {
      "name": "python3",
      "display_name": "Python 3"
    },
    "language_info": {
      "name": "python"
    }
  },
  "cells": [
    {
      "cell_type": "markdown",
      "source": [
        "# **Data Loading**"
      ],
      "metadata": {
        "id": "iDkBVr3twiOc"
      }
    },
    {
      "cell_type": "code",
      "execution_count": 1,
      "metadata": {
        "id": "cMVXx_75rCQU"
      },
      "outputs": [],
      "source": [
        "import pandas as pd\n",
        "import argparse\n",
        "from typing import Dict, Tuple, List\n",
        "\n",
        "import numpy as np\n",
        "from matplotlib import pyplot as plt\n",
        "import seaborn as sns\n"
      ]
    },
    {
      "cell_type": "code",
      "source": [
        "from google.colab import drive\n",
        "drive.mount('/content/drive')"
      ],
      "metadata": {
        "colab": {
          "base_uri": "https://localhost:8080/"
        },
        "id": "XW5DaY1MgNTN",
        "outputId": "be4ac763-a947-4c21-f439-d7b8f3250eb0"
      },
      "execution_count": 2,
      "outputs": [
        {
          "output_type": "stream",
          "name": "stdout",
          "text": [
            "Drive already mounted at /content/drive; to attempt to forcibly remount, call drive.mount(\"/content/drive\", force_remount=True).\n"
          ]
        }
      ]
    },
    {
      "cell_type": "code",
      "source": [
        "CBD_data = pd.read_csv(\"/content/drive/MyDrive/ReVolt code/CBD\")\n",
        "CBD_data.head()"
      ],
      "metadata": {
        "colab": {
          "base_uri": "https://localhost:8080/",
          "height": 206
        },
        "id": "5HyWzJM7rMCu",
        "outputId": "cd35c16a-ba38-4a38-a5da-78b010d16244"
      },
      "execution_count": 3,
      "outputs": [
        {
          "output_type": "execute_result",
          "data": {
            "text/plain": [
              "   Unnamed: 0  Unnamed: 0.1  Degrees          Time         Speed  \\\n",
              "0       38487         38487      0.0  0.000000e+00  0.000000e+00   \n",
              "1       38488         38488     20.0  5.329100e-15  4.764600e-15   \n",
              "2       38489         38489     20.1  2.011700e-07  1.798600e-07   \n",
              "3       38490         38490     20.2  2.880000e-02  2.574900e-02   \n",
              "4       38491         38491      0.1  6.711200e+00  6.000300e+00   \n",
              "\n",
              "     Energycons         EProp  E_Aux    HVAC   Power  Regen      SoC  \\\n",
              "0           NaN  0.000000e+00   5.35  5.2501  10.600    0.0  100.000   \n",
              "1  3.008500e+14  2.940200e-13   5.26  5.2500  10.510    0.0  100.000   \n",
              "2  2.798700e+10  1.109900e-05   5.26  5.2500  10.510    0.0  100.000   \n",
              "3  2.439000e+05  1.589000e+00   5.26  5.2500  12.099    0.0  100.000   \n",
              "4  1.812200e+04  8.359500e+01   5.26  5.2500  94.105    0.0   99.877   \n",
              "\n",
              "  driveCycle      city weather  \n",
              "0        CBD  Portland  Summer  \n",
              "1        CBD  Portland  Summer  \n",
              "2        CBD  Portland  Summer  \n",
              "3        CBD  Portland  Summer  \n",
              "4        CBD  Portland  Summer  "
            ],
            "text/html": [
              "\n",
              "  <div id=\"df-22078116-1c9f-46cd-9fac-543e5fbc40d3\">\n",
              "    <div class=\"colab-df-container\">\n",
              "      <div>\n",
              "<style scoped>\n",
              "    .dataframe tbody tr th:only-of-type {\n",
              "        vertical-align: middle;\n",
              "    }\n",
              "\n",
              "    .dataframe tbody tr th {\n",
              "        vertical-align: top;\n",
              "    }\n",
              "\n",
              "    .dataframe thead th {\n",
              "        text-align: right;\n",
              "    }\n",
              "</style>\n",
              "<table border=\"1\" class=\"dataframe\">\n",
              "  <thead>\n",
              "    <tr style=\"text-align: right;\">\n",
              "      <th></th>\n",
              "      <th>Unnamed: 0</th>\n",
              "      <th>Unnamed: 0.1</th>\n",
              "      <th>Degrees</th>\n",
              "      <th>Time</th>\n",
              "      <th>Speed</th>\n",
              "      <th>Energycons</th>\n",
              "      <th>EProp</th>\n",
              "      <th>E_Aux</th>\n",
              "      <th>HVAC</th>\n",
              "      <th>Power</th>\n",
              "      <th>Regen</th>\n",
              "      <th>SoC</th>\n",
              "      <th>driveCycle</th>\n",
              "      <th>city</th>\n",
              "      <th>weather</th>\n",
              "    </tr>\n",
              "  </thead>\n",
              "  <tbody>\n",
              "    <tr>\n",
              "      <th>0</th>\n",
              "      <td>38487</td>\n",
              "      <td>38487</td>\n",
              "      <td>0.0</td>\n",
              "      <td>0.000000e+00</td>\n",
              "      <td>0.000000e+00</td>\n",
              "      <td>NaN</td>\n",
              "      <td>0.000000e+00</td>\n",
              "      <td>5.35</td>\n",
              "      <td>5.2501</td>\n",
              "      <td>10.600</td>\n",
              "      <td>0.0</td>\n",
              "      <td>100.000</td>\n",
              "      <td>CBD</td>\n",
              "      <td>Portland</td>\n",
              "      <td>Summer</td>\n",
              "    </tr>\n",
              "    <tr>\n",
              "      <th>1</th>\n",
              "      <td>38488</td>\n",
              "      <td>38488</td>\n",
              "      <td>20.0</td>\n",
              "      <td>5.329100e-15</td>\n",
              "      <td>4.764600e-15</td>\n",
              "      <td>3.008500e+14</td>\n",
              "      <td>2.940200e-13</td>\n",
              "      <td>5.26</td>\n",
              "      <td>5.2500</td>\n",
              "      <td>10.510</td>\n",
              "      <td>0.0</td>\n",
              "      <td>100.000</td>\n",
              "      <td>CBD</td>\n",
              "      <td>Portland</td>\n",
              "      <td>Summer</td>\n",
              "    </tr>\n",
              "    <tr>\n",
              "      <th>2</th>\n",
              "      <td>38489</td>\n",
              "      <td>38489</td>\n",
              "      <td>20.1</td>\n",
              "      <td>2.011700e-07</td>\n",
              "      <td>1.798600e-07</td>\n",
              "      <td>2.798700e+10</td>\n",
              "      <td>1.109900e-05</td>\n",
              "      <td>5.26</td>\n",
              "      <td>5.2500</td>\n",
              "      <td>10.510</td>\n",
              "      <td>0.0</td>\n",
              "      <td>100.000</td>\n",
              "      <td>CBD</td>\n",
              "      <td>Portland</td>\n",
              "      <td>Summer</td>\n",
              "    </tr>\n",
              "    <tr>\n",
              "      <th>3</th>\n",
              "      <td>38490</td>\n",
              "      <td>38490</td>\n",
              "      <td>20.2</td>\n",
              "      <td>2.880000e-02</td>\n",
              "      <td>2.574900e-02</td>\n",
              "      <td>2.439000e+05</td>\n",
              "      <td>1.589000e+00</td>\n",
              "      <td>5.26</td>\n",
              "      <td>5.2500</td>\n",
              "      <td>12.099</td>\n",
              "      <td>0.0</td>\n",
              "      <td>100.000</td>\n",
              "      <td>CBD</td>\n",
              "      <td>Portland</td>\n",
              "      <td>Summer</td>\n",
              "    </tr>\n",
              "    <tr>\n",
              "      <th>4</th>\n",
              "      <td>38491</td>\n",
              "      <td>38491</td>\n",
              "      <td>0.1</td>\n",
              "      <td>6.711200e+00</td>\n",
              "      <td>6.000300e+00</td>\n",
              "      <td>1.812200e+04</td>\n",
              "      <td>8.359500e+01</td>\n",
              "      <td>5.26</td>\n",
              "      <td>5.2500</td>\n",
              "      <td>94.105</td>\n",
              "      <td>0.0</td>\n",
              "      <td>99.877</td>\n",
              "      <td>CBD</td>\n",
              "      <td>Portland</td>\n",
              "      <td>Summer</td>\n",
              "    </tr>\n",
              "  </tbody>\n",
              "</table>\n",
              "</div>\n",
              "      <button class=\"colab-df-convert\" onclick=\"convertToInteractive('df-22078116-1c9f-46cd-9fac-543e5fbc40d3')\"\n",
              "              title=\"Convert this dataframe to an interactive table.\"\n",
              "              style=\"display:none;\">\n",
              "        \n",
              "  <svg xmlns=\"http://www.w3.org/2000/svg\" height=\"24px\"viewBox=\"0 0 24 24\"\n",
              "       width=\"24px\">\n",
              "    <path d=\"M0 0h24v24H0V0z\" fill=\"none\"/>\n",
              "    <path d=\"M18.56 5.44l.94 2.06.94-2.06 2.06-.94-2.06-.94-.94-2.06-.94 2.06-2.06.94zm-11 1L8.5 8.5l.94-2.06 2.06-.94-2.06-.94L8.5 2.5l-.94 2.06-2.06.94zm10 10l.94 2.06.94-2.06 2.06-.94-2.06-.94-.94-2.06-.94 2.06-2.06.94z\"/><path d=\"M17.41 7.96l-1.37-1.37c-.4-.4-.92-.59-1.43-.59-.52 0-1.04.2-1.43.59L10.3 9.45l-7.72 7.72c-.78.78-.78 2.05 0 2.83L4 21.41c.39.39.9.59 1.41.59.51 0 1.02-.2 1.41-.59l7.78-7.78 2.81-2.81c.8-.78.8-2.07 0-2.86zM5.41 20L4 18.59l7.72-7.72 1.47 1.35L5.41 20z\"/>\n",
              "  </svg>\n",
              "      </button>\n",
              "      \n",
              "  <style>\n",
              "    .colab-df-container {\n",
              "      display:flex;\n",
              "      flex-wrap:wrap;\n",
              "      gap: 12px;\n",
              "    }\n",
              "\n",
              "    .colab-df-convert {\n",
              "      background-color: #E8F0FE;\n",
              "      border: none;\n",
              "      border-radius: 50%;\n",
              "      cursor: pointer;\n",
              "      display: none;\n",
              "      fill: #1967D2;\n",
              "      height: 32px;\n",
              "      padding: 0 0 0 0;\n",
              "      width: 32px;\n",
              "    }\n",
              "\n",
              "    .colab-df-convert:hover {\n",
              "      background-color: #E2EBFA;\n",
              "      box-shadow: 0px 1px 2px rgba(60, 64, 67, 0.3), 0px 1px 3px 1px rgba(60, 64, 67, 0.15);\n",
              "      fill: #174EA6;\n",
              "    }\n",
              "\n",
              "    [theme=dark] .colab-df-convert {\n",
              "      background-color: #3B4455;\n",
              "      fill: #D2E3FC;\n",
              "    }\n",
              "\n",
              "    [theme=dark] .colab-df-convert:hover {\n",
              "      background-color: #434B5C;\n",
              "      box-shadow: 0px 1px 3px 1px rgba(0, 0, 0, 0.15);\n",
              "      filter: drop-shadow(0px 1px 2px rgba(0, 0, 0, 0.3));\n",
              "      fill: #FFFFFF;\n",
              "    }\n",
              "  </style>\n",
              "\n",
              "      <script>\n",
              "        const buttonEl =\n",
              "          document.querySelector('#df-22078116-1c9f-46cd-9fac-543e5fbc40d3 button.colab-df-convert');\n",
              "        buttonEl.style.display =\n",
              "          google.colab.kernel.accessAllowed ? 'block' : 'none';\n",
              "\n",
              "        async function convertToInteractive(key) {\n",
              "          const element = document.querySelector('#df-22078116-1c9f-46cd-9fac-543e5fbc40d3');\n",
              "          const dataTable =\n",
              "            await google.colab.kernel.invokeFunction('convertToInteractive',\n",
              "                                                     [key], {});\n",
              "          if (!dataTable) return;\n",
              "\n",
              "          const docLinkHtml = 'Like what you see? Visit the ' +\n",
              "            '<a target=\"_blank\" href=https://colab.research.google.com/notebooks/data_table.ipynb>data table notebook</a>'\n",
              "            + ' to learn more about interactive tables.';\n",
              "          element.innerHTML = '';\n",
              "          dataTable['output_type'] = 'display_data';\n",
              "          await google.colab.output.renderOutput(dataTable, element);\n",
              "          const docLink = document.createElement('div');\n",
              "          docLink.innerHTML = docLinkHtml;\n",
              "          element.appendChild(docLink);\n",
              "        }\n",
              "      </script>\n",
              "    </div>\n",
              "  </div>\n",
              "  "
            ]
          },
          "metadata": {},
          "execution_count": 3
        }
      ]
    },
    {
      "cell_type": "code",
      "source": [
        "CBD_data.shape"
      ],
      "metadata": {
        "colab": {
          "base_uri": "https://localhost:8080/"
        },
        "id": "bgScmOJqtiHt",
        "outputId": "d1675552-e1dc-4f58-9510-32c7c025ec1f"
      },
      "execution_count": 4,
      "outputs": [
        {
          "output_type": "execute_result",
          "data": {
            "text/plain": [
              "(2245, 15)"
            ]
          },
          "metadata": {},
          "execution_count": 4
        }
      ]
    },
    {
      "cell_type": "markdown",
      "source": [
        "# **Data Cleaning**"
      ],
      "metadata": {
        "id": "IX8kmZbAwptu"
      }
    },
    {
      "cell_type": "markdown",
      "source": [
        "Let's add dummies for weather so it will give 0 for summer and 1 for winter, as it will be easier to segregate the data based on seasons for our analysis to compare and contrast."
      ],
      "metadata": {
        "id": "rO5nqUNIhdT2"
      }
    },
    {
      "cell_type": "code",
      "source": [
        "# Creating a dummy variable for the variable 'city' and dropping the first one.\n",
        "#city_dummy = pd.get_dummies(UDDS_data['city'],prefix='city',drop_first=False)\n",
        "#Adding the results to the master dataframe\n",
        "#UD_data = pd.concat([UDDS_data,city_dummy],axis=1)\n",
        "\n",
        "# Creating a dummy variable for the variable 'weather' and dropping the first one.\n",
        "weather_dummy = pd.get_dummies(CBD_data['weather'],prefix='weather',drop_first=True)\n",
        "#Adding the results to the master dataframe\n",
        "C_data = pd.concat([CBD_data,weather_dummy],axis=1)"
      ],
      "metadata": {
        "id": "gHTfW8Uxsh8o"
      },
      "execution_count": 5,
      "outputs": []
    },
    {
      "cell_type": "code",
      "source": [
        "C_data.columns"
      ],
      "metadata": {
        "colab": {
          "base_uri": "https://localhost:8080/"
        },
        "id": "IZ12wHadtgVu",
        "outputId": "2a2085d9-d7c2-4364-8812-80e2c561d849"
      },
      "execution_count": 6,
      "outputs": [
        {
          "output_type": "execute_result",
          "data": {
            "text/plain": [
              "Index(['Unnamed: 0', 'Unnamed: 0.1', 'Degrees', 'Time', 'Speed', 'Energycons',\n",
              "       'EProp', 'E_Aux', 'HVAC', 'Power', 'Regen', 'SoC', 'driveCycle', 'city',\n",
              "       'weather', 'weather_Winter'],\n",
              "      dtype='object')"
            ]
          },
          "metadata": {},
          "execution_count": 6
        }
      ]
    },
    {
      "cell_type": "markdown",
      "source": [
        "Removing drivecycle and weather columns as we have already reproduced our data in such a way that one file is related to one drive cycle and we have our dummy for weather."
      ],
      "metadata": {
        "id": "ys82B4s-iDPh"
      }
    },
    {
      "cell_type": "code",
      "source": [
        "C_data.drop(columns=['weather','driveCycle','Unnamed: 0','Unnamed: 0.1'],inplace=True)"
      ],
      "metadata": {
        "id": "wixthnI8rtS6"
      },
      "execution_count": 7,
      "outputs": []
    },
    {
      "cell_type": "code",
      "source": [
        "C_data.shape"
      ],
      "metadata": {
        "colab": {
          "base_uri": "https://localhost:8080/"
        },
        "id": "xJdTHHjIuVQL",
        "outputId": "119f24f8-65f2-4ea5-ebd7-5749223e94f6"
      },
      "execution_count": 8,
      "outputs": [
        {
          "output_type": "execute_result",
          "data": {
            "text/plain": [
              "(2245, 12)"
            ]
          },
          "metadata": {},
          "execution_count": 8
        }
      ]
    },
    {
      "cell_type": "markdown",
      "source": [
        "Check for any null values :"
      ],
      "metadata": {
        "id": "sgnfEmUeu92k"
      }
    },
    {
      "cell_type": "code",
      "source": [
        "C_nocity_data = C_data[['Degrees', 'Time', 'Speed', 'Energycons',\n",
        "       'EProp', 'E_Aux', 'HVAC', 'Power', 'Regen', 'SoC','weather_Winter']]\n",
        "df =C_nocity_data.columns.to_series()[np.isnan(C_nocity_data).any()]\n",
        "df1 =C_nocity_data.columns.to_series()[np.isinf(C_nocity_data).any()]\n",
        "print(df, df1)"
      ],
      "metadata": {
        "colab": {
          "base_uri": "https://localhost:8080/"
        },
        "id": "NIR-_Judu1ed",
        "outputId": "52cb9d97-79eb-400c-bd3a-6e79ec1124c5"
      },
      "execution_count": 9,
      "outputs": [
        {
          "output_type": "stream",
          "name": "stdout",
          "text": [
            "Energycons    Energycons\n",
            "dtype: object Series([], dtype: object)\n"
          ]
        }
      ]
    },
    {
      "cell_type": "markdown",
      "source": [
        "Energycons only have nan vakues here and no inf. \n",
        "We will check the percent of nan's existence in the data.\n"
      ],
      "metadata": {
        "id": "n1DkAvELa4JH"
      }
    },
    {
      "cell_type": "code",
      "source": [
        "100* C_data.isnull().sum() / C_data.shape[0]"
      ],
      "metadata": {
        "colab": {
          "base_uri": "https://localhost:8080/"
        },
        "id": "iW_utDKjbJch",
        "outputId": "2e9b3286-7d5a-4344-f1e2-2003e1bdc072"
      },
      "execution_count": 10,
      "outputs": [
        {
          "output_type": "execute_result",
          "data": {
            "text/plain": [
              "Degrees           0.000000\n",
              "Time              0.000000\n",
              "Speed             0.000000\n",
              "Energycons        0.890869\n",
              "EProp             0.000000\n",
              "E_Aux             0.000000\n",
              "HVAC              0.000000\n",
              "Power             0.000000\n",
              "Regen             0.000000\n",
              "SoC               0.000000\n",
              "city              0.000000\n",
              "weather_Winter    0.000000\n",
              "dtype: float64"
            ]
          },
          "metadata": {},
          "execution_count": 10
        }
      ]
    },
    {
      "cell_type": "markdown",
      "source": [
        "Energycons consists of 0.8% data of nan values, when combined with 10 cities, so per city with a particular season, removing those values might effect the regression analysis. Hence let's just replace nan values with 0 and continue with the analysis.\n",
        "\n"
      ],
      "metadata": {
        "id": "weuuIfljvJgc"
      }
    },
    {
      "cell_type": "code",
      "source": [
        "C_data.fillna(0,inplace = True)"
      ],
      "metadata": {
        "id": "KTZrBB0Iu1hO"
      },
      "execution_count": 11,
      "outputs": []
    },
    {
      "cell_type": "code",
      "source": [
        "C_data.shape"
      ],
      "metadata": {
        "colab": {
          "base_uri": "https://localhost:8080/"
        },
        "id": "9X-_894avfav",
        "outputId": "e62c2675-2811-4500-de34-0ce6f60caade"
      },
      "execution_count": 12,
      "outputs": [
        {
          "output_type": "execute_result",
          "data": {
            "text/plain": [
              "(2245, 12)"
            ]
          },
          "metadata": {},
          "execution_count": 12
        }
      ]
    },
    {
      "cell_type": "code",
      "source": [
        "C_data.to_csv(\"CBD_final.csv\")"
      ],
      "metadata": {
        "id": "7AMURILawUws"
      },
      "execution_count": 13,
      "outputs": []
    },
    {
      "cell_type": "markdown",
      "source": [
        "The resulting data set has been given the name CBD_final.csv"
      ],
      "metadata": {
        "id": "LzvBFCAjwejs"
      }
    },
    {
      "cell_type": "markdown",
      "source": [
        "# **Data Understanding**"
      ],
      "metadata": {
        "id": "kX0y2gzf-8QK"
      }
    },
    {
      "cell_type": "markdown",
      "source": [
        "Let's check how dependent are the variables on each other using correlation."
      ],
      "metadata": {
        "id": "JhLiHgBQ_DGj"
      }
    },
    {
      "cell_type": "code",
      "source": [
        "#plotting the heatmap for correlation\n",
        "hm = sns.heatmap(C_data.corr(), annot=True)"
      ],
      "metadata": {
        "id": "9Gi-74Jy_NnF",
        "colab": {
          "base_uri": "https://localhost:8080/",
          "height": 338
        },
        "outputId": "d0be5575-ef79-4de5-95e5-953c729ad792"
      },
      "execution_count": 14,
      "outputs": [
        {
          "output_type": "display_data",
          "data": {
            "text/plain": [
              "<Figure size 432x288 with 2 Axes>"
            ],
            "image/png": "[encoded data removed]"
          },
          "metadata": {
            "needs_background": "light"
          }
        }
      ]
    },
    {
      "cell_type": "markdown",
      "source": [
        "The heatmap suggest that power is dependent on Eprop stronger than that of how it is dependent on degrees. We can predict that this can be because the power is the summation of  E-prop,E-Aux & HVAC. \n",
        "In this case, EProp and Power are both are less deperendent on degrees when compared to the strength of dependency as that of power and Eprop."
      ],
      "metadata": {
        "id": "FK4LhHiDGe0t"
      }
    },
    {
      "cell_type": "markdown",
      "source": [
        "# **Data Modeling**"
      ],
      "metadata": {
        "id": "9tvH6CQnwzr_"
      }
    },
    {
      "cell_type": "markdown",
      "source": [
        "Converting the data into Predictor and response sets. Where, the data in X, is used to regress on and the data is y is the dependent varibles and are true output varibles."
      ],
      "metadata": {
        "id": "UtKDyV7WyvAR"
      }
    },
    {
      "cell_type": "code",
      "source": [
        "from sklearn.linear_model import LinearRegression\n",
        "from sklearn.multioutput import MultiOutputRegressor\n",
        "from sklearn.neighbors import KNeighborsRegressor\n",
        "from sklearn.ensemble import RandomForestRegressor\n",
        "from sklearn.svm import LinearSVR\n",
        "\n",
        "from sklearn.metrics import mean_absolute_error, mean_absolute_percentage_error, mean_squared_error, r2_score\n",
        "import xgboost as xgb\n",
        "from sklearn.preprocessing import MinMaxScaler\n",
        "\n",
        "from pandas.core.base import NoNewAttributesMixin\n"
      ],
      "metadata": {
        "id": "udhndHnhzOMc"
      },
      "execution_count": 15,
      "outputs": []
    },
    {
      "cell_type": "code",
      "source": [
        "print(C_data['weather_Winter'].unique())"
      ],
      "metadata": {
        "id": "QN-9Tj7CE4Dj",
        "colab": {
          "base_uri": "https://localhost:8080/"
        },
        "outputId": "afc07114-bbbd-4342-d8de-25136375be77"
      },
      "execution_count": 16,
      "outputs": [
        {
          "output_type": "stream",
          "name": "stdout",
          "text": [
            "[0 1]\n"
          ]
        }
      ]
    },
    {
      "cell_type": "markdown",
      "source": [
        "splitting data into winter and summer as per seasons respectively"
      ],
      "metadata": {
        "id": "n9fOFmqCmiLI"
      }
    },
    {
      "cell_type": "code",
      "source": [
        "C= C_data.groupby('weather_Winter')\n",
        "C_winter = C.get_group(C_data['weather_Winter'].unique()[1])\n",
        "C_summer = C.get_group(C_data['weather_Winter'].unique()[0])"
      ],
      "metadata": {
        "id": "43xvOgyAAVGZ"
      },
      "execution_count": 17,
      "outputs": []
    },
    {
      "cell_type": "markdown",
      "source": [
        "Train and test split for winter:"
      ],
      "metadata": {
        "id": "imO7GNRkmeDi"
      }
    },
    {
      "cell_type": "code",
      "source": [
        "\n",
        "new_C_winter = C_winter\n",
        "\n",
        "CX_winter = new_C_winter[['Degrees', 'Time', 'Speed','weather_Winter']]\n",
        "\n",
        "\n",
        "CY_winter = new_C_winter[['Energycons', 'EProp', 'E_Aux', 'HVAC',\n",
        "       'Regen', 'SoC']]\n",
        "\n"
      ],
      "metadata": {
        "id": "cLXeZEUgzSmz"
      },
      "execution_count": 18,
      "outputs": []
    },
    {
      "cell_type": "markdown",
      "source": [
        "Train and test data for summer: "
      ],
      "metadata": {
        "id": "1uh7YjygmalC"
      }
    },
    {
      "cell_type": "code",
      "source": [
        "new_C_summer = C_summer\n",
        "\n",
        "CX_summer = new_C_summer[['Degrees', 'Time', 'Speed','weather_Winter']]\n",
        "\n",
        "\n",
        "CY_summer = new_C_summer[['Energycons', 'EProp', 'E_Aux', 'HVAC',\n",
        "       'Regen', 'SoC']]"
      ],
      "metadata": {
        "id": "6o4SZf8ofcC0"
      },
      "execution_count": 19,
      "outputs": []
    },
    {
      "cell_type": "markdown",
      "source": [
        "# Linear Regression For MultiTarget Regression:\n",
        "Applying Linear Regression model and checking the if the prediction is accurate."
      ],
      "metadata": {
        "id": "oSaTFs_FJ43c"
      }
    },
    {
      "cell_type": "markdown",
      "source": [
        "### linear regression for winter of all the cities"
      ],
      "metadata": {
        "id": "nIqX9EkulyTN"
      }
    },
    {
      "cell_type": "code",
      "source": [
        "C_winter_linearmodel = LinearRegression()\n",
        "# fit model\n",
        "C_winter_linearmodel.fit(CX_winter, CY_winter)"
      ],
      "metadata": {
        "id": "42gWohd-J3tZ",
        "colab": {
          "base_uri": "https://localhost:8080/"
        },
        "outputId": "4c40074e-e7a8-4e27-e51c-6ac2e3d8dff7"
      },
      "execution_count": 20,
      "outputs": [
        {
          "output_type": "execute_result",
          "data": {
            "text/plain": [
              "LinearRegression()"
            ]
          },
          "metadata": {},
          "execution_count": 20
        }
      ]
    },
    {
      "cell_type": "code",
      "source": [
        "CY_winter_pred = C_winter_linearmodel.predict(CX_winter)\n",
        "r2_score( np.array(CY_winter), CY_winter_pred,multioutput='uniform_average')"
      ],
      "metadata": {
        "id": "oboXCb8aJ-zd",
        "colab": {
          "base_uri": "https://localhost:8080/"
        },
        "outputId": "57b87958-9e63-4a5a-9cac-d62cfe8e39d1"
      },
      "execution_count": 21,
      "outputs": [
        {
          "output_type": "execute_result",
          "data": {
            "text/plain": [
              "0.34014989692967385"
            ]
          },
          "metadata": {},
          "execution_count": 21
        }
      ]
    },
    {
      "cell_type": "code",
      "source": [
        "mean_absolute_error( CY_winter, CY_winter_pred)"
      ],
      "metadata": {
        "colab": {
          "base_uri": "https://localhost:8080/"
        },
        "id": "lCOueOqClBxB",
        "outputId": "de5a7f19-9def-46a0-f616-3ef0b270069c"
      },
      "execution_count": 22,
      "outputs": [
        {
          "output_type": "execute_result",
          "data": {
            "text/plain": [
              "6896984.533048044"
            ]
          },
          "metadata": {},
          "execution_count": 22
        }
      ]
    },
    {
      "cell_type": "code",
      "source": [
        "mean_absolute_percentage_error( CY_winter, CY_winter_pred)"
      ],
      "metadata": {
        "colab": {
          "base_uri": "https://localhost:8080/"
        },
        "id": "AykQXlhDlCoy",
        "outputId": "f97920f1-bb18-4eaa-ca3a-c0c83dc8aa8c"
      },
      "execution_count": 23,
      "outputs": [
        {
          "output_type": "execute_result",
          "data": {
            "text/plain": [
              "3.610946430045551e+20"
            ]
          },
          "metadata": {},
          "execution_count": 23
        }
      ]
    },
    {
      "cell_type": "code",
      "source": [
        "mean_squared_error( CY_winter, CY_winter_pred)"
      ],
      "metadata": {
        "colab": {
          "base_uri": "https://localhost:8080/"
        },
        "id": "lkTBVFewlC_f",
        "outputId": "ead9d4d0-5f84-49c7-a5b8-fa65f420d554"
      },
      "execution_count": 24,
      "outputs": [
        {
          "output_type": "execute_result",
          "data": {
            "text/plain": [
              "1.1421166385536116e+16"
            ]
          },
          "metadata": {},
          "execution_count": 24
        }
      ]
    },
    {
      "cell_type": "markdown",
      "source": [
        "### Scaling and plotting for linear regression (winter)"
      ],
      "metadata": {
        "id": "l-DsYt2c-dm-"
      }
    },
    {
      "cell_type": "markdown",
      "source": [
        "As the values are too large, plotting our regression will become more difficult, therefore we will need to scale our values down."
      ],
      "metadata": {
        "id": "oR665gt17536"
      }
    },
    {
      "cell_type": "code",
      "source": [
        "scaler = MinMaxScaler() ##initialize the minmax scaler from sklearn\n",
        "CY_winter = scaler.fit_transform(CY_winter) ## fit transform on train data\n",
        "CY_winter_pred = scaler.fit_transform(CY_winter_pred)\n"
      ],
      "metadata": {
        "id": "Btv5sV_Q7KV-"
      },
      "execution_count": 25,
      "outputs": []
    },
    {
      "cell_type": "code",
      "source": [
        "#plt.plot(UDY_winter, UDY_winter_pred, color=\"b\")\n",
        "\n",
        "ax1 = sns.distplot(CY_winter, color=\"r\", label=\"Actual Value\")\n",
        "sns.distplot(CY_winter_pred, color=\"b\", label=\"Fitted Values\" , ax=ax1)"
      ],
      "metadata": {
        "colab": {
          "base_uri": "https://localhost:8080/",
          "height": 372
        },
        "id": "P35lPbzn4KYK",
        "outputId": "85e9d617-1405-40a4-e9c4-10fcc40df35c"
      },
      "execution_count": 26,
      "outputs": [
        {
          "output_type": "stream",
          "name": "stderr",
          "text": [
            "/usr/local/lib/python3.7/dist-packages/seaborn/distributions.py:2619: FutureWarning: `distplot` is a deprecated function and will be removed in a future version. Please adapt your code to use either `displot` (a figure-level function with similar flexibility) or `histplot` (an axes-level function for histograms).\n",
            "  warnings.warn(msg, FutureWarning)\n",
            "/usr/local/lib/python3.7/dist-packages/seaborn/distributions.py:2619: FutureWarning: `distplot` is a deprecated function and will be removed in a future version. Please adapt your code to use either `displot` (a figure-level function with similar flexibility) or `histplot` (an axes-level function for histograms).\n",
            "  warnings.warn(msg, FutureWarning)\n"
          ]
        },
        {
          "output_type": "execute_result",
          "data": {
            "text/plain": [
              "<matplotlib.axes._subplots.AxesSubplot at 0x7f1b26f21a10>"
            ]
          },
          "metadata": {},
          "execution_count": 26
        },
        {
          "output_type": "display_data",
          "data": {
            "text/plain": [
              "<Figure size 432x288 with 1 Axes>"
            ],
            "image/png": "[encoded data removed]"
          },
          "metadata": {
            "needs_background": "light"
          }
        }
      ]
    },
    {
      "cell_type": "markdown",
      "source": [
        "### linear regression for summer of all the cities"
      ],
      "metadata": {
        "id": "xvlsiGPyl6Nw"
      }
    },
    {
      "cell_type": "code",
      "source": [
        "C_summer_linearmodel = LinearRegression()\n",
        "# fit model\n",
        "C_summer_linearmodel.fit(CX_summer, CY_summer)"
      ],
      "metadata": {
        "colab": {
          "base_uri": "https://localhost:8080/"
        },
        "id": "JpBupWhxf1zM",
        "outputId": "bfff6171-6668-47e0-e4af-51df23b7ede4"
      },
      "execution_count": 27,
      "outputs": [
        {
          "output_type": "execute_result",
          "data": {
            "text/plain": [
              "LinearRegression()"
            ]
          },
          "metadata": {},
          "execution_count": 27
        }
      ]
    },
    {
      "cell_type": "code",
      "source": [
        "CY_summer_pred = C_summer_linearmodel.predict(CX_summer)\n",
        "r2_score( np.array(CY_summer), CY_summer_pred,multioutput='uniform_average')"
      ],
      "metadata": {
        "colab": {
          "base_uri": "https://localhost:8080/"
        },
        "id": "ewcv3cJHf-ac",
        "outputId": "00feb6c7-6501-40c4-9e1d-d001a15351f7"
      },
      "execution_count": 28,
      "outputs": [
        {
          "output_type": "execute_result",
          "data": {
            "text/plain": [
              "0.3553897271065511"
            ]
          },
          "metadata": {},
          "execution_count": 28
        }
      ]
    },
    {
      "cell_type": "code",
      "source": [
        "mean_absolute_error( CY_summer, CY_summer_pred)"
      ],
      "metadata": {
        "colab": {
          "base_uri": "https://localhost:8080/"
        },
        "id": "LtcMJRJslTSo",
        "outputId": "49031ae7-5e5b-4883-eea6-b149d6431571"
      },
      "execution_count": 29,
      "outputs": [
        {
          "output_type": "execute_result",
          "data": {
            "text/plain": [
              "139084538088.26678"
            ]
          },
          "metadata": {},
          "execution_count": 29
        }
      ]
    },
    {
      "cell_type": "code",
      "source": [
        "mean_absolute_percentage_error( CY_summer, CY_summer_pred)"
      ],
      "metadata": {
        "colab": {
          "base_uri": "https://localhost:8080/"
        },
        "id": "MtecUuzHlTWc",
        "outputId": "7bb8272a-fd6e-4ba5-e31d-cc10d951fca8"
      },
      "execution_count": 30,
      "outputs": [
        {
          "output_type": "execute_result",
          "data": {
            "text/plain": [
              "7.009632122906427e+24"
            ]
          },
          "metadata": {},
          "execution_count": 30
        }
      ]
    },
    {
      "cell_type": "code",
      "source": [
        "mean_squared_error( CY_summer, CY_summer_pred)"
      ],
      "metadata": {
        "colab": {
          "base_uri": "https://localhost:8080/"
        },
        "id": "4eXheUTulTfT",
        "outputId": "2b3e2fb8-89bd-42e7-dd83-b9489da80873"
      },
      "execution_count": 31,
      "outputs": [
        {
          "output_type": "execute_result",
          "data": {
            "text/plain": [
              "1.3451117741583427e+25"
            ]
          },
          "metadata": {},
          "execution_count": 31
        }
      ]
    },
    {
      "cell_type": "markdown",
      "source": [
        "###Scaling values and plotting: linear regression graph (summer)"
      ],
      "metadata": {
        "id": "jSpzdPw-8z9Q"
      }
    },
    {
      "cell_type": "code",
      "source": [
        "CY_summer = scaler.fit_transform(CY_summer) ## fit transform on train data\n",
        "CY_summer_pred = scaler.fit_transform(CY_summer_pred)"
      ],
      "metadata": {
        "id": "whCJTCLF8ylm"
      },
      "execution_count": 32,
      "outputs": []
    },
    {
      "cell_type": "code",
      "source": [
        "ax1 = sns.distplot(CY_summer, color=\"r\", label=\"Actual Value\")\n",
        "sns.distplot(CY_summer_pred, color=\"b\", label=\"Fitted Values\" , ax=ax1)"
      ],
      "metadata": {
        "colab": {
          "base_uri": "https://localhost:8080/",
          "height": 374
        },
        "id": "AzaTWZu09AXD",
        "outputId": "beaae00e-0c08-4c5b-88ac-f4b9cd7ac231"
      },
      "execution_count": 33,
      "outputs": [
        {
          "output_type": "stream",
          "name": "stderr",
          "text": [
            "/usr/local/lib/python3.7/dist-packages/seaborn/distributions.py:2619: FutureWarning: `distplot` is a deprecated function and will be removed in a future version. Please adapt your code to use either `displot` (a figure-level function with similar flexibility) or `histplot` (an axes-level function for histograms).\n",
            "  warnings.warn(msg, FutureWarning)\n",
            "/usr/local/lib/python3.7/dist-packages/seaborn/distributions.py:2619: FutureWarning: `distplot` is a deprecated function and will be removed in a future version. Please adapt your code to use either `displot` (a figure-level function with similar flexibility) or `histplot` (an axes-level function for histograms).\n",
            "  warnings.warn(msg, FutureWarning)\n"
          ]
        },
        {
          "output_type": "execute_result",
          "data": {
            "text/plain": [
              "<matplotlib.axes._subplots.AxesSubplot at 0x7f1b26e4ae90>"
            ]
          },
          "metadata": {},
          "execution_count": 33
        },
        {
          "output_type": "display_data",
          "data": {
            "text/plain": [
              "<Figure size 432x288 with 1 Axes>"
            ],
            "image/png": "[encoded data removed]"
          },
          "metadata": {
            "needs_background": "light"
          }
        }
      ]
    },
    {
      "cell_type": "markdown",
      "source": [
        "### Conclusion for linear regression :\n",
        "\n",
        "Clearly, linear regression is not an accurate model for both summer and winter data. My guess here is that the variables are not as dependent as they must be for a linear regression to work."
      ],
      "metadata": {
        "id": "pd8bq6Ugl_B5"
      }
    },
    {
      "cell_type": "markdown",
      "source": [
        "# **KNN for multioutput Regression**"
      ],
      "metadata": {
        "id": "ZtHcDLZmo90v"
      }
    },
    {
      "cell_type": "markdown",
      "source": [
        "### KNN for winter of all the cities"
      ],
      "metadata": {
        "id": "5R4glefFrKx6"
      }
    },
    {
      "cell_type": "code",
      "source": [
        "KNNmodel = KNeighborsRegressor()\n",
        "# fit model\n",
        "KNNmodel.fit(CX_winter, CY_winter)"
      ],
      "metadata": {
        "colab": {
          "base_uri": "https://localhost:8080/"
        },
        "id": "bm82RicJpFwg",
        "outputId": "9d5c0531-8510-43f4-e604-d586682d41a5"
      },
      "execution_count": 34,
      "outputs": [
        {
          "output_type": "execute_result",
          "data": {
            "text/plain": [
              "KNeighborsRegressor()"
            ]
          },
          "metadata": {},
          "execution_count": 34
        }
      ]
    },
    {
      "cell_type": "code",
      "source": [
        "C_winter_KNNY_pred = KNNmodel.predict(CX_winter)\n",
        "r2_score( np.array(CY_winter), C_winter_KNNY_pred,multioutput='uniform_average')"
      ],
      "metadata": {
        "colab": {
          "base_uri": "https://localhost:8080/"
        },
        "id": "EldBF_9fpK8i",
        "outputId": "d2575f7f-72db-472b-b063-0aa4b7658eb6"
      },
      "execution_count": 35,
      "outputs": [
        {
          "output_type": "execute_result",
          "data": {
            "text/plain": [
              "0.7237726080179353"
            ]
          },
          "metadata": {},
          "execution_count": 35
        }
      ]
    },
    {
      "cell_type": "code",
      "source": [
        "mean_absolute_error( CY_winter, C_winter_KNNY_pred)"
      ],
      "metadata": {
        "colab": {
          "base_uri": "https://localhost:8080/"
        },
        "id": "uXYM530apLHJ",
        "outputId": "894e0c8d-6daa-4853-d5f4-6602aae02d46"
      },
      "execution_count": 36,
      "outputs": [
        {
          "output_type": "execute_result",
          "data": {
            "text/plain": [
              "0.05210010658989225"
            ]
          },
          "metadata": {},
          "execution_count": 36
        }
      ]
    },
    {
      "cell_type": "code",
      "source": [
        "mean_absolute_percentage_error( CY_winter, C_winter_KNNY_pred)"
      ],
      "metadata": {
        "colab": {
          "base_uri": "https://localhost:8080/"
        },
        "id": "HJgvgo22pLJj",
        "outputId": "6e066e4c-0f72-434a-c269-340b6e885ced"
      },
      "execution_count": 37,
      "outputs": [
        {
          "output_type": "execute_result",
          "data": {
            "text/plain": [
              "23609315451173.78"
            ]
          },
          "metadata": {},
          "execution_count": 37
        }
      ]
    },
    {
      "cell_type": "code",
      "source": [
        "mean_squared_error( CY_winter, C_winter_KNNY_pred)"
      ],
      "metadata": {
        "colab": {
          "base_uri": "https://localhost:8080/"
        },
        "id": "pRlWX_e4pLMf",
        "outputId": "70ef994d-7f15-472a-81e5-e44a92d3047e"
      },
      "execution_count": 38,
      "outputs": [
        {
          "output_type": "execute_result",
          "data": {
            "text/plain": [
              "0.016628517329706275"
            ]
          },
          "metadata": {},
          "execution_count": 38
        }
      ]
    },
    {
      "cell_type": "markdown",
      "source": [
        "### Scaling and plotting for KNN (winter)"
      ],
      "metadata": {
        "id": "Sfv8GK3M90X4"
      }
    },
    {
      "cell_type": "code",
      "source": [
        "C_winter_KNNY_pred = scaler.fit_transform(C_winter_KNNY_pred)"
      ],
      "metadata": {
        "id": "-DP1R6SA9Vgo"
      },
      "execution_count": 39,
      "outputs": []
    },
    {
      "cell_type": "code",
      "source": [
        "ax1 = sns.distplot(CY_winter, color=\"r\", label=\"Actual Value\")\n",
        "sns.distplot(C_winter_KNNY_pred, color=\"b\", label=\"Fitted Values\" , ax=ax1)"
      ],
      "metadata": {
        "colab": {
          "base_uri": "https://localhost:8080/",
          "height": 372
        },
        "id": "ZAoNqUE49Wx7",
        "outputId": "010235b9-2573-4564-d318-a0555c19a3f3"
      },
      "execution_count": 40,
      "outputs": [
        {
          "output_type": "stream",
          "name": "stderr",
          "text": [
            "/usr/local/lib/python3.7/dist-packages/seaborn/distributions.py:2619: FutureWarning: `distplot` is a deprecated function and will be removed in a future version. Please adapt your code to use either `displot` (a figure-level function with similar flexibility) or `histplot` (an axes-level function for histograms).\n",
            "  warnings.warn(msg, FutureWarning)\n",
            "/usr/local/lib/python3.7/dist-packages/seaborn/distributions.py:2619: FutureWarning: `distplot` is a deprecated function and will be removed in a future version. Please adapt your code to use either `displot` (a figure-level function with similar flexibility) or `histplot` (an axes-level function for histograms).\n",
            "  warnings.warn(msg, FutureWarning)\n"
          ]
        },
        {
          "output_type": "execute_result",
          "data": {
            "text/plain": [
              "<matplotlib.axes._subplots.AxesSubplot at 0x7f1b26dbfe90>"
            ]
          },
          "metadata": {},
          "execution_count": 40
        },
        {
          "output_type": "display_data",
          "data": {
            "text/plain": [
              "<Figure size 432x288 with 1 Axes>"
            ],
            "image/png": "[encoded data removed]"
          },
          "metadata": {
            "needs_background": "light"
          }
        }
      ]
    },
    {
      "cell_type": "markdown",
      "source": [
        "### KNN for summer of all the cities"
      ],
      "metadata": {
        "id": "CACBETNCrRlL"
      }
    },
    {
      "cell_type": "code",
      "source": [
        "# fit model\n",
        "KNNmodel.fit(CX_summer, CY_summer)"
      ],
      "metadata": {
        "colab": {
          "base_uri": "https://localhost:8080/"
        },
        "id": "06EnioK1qGcN",
        "outputId": "d62d1b38-f39c-4086-98c9-5760134c1740"
      },
      "execution_count": 41,
      "outputs": [
        {
          "output_type": "execute_result",
          "data": {
            "text/plain": [
              "KNeighborsRegressor()"
            ]
          },
          "metadata": {},
          "execution_count": 41
        }
      ]
    },
    {
      "cell_type": "code",
      "source": [
        "C_summer_KNNY_pred = KNNmodel.predict(CX_summer)\n",
        "r2_score( np.array(CY_summer), C_summer_KNNY_pred,multioutput='uniform_average')"
      ],
      "metadata": {
        "colab": {
          "base_uri": "https://localhost:8080/"
        },
        "id": "ZTKMqypNqGtf",
        "outputId": "f45232da-120e-4312-890f-4d01dedab0e4"
      },
      "execution_count": 42,
      "outputs": [
        {
          "output_type": "execute_result",
          "data": {
            "text/plain": [
              "0.6732611429051426"
            ]
          },
          "metadata": {},
          "execution_count": 42
        }
      ]
    },
    {
      "cell_type": "code",
      "source": [
        "mean_absolute_error( CY_summer, C_summer_KNNY_pred)"
      ],
      "metadata": {
        "colab": {
          "base_uri": "https://localhost:8080/"
        },
        "id": "NPBz4KjbqG19",
        "outputId": "25a3af5b-d899-42b5-d81f-779287e8505a"
      },
      "execution_count": 43,
      "outputs": [
        {
          "output_type": "execute_result",
          "data": {
            "text/plain": [
              "0.04091149262579149"
            ]
          },
          "metadata": {},
          "execution_count": 43
        }
      ]
    },
    {
      "cell_type": "code",
      "source": [
        "mean_absolute_percentage_error( CY_summer, C_summer_KNNY_pred)"
      ],
      "metadata": {
        "colab": {
          "base_uri": "https://localhost:8080/"
        },
        "id": "QnYgj3oiqG4b",
        "outputId": "2dbb57a5-6c40-4475-cd9f-d38df12995da"
      },
      "execution_count": 44,
      "outputs": [
        {
          "output_type": "execute_result",
          "data": {
            "text/plain": [
              "28037699710757.453"
            ]
          },
          "metadata": {},
          "execution_count": 44
        }
      ]
    },
    {
      "cell_type": "code",
      "source": [
        "mean_squared_error( CY_summer, C_summer_KNNY_pred)"
      ],
      "metadata": {
        "colab": {
          "base_uri": "https://localhost:8080/"
        },
        "id": "njuGH4pIqG8a",
        "outputId": "9ee6fb70-1eda-40b3-f87c-2b2253821e80"
      },
      "execution_count": 45,
      "outputs": [
        {
          "output_type": "execute_result",
          "data": {
            "text/plain": [
              "0.012876765619225015"
            ]
          },
          "metadata": {},
          "execution_count": 45
        }
      ]
    },
    {
      "cell_type": "markdown",
      "source": [
        "### Scaling and plotting for KNN (summer)"
      ],
      "metadata": {
        "id": "hR7C7JB--DTc"
      }
    },
    {
      "cell_type": "code",
      "source": [
        "C_summer_KNNY_pred = scaler.fit_transform(C_summer_KNNY_pred)"
      ],
      "metadata": {
        "id": "eqaWOQbA9aRJ"
      },
      "execution_count": 46,
      "outputs": []
    },
    {
      "cell_type": "code",
      "source": [
        "ax1 = sns.distplot(CY_summer, color=\"r\", label=\"Actual Value\")\n",
        "sns.distplot(C_summer_KNNY_pred, color=\"b\", label=\"Fitted Values\" , ax=ax1)"
      ],
      "metadata": {
        "colab": {
          "base_uri": "https://localhost:8080/",
          "height": 372
        },
        "id": "TYKpgsou9bVa",
        "outputId": "d33c1454-c7b9-481f-a74e-ffa826f5c96c"
      },
      "execution_count": 47,
      "outputs": [
        {
          "output_type": "stream",
          "name": "stderr",
          "text": [
            "/usr/local/lib/python3.7/dist-packages/seaborn/distributions.py:2619: FutureWarning: `distplot` is a deprecated function and will be removed in a future version. Please adapt your code to use either `displot` (a figure-level function with similar flexibility) or `histplot` (an axes-level function for histograms).\n",
            "  warnings.warn(msg, FutureWarning)\n",
            "/usr/local/lib/python3.7/dist-packages/seaborn/distributions.py:2619: FutureWarning: `distplot` is a deprecated function and will be removed in a future version. Please adapt your code to use either `displot` (a figure-level function with similar flexibility) or `histplot` (an axes-level function for histograms).\n",
            "  warnings.warn(msg, FutureWarning)\n"
          ]
        },
        {
          "output_type": "execute_result",
          "data": {
            "text/plain": [
              "<matplotlib.axes._subplots.AxesSubplot at 0x7f1b26c8b5d0>"
            ]
          },
          "metadata": {},
          "execution_count": 47
        },
        {
          "output_type": "display_data",
          "data": {
            "text/plain": [
              "<Figure size 432x288 with 1 Axes>"
            ],
            "image/png": "[encoded data removed]"
          },
          "metadata": {
            "needs_background": "light"
          }
        }
      ]
    },
    {
      "cell_type": "markdown",
      "source": [
        "### Conclusion for KNN :\n",
        "\n",
        "KNN seems to be a better model for both summer and winter data when compared to that of linear regression. But, it is not the best model as a single model as it's accuracy is only about 78%."
      ],
      "metadata": {
        "id": "JgZ4MyLErW4Q"
      }
    },
    {
      "cell_type": "markdown",
      "source": [
        "# **Random Forest for multioutput Regression**\n"
      ],
      "metadata": {
        "id": "dA3TW_Gtr3um"
      }
    },
    {
      "cell_type": "markdown",
      "source": [
        "### Random forest for winter of all the cities"
      ],
      "metadata": {
        "id": "38REkVzFr92t"
      }
    },
    {
      "cell_type": "code",
      "source": [
        "RFmodel = RandomForestRegressor()\n",
        "# fit model\n",
        "RFmodel.fit(CX_winter, CY_winter)"
      ],
      "metadata": {
        "colab": {
          "base_uri": "https://localhost:8080/"
        },
        "id": "5n2KI7dFsBUR",
        "outputId": "48c4f84c-243e-4f32-d849-2fc55671e7f5"
      },
      "execution_count": 48,
      "outputs": [
        {
          "output_type": "execute_result",
          "data": {
            "text/plain": [
              "RandomForestRegressor()"
            ]
          },
          "metadata": {},
          "execution_count": 48
        }
      ]
    },
    {
      "cell_type": "code",
      "source": [
        "C_winter_RFY_pred = RFmodel.predict(CX_winter)\n",
        "r2_score( np.array(CY_winter), C_winter_RFY_pred,multioutput='uniform_average')"
      ],
      "metadata": {
        "colab": {
          "base_uri": "https://localhost:8080/"
        },
        "id": "d8UA2hVEsBWz",
        "outputId": "e996b7ae-a07f-49fe-9c92-335d63025db7"
      },
      "execution_count": 49,
      "outputs": [
        {
          "output_type": "execute_result",
          "data": {
            "text/plain": [
              "0.9277901934797098"
            ]
          },
          "metadata": {},
          "execution_count": 49
        }
      ]
    },
    {
      "cell_type": "code",
      "source": [
        "mean_absolute_error( CY_winter, C_winter_RFY_pred)"
      ],
      "metadata": {
        "colab": {
          "base_uri": "https://localhost:8080/"
        },
        "id": "oYr46dXbsBaM",
        "outputId": "decba895-3b6b-4aa5-bbec-a38f2001999f"
      },
      "execution_count": 50,
      "outputs": [
        {
          "output_type": "execute_result",
          "data": {
            "text/plain": [
              "0.023093972413246854"
            ]
          },
          "metadata": {},
          "execution_count": 50
        }
      ]
    },
    {
      "cell_type": "code",
      "source": [
        "mean_absolute_percentage_error( CY_winter, C_winter_RFY_pred)"
      ],
      "metadata": {
        "colab": {
          "base_uri": "https://localhost:8080/"
        },
        "id": "KuZphopAsBlY",
        "outputId": "cd324a1a-ba34-45bf-d9d9-752e74329e13"
      },
      "execution_count": 51,
      "outputs": [
        {
          "output_type": "execute_result",
          "data": {
            "text/plain": [
              "6464038055230.042"
            ]
          },
          "metadata": {},
          "execution_count": 51
        }
      ]
    },
    {
      "cell_type": "code",
      "source": [
        "mean_squared_error( CY_winter, C_winter_RFY_pred)"
      ],
      "metadata": {
        "colab": {
          "base_uri": "https://localhost:8080/"
        },
        "id": "SOx9fe0msB24",
        "outputId": "595b7d58-8edf-41c3-c849-775b2bba5fdd"
      },
      "execution_count": 52,
      "outputs": [
        {
          "output_type": "execute_result",
          "data": {
            "text/plain": [
              "0.0038703225902806397"
            ]
          },
          "metadata": {},
          "execution_count": 52
        }
      ]
    },
    {
      "cell_type": "markdown",
      "source": [
        "### Scaling and plotting for Random forest (winter)"
      ],
      "metadata": {
        "id": "AmobSUlr-8z3"
      }
    },
    {
      "cell_type": "code",
      "source": [
        "C_winter_RFY_pred = scaler.fit_transform(C_winter_RFY_pred)"
      ],
      "metadata": {
        "id": "TLE0S0Vi-7YF"
      },
      "execution_count": 53,
      "outputs": []
    },
    {
      "cell_type": "code",
      "source": [
        "ax1 = sns.distplot(CY_winter, color=\"r\", label=\"Actual Value\")\n",
        "sns.distplot(C_winter_RFY_pred, color=\"b\", label=\"Fitted Values\" , ax=ax1)"
      ],
      "metadata": {
        "colab": {
          "base_uri": "https://localhost:8080/",
          "height": 372
        },
        "id": "KEU3CbXY-8Ho",
        "outputId": "a0e52d40-d995-4d88-ac1f-13e602f5f4d7"
      },
      "execution_count": 54,
      "outputs": [
        {
          "output_type": "stream",
          "name": "stderr",
          "text": [
            "/usr/local/lib/python3.7/dist-packages/seaborn/distributions.py:2619: FutureWarning: `distplot` is a deprecated function and will be removed in a future version. Please adapt your code to use either `displot` (a figure-level function with similar flexibility) or `histplot` (an axes-level function for histograms).\n",
            "  warnings.warn(msg, FutureWarning)\n",
            "/usr/local/lib/python3.7/dist-packages/seaborn/distributions.py:2619: FutureWarning: `distplot` is a deprecated function and will be removed in a future version. Please adapt your code to use either `displot` (a figure-level function with similar flexibility) or `histplot` (an axes-level function for histograms).\n",
            "  warnings.warn(msg, FutureWarning)\n"
          ]
        },
        {
          "output_type": "execute_result",
          "data": {
            "text/plain": [
              "<matplotlib.axes._subplots.AxesSubplot at 0x7f1b26e077d0>"
            ]
          },
          "metadata": {},
          "execution_count": 54
        },
        {
          "output_type": "display_data",
          "data": {
            "text/plain": [
              "<Figure size 432x288 with 1 Axes>"
            ],
            "image/png": "[encoded data removed]"
          },
          "metadata": {
            "needs_background": "light"
          }
        }
      ]
    },
    {
      "cell_type": "markdown",
      "source": [
        "### Random forest for summer of all the cities"
      ],
      "metadata": {
        "id": "fA6WNd8CsGYL"
      }
    },
    {
      "cell_type": "code",
      "source": [
        "RFmodel.fit(CX_summer, CY_summer)"
      ],
      "metadata": {
        "colab": {
          "base_uri": "https://localhost:8080/"
        },
        "id": "-bSGFHq0sB42",
        "outputId": "576f3804-a303-4b96-b2b5-437c164d0a53"
      },
      "execution_count": 55,
      "outputs": [
        {
          "output_type": "execute_result",
          "data": {
            "text/plain": [
              "RandomForestRegressor()"
            ]
          },
          "metadata": {},
          "execution_count": 55
        }
      ]
    },
    {
      "cell_type": "code",
      "source": [
        "C_summer_RFY_pred = RFmodel.predict(CX_summer)\n",
        "r2_score( np.array(CY_summer), C_summer_RFY_pred,multioutput='uniform_average')"
      ],
      "metadata": {
        "colab": {
          "base_uri": "https://localhost:8080/"
        },
        "id": "t72BbtsksB75",
        "outputId": "f8e9b0b4-4674-49f5-910b-6d6efce527c0"
      },
      "execution_count": 56,
      "outputs": [
        {
          "output_type": "execute_result",
          "data": {
            "text/plain": [
              "0.911142421027903"
            ]
          },
          "metadata": {},
          "execution_count": 56
        }
      ]
    },
    {
      "cell_type": "code",
      "source": [
        "mean_absolute_error( CY_summer, C_summer_RFY_pred)"
      ],
      "metadata": {
        "colab": {
          "base_uri": "https://localhost:8080/"
        },
        "id": "Kmgif-rPsB_E",
        "outputId": "727e33a0-836b-463a-cf6b-aae9506ff2f3"
      },
      "execution_count": 57,
      "outputs": [
        {
          "output_type": "execute_result",
          "data": {
            "text/plain": [
              "0.017331525450183075"
            ]
          },
          "metadata": {},
          "execution_count": 57
        }
      ]
    },
    {
      "cell_type": "code",
      "source": [
        "mean_absolute_percentage_error( CY_summer, C_summer_RFY_pred)\n"
      ],
      "metadata": {
        "colab": {
          "base_uri": "https://localhost:8080/"
        },
        "id": "dIZJBC1mssH5",
        "outputId": "577cd13d-bb90-4cf4-953c-c73b39a37eed"
      },
      "execution_count": 58,
      "outputs": [
        {
          "output_type": "execute_result",
          "data": {
            "text/plain": [
              "10198820775081.674"
            ]
          },
          "metadata": {},
          "execution_count": 58
        }
      ]
    },
    {
      "cell_type": "code",
      "source": [
        "mean_squared_error( CY_summer, C_summer_RFY_pred)"
      ],
      "metadata": {
        "colab": {
          "base_uri": "https://localhost:8080/"
        },
        "id": "gTcL1fakssKt",
        "outputId": "bec827c1-a896-4aeb-9695-379eee4d9ea0"
      },
      "execution_count": 59,
      "outputs": [
        {
          "output_type": "execute_result",
          "data": {
            "text/plain": [
              "0.002962833873798228"
            ]
          },
          "metadata": {},
          "execution_count": 59
        }
      ]
    },
    {
      "cell_type": "markdown",
      "source": [
        "### Scaling and plotting for Random forest (summer)"
      ],
      "metadata": {
        "id": "D15vJrBi_UBH"
      }
    },
    {
      "cell_type": "code",
      "source": [
        "C_summer_RFY_pred = scaler.fit_transform(C_summer_RFY_pred)"
      ],
      "metadata": {
        "id": "VaVjiAmv_Tp2"
      },
      "execution_count": 60,
      "outputs": []
    },
    {
      "cell_type": "code",
      "source": [
        "ax1 = sns.distplot(CY_summer, color=\"r\", label=\"Actual Value\")\n",
        "sns.distplot(C_summer_RFY_pred, color=\"b\", label=\"Fitted Values\" , ax=ax1)"
      ],
      "metadata": {
        "colab": {
          "base_uri": "https://localhost:8080/",
          "height": 374
        },
        "id": "_Op97Z2A_TV3",
        "outputId": "826873ac-2367-4174-ad99-74efb96b2d69"
      },
      "execution_count": 61,
      "outputs": [
        {
          "output_type": "stream",
          "name": "stderr",
          "text": [
            "/usr/local/lib/python3.7/dist-packages/seaborn/distributions.py:2619: FutureWarning: `distplot` is a deprecated function and will be removed in a future version. Please adapt your code to use either `displot` (a figure-level function with similar flexibility) or `histplot` (an axes-level function for histograms).\n",
            "  warnings.warn(msg, FutureWarning)\n",
            "/usr/local/lib/python3.7/dist-packages/seaborn/distributions.py:2619: FutureWarning: `distplot` is a deprecated function and will be removed in a future version. Please adapt your code to use either `displot` (a figure-level function with similar flexibility) or `histplot` (an axes-level function for histograms).\n",
            "  warnings.warn(msg, FutureWarning)\n"
          ]
        },
        {
          "output_type": "execute_result",
          "data": {
            "text/plain": [
              "<matplotlib.axes._subplots.AxesSubplot at 0x7f1b26af80d0>"
            ]
          },
          "metadata": {},
          "execution_count": 61
        },
        {
          "output_type": "display_data",
          "data": {
            "text/plain": [
              "<Figure size 432x288 with 1 Axes>"
            ],
            "image/png": "[encoded data removed]"
          },
          "metadata": {
            "needs_background": "light"
          }
        }
      ]
    },
    {
      "cell_type": "markdown",
      "source": [
        "### Conclusion for KNN :\n",
        "Random forest seems to be the best model for the data with 95% accuracy and the graph shows how accurate the predicted values are to that of actual values."
      ],
      "metadata": {
        "id": "G7yeVihpuFYr"
      }
    },
    {
      "cell_type": "markdown",
      "source": [
        "# **MultiOutput Regression using XGBoost:**"
      ],
      "metadata": {
        "id": "hK2kTNlWurcZ"
      }
    },
    {
      "cell_type": "markdown",
      "source": [
        "### XGBoost for winter of all the cities"
      ],
      "metadata": {
        "id": "H4Z8mL-ruyEd"
      }
    },
    {
      "cell_type": "code",
      "source": [
        "multioutputregressor = MultiOutputRegressor(xgb.XGBRegressor(objective='reg:linear')).fit(CX_winter, CY_winter)\n",
        "C_winter_XGBY_pred= multioutputregressor.predict(CX_winter)"
      ],
      "metadata": {
        "colab": {
          "base_uri": "https://localhost:8080/"
        },
        "id": "aTJuUrjSuqxK",
        "outputId": "034b6b15-c149-4f79-fa17-9e16c5e7556d"
      },
      "execution_count": 62,
      "outputs": [
        {
          "output_type": "stream",
          "name": "stdout",
          "text": [
            "[02:13:48] WARNING: /workspace/src/objective/regression_obj.cu:152: reg:linear is now deprecated in favor of reg:squarederror.\n",
            "[02:13:48] WARNING: /workspace/src/objective/regression_obj.cu:152: reg:linear is now deprecated in favor of reg:squarederror.\n",
            "[02:13:48] WARNING: /workspace/src/objective/regression_obj.cu:152: reg:linear is now deprecated in favor of reg:squarederror.\n",
            "[02:13:48] WARNING: /workspace/src/objective/regression_obj.cu:152: reg:linear is now deprecated in favor of reg:squarederror.\n",
            "[02:13:48] WARNING: /workspace/src/objective/regression_obj.cu:152: reg:linear is now deprecated in favor of reg:squarederror.\n",
            "[02:13:49] WARNING: /workspace/src/objective/regression_obj.cu:152: reg:linear is now deprecated in favor of reg:squarederror.\n"
          ]
        }
      ]
    },
    {
      "cell_type": "code",
      "source": [
        "r2_score( np.array(CY_winter), C_winter_XGBY_pred ,multioutput='uniform_average')"
      ],
      "metadata": {
        "colab": {
          "base_uri": "https://localhost:8080/"
        },
        "id": "SkA_s1O4u8pQ",
        "outputId": "545f8dc4-4fc6-4ed8-851e-33e4c8f3cdd3"
      },
      "execution_count": 63,
      "outputs": [
        {
          "output_type": "execute_result",
          "data": {
            "text/plain": [
              "0.8131004977485401"
            ]
          },
          "metadata": {},
          "execution_count": 63
        }
      ]
    },
    {
      "cell_type": "code",
      "source": [
        "mean_absolute_error( CY_winter, C_winter_XGBY_pred)"
      ],
      "metadata": {
        "colab": {
          "base_uri": "https://localhost:8080/"
        },
        "id": "DlUIClNEu_Lu",
        "outputId": "c882b775-6320-4845-b25c-069d081589c2"
      },
      "execution_count": 64,
      "outputs": [
        {
          "output_type": "execute_result",
          "data": {
            "text/plain": [
              "0.04538424639001115"
            ]
          },
          "metadata": {},
          "execution_count": 64
        }
      ]
    },
    {
      "cell_type": "code",
      "source": [
        "mean_absolute_percentage_error( CY_winter, C_winter_XGBY_pred)"
      ],
      "metadata": {
        "colab": {
          "base_uri": "https://localhost:8080/"
        },
        "id": "v_D3evyYu_HC",
        "outputId": "83f26981-55a2-454d-caf5-9b9728ec9880"
      },
      "execution_count": 65,
      "outputs": [
        {
          "output_type": "execute_result",
          "data": {
            "text/plain": [
              "15050782001493.518"
            ]
          },
          "metadata": {},
          "execution_count": 65
        }
      ]
    },
    {
      "cell_type": "code",
      "source": [
        "mean_squared_error( CY_winter, C_winter_XGBY_pred)"
      ],
      "metadata": {
        "colab": {
          "base_uri": "https://localhost:8080/"
        },
        "id": "RiZiYrHHu_EY",
        "outputId": "d209a44c-c05d-4b41-bb96-43635f579275"
      },
      "execution_count": 66,
      "outputs": [
        {
          "output_type": "execute_result",
          "data": {
            "text/plain": [
              "0.014054739360720816"
            ]
          },
          "metadata": {},
          "execution_count": 66
        }
      ]
    },
    {
      "cell_type": "markdown",
      "source": [
        "### Scaling and plotting for XGBoost (winter)"
      ],
      "metadata": {
        "id": "U6wpofZY_jqq"
      }
    },
    {
      "cell_type": "code",
      "source": [
        "C_winter_XGBY_pred = scaler.fit_transform(C_winter_XGBY_pred)"
      ],
      "metadata": {
        "id": "3ZaA2AHd_kUj"
      },
      "execution_count": 67,
      "outputs": []
    },
    {
      "cell_type": "code",
      "source": [
        "ax1 = sns.distplot(CY_winter, color=\"r\", label=\"Actual Value\")\n",
        "sns.distplot(C_winter_XGBY_pred, color=\"b\", label=\"Fitted Values\" , ax=ax1)"
      ],
      "metadata": {
        "colab": {
          "base_uri": "https://localhost:8080/",
          "height": 372
        },
        "id": "c00iXVTS_iy-",
        "outputId": "2ddf48a2-329d-418b-e0db-72dabdd81b7b"
      },
      "execution_count": 68,
      "outputs": [
        {
          "output_type": "stream",
          "name": "stderr",
          "text": [
            "/usr/local/lib/python3.7/dist-packages/seaborn/distributions.py:2619: FutureWarning: `distplot` is a deprecated function and will be removed in a future version. Please adapt your code to use either `displot` (a figure-level function with similar flexibility) or `histplot` (an axes-level function for histograms).\n",
            "  warnings.warn(msg, FutureWarning)\n",
            "/usr/local/lib/python3.7/dist-packages/seaborn/distributions.py:2619: FutureWarning: `distplot` is a deprecated function and will be removed in a future version. Please adapt your code to use either `displot` (a figure-level function with similar flexibility) or `histplot` (an axes-level function for histograms).\n",
            "  warnings.warn(msg, FutureWarning)\n"
          ]
        },
        {
          "output_type": "execute_result",
          "data": {
            "text/plain": [
              "<matplotlib.axes._subplots.AxesSubplot at 0x7f1b26b030d0>"
            ]
          },
          "metadata": {},
          "execution_count": 68
        },
        {
          "output_type": "display_data",
          "data": {
            "text/plain": [
              "<Figure size 432x288 with 1 Axes>"
            ],
            "image/png": "[encoded data removed]"
          },
          "metadata": {
            "needs_background": "light"
          }
        }
      ]
    },
    {
      "cell_type": "markdown",
      "source": [
        "### XGBoost for summer of all the cities"
      ],
      "metadata": {
        "id": "jbhrtoDAvCcy"
      }
    },
    {
      "cell_type": "code",
      "source": [
        "multioutputregressor.fit(CX_summer, CY_summer)\n",
        "C_summer_XGBY_pred= multioutputregressor.predict(CX_summer)"
      ],
      "metadata": {
        "colab": {
          "base_uri": "https://localhost:8080/"
        },
        "id": "B6iRFPlvu-7S",
        "outputId": "a96b30c2-d450-4a17-8a0e-25811818920d"
      },
      "execution_count": 69,
      "outputs": [
        {
          "output_type": "stream",
          "name": "stdout",
          "text": [
            "[02:13:50] WARNING: /workspace/src/objective/regression_obj.cu:152: reg:linear is now deprecated in favor of reg:squarederror.\n",
            "[02:13:50] WARNING: /workspace/src/objective/regression_obj.cu:152: reg:linear is now deprecated in favor of reg:squarederror.\n",
            "[02:13:50] WARNING: /workspace/src/objective/regression_obj.cu:152: reg:linear is now deprecated in favor of reg:squarederror.\n",
            "[02:13:50] WARNING: /workspace/src/objective/regression_obj.cu:152: reg:linear is now deprecated in favor of reg:squarederror.\n",
            "[02:13:50] WARNING: /workspace/src/objective/regression_obj.cu:152: reg:linear is now deprecated in favor of reg:squarederror.\n",
            "[02:13:50] WARNING: /workspace/src/objective/regression_obj.cu:152: reg:linear is now deprecated in favor of reg:squarederror.\n"
          ]
        }
      ]
    },
    {
      "cell_type": "code",
      "source": [
        "r2_score( np.array(CY_summer), C_summer_XGBY_pred ,multioutput='uniform_average')"
      ],
      "metadata": {
        "colab": {
          "base_uri": "https://localhost:8080/"
        },
        "id": "8LcAV4ggu-z8",
        "outputId": "2733c1f0-6cf6-419c-9d62-c9946d6ac670"
      },
      "execution_count": 70,
      "outputs": [
        {
          "output_type": "execute_result",
          "data": {
            "text/plain": [
              "0.8285573693432546"
            ]
          },
          "metadata": {},
          "execution_count": 70
        }
      ]
    },
    {
      "cell_type": "code",
      "source": [
        "mean_absolute_error( CY_summer, C_summer_XGBY_pred)"
      ],
      "metadata": {
        "colab": {
          "base_uri": "https://localhost:8080/"
        },
        "id": "9yvlsdPTu-BM",
        "outputId": "b61d9c23-82f4-4686-d963-990fe120199b"
      },
      "execution_count": 71,
      "outputs": [
        {
          "output_type": "execute_result",
          "data": {
            "text/plain": [
              "0.035963845540578014"
            ]
          },
          "metadata": {},
          "execution_count": 71
        }
      ]
    },
    {
      "cell_type": "code",
      "source": [
        "mean_absolute_percentage_error( CY_summer, C_summer_XGBY_pred)\n"
      ],
      "metadata": {
        "colab": {
          "base_uri": "https://localhost:8080/"
        },
        "id": "NjM1xcX5u94Z",
        "outputId": "e764575e-14ed-4b30-daf1-06bdfe8b4438"
      },
      "execution_count": 72,
      "outputs": [
        {
          "output_type": "execute_result",
          "data": {
            "text/plain": [
              "22230817777657.574"
            ]
          },
          "metadata": {},
          "execution_count": 72
        }
      ]
    },
    {
      "cell_type": "code",
      "source": [
        "mean_squared_error( CY_summer, C_summer_XGBY_pred)"
      ],
      "metadata": {
        "colab": {
          "base_uri": "https://localhost:8080/"
        },
        "id": "8uEHBijDu9rV",
        "outputId": "19975cae-70bf-48ca-b827-dff2c1818761"
      },
      "execution_count": 73,
      "outputs": [
        {
          "output_type": "execute_result",
          "data": {
            "text/plain": [
              "0.010502828548285026"
            ]
          },
          "metadata": {},
          "execution_count": 73
        }
      ]
    },
    {
      "cell_type": "markdown",
      "source": [
        "### Scaling and plotting for XGBoost (summer)"
      ],
      "metadata": {
        "id": "maxo7KY6AACq"
      }
    },
    {
      "cell_type": "code",
      "source": [
        "C_summer_XGBY_pred = scaler.fit_transform(C_summer_XGBY_pred)"
      ],
      "metadata": {
        "id": "uYfAsgTS_-2w"
      },
      "execution_count": 74,
      "outputs": []
    },
    {
      "cell_type": "code",
      "source": [
        "ax1 = sns.distplot(CY_summer, color=\"r\", label=\"Actual Value\")\n",
        "sns.distplot(C_summer_XGBY_pred, color=\"b\", label=\"Fitted Values\" , ax=ax1)"
      ],
      "metadata": {
        "colab": {
          "base_uri": "https://localhost:8080/",
          "height": 372
        },
        "id": "kf7zxNdi__lP",
        "outputId": "8c536005-614e-4e3f-ea00-d221e7e18831"
      },
      "execution_count": 75,
      "outputs": [
        {
          "output_type": "stream",
          "name": "stderr",
          "text": [
            "/usr/local/lib/python3.7/dist-packages/seaborn/distributions.py:2619: FutureWarning: `distplot` is a deprecated function and will be removed in a future version. Please adapt your code to use either `displot` (a figure-level function with similar flexibility) or `histplot` (an axes-level function for histograms).\n",
            "  warnings.warn(msg, FutureWarning)\n",
            "/usr/local/lib/python3.7/dist-packages/seaborn/distributions.py:2619: FutureWarning: `distplot` is a deprecated function and will be removed in a future version. Please adapt your code to use either `displot` (a figure-level function with similar flexibility) or `histplot` (an axes-level function for histograms).\n",
            "  warnings.warn(msg, FutureWarning)\n"
          ]
        },
        {
          "output_type": "execute_result",
          "data": {
            "text/plain": [
              "<matplotlib.axes._subplots.AxesSubplot at 0x7f1b269233d0>"
            ]
          },
          "metadata": {},
          "execution_count": 75
        },
        {
          "output_type": "display_data",
          "data": {
            "text/plain": [
              "<Figure size 432x288 with 1 Axes>"
            ],
            "image/png": "[encoded data removed]"
          },
          "metadata": {
            "needs_background": "light"
          }
        }
      ]
    },
    {
      "cell_type": "markdown",
      "source": [
        "###Conclusion for XGBoost :\n",
        "XGBoost model is almost like KNN model but better, having an accuracy rate of 81%"
      ],
      "metadata": {
        "id": "OxaoTUkPwip4"
      }
    }
  ]
}