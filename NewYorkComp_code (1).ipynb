{
  "nbformat": 4,
  "nbformat_minor": 0,
  "metadata": {
    "colab": {
      "provenance": [],
      "collapsed_sections": [
        "pd8bq6Ugl_B5",
        "JgZ4MyLErW4Q",
        "G7yeVihpuFYr",
        "OxaoTUkPwip4"
      ]
    },
    "kernelspec": {
      "name": "python3",
      "display_name": "Python 3"
    },
    "language_info": {
      "name": "python"
    }
  },
  "cells": [
    {
      "cell_type": "markdown",
      "source": [
        "# **Data Loading**"
      ],
      "metadata": {
        "id": "iDkBVr3twiOc"
      }
    },
    {
      "cell_type": "code",
      "execution_count": 1,
      "metadata": {
        "id": "cMVXx_75rCQU"
      },
      "outputs": [],
      "source": [
        "import pandas as pd\n",
        "import argparse\n",
        "from typing import Dict, Tuple, List\n",
        "\n",
        "import numpy as np\n",
        "from matplotlib import pyplot as plt\n",
        "import seaborn as sns\n"
      ]
    },
    {
      "cell_type": "code",
      "source": [
        "from google.colab import drive\n",
        "drive.mount('/content/drive')"
      ],
      "metadata": {
        "colab": {
          "base_uri": "https://localhost:8080/"
        },
        "id": "XW5DaY1MgNTN",
        "outputId": "b6250a87-1907-4a64-da99-403b279455f1"
      },
      "execution_count": 2,
      "outputs": [
        {
          "output_type": "stream",
          "name": "stdout",
          "text": [
            "Drive already mounted at /content/drive; to attempt to forcibly remount, call drive.mount(\"/content/drive\", force_remount=True).\n"
          ]
        }
      ]
    },
    {
      "cell_type": "code",
      "source": [
        "NewYorkComp_data = pd.read_csv(\"/content/drive/MyDrive/ReVolt code/NewYorkComp\")\n",
        "NewYorkComp_data.head()"
      ],
      "metadata": {
        "colab": {
          "base_uri": "https://localhost:8080/",
          "height": 206
        },
        "id": "5HyWzJM7rMCu",
        "outputId": "f25d5b3e-a971-49b5-8a48-cfaf998cbf9f"
      },
      "execution_count": 3,
      "outputs": [
        {
          "output_type": "execute_result",
          "data": {
            "text/plain": [
              "   Unnamed: 0  Unnamed: 0.1  Degrees      Time     Speed  Energycons   EProp  \\\n",
              "0       30082         30082      0.0  0.000000  0.000000         NaN  0.0000   \n",
              "1       30083         30083      0.1  0.000039  0.000000         inf  0.0000   \n",
              "2       30084         30084      0.2  0.555860  0.000000         inf  0.0000   \n",
              "3       30085         30085      0.3  5.500000  0.000000         inf  0.0000   \n",
              "4       30086         30086     20.0  8.147600  0.027704  10641000.0  1.4306   \n",
              "\n",
              "   E_Aux    HVAC    Power  Regen      SoC     driveCycle     city weather  \n",
              "0   5.35  4.2501   9.6001    0.0  100.000  New York Comp  Seattle  Summer  \n",
              "1   5.35  4.2501   9.6001    0.0  100.000  New York Comp  Seattle  Summer  \n",
              "2   5.35  4.2501   9.6001    0.0  100.000  New York Comp  Seattle  Summer  \n",
              "3   5.35  4.2501   9.6001    0.0   99.995  New York Comp  Seattle  Summer  \n",
              "4   5.26  4.2500  10.9410    0.0   99.993  New York Comp  Seattle  Summer  "
            ],
            "text/html": [
              "\n",
              "  <div id=\"df-e084b36a-5a44-41fc-bc8b-f5225088c810\">\n",
              "    <div class=\"colab-df-container\">\n",
              "      <div>\n",
              "<style scoped>\n",
              "    .dataframe tbody tr th:only-of-type {\n",
              "        vertical-align: middle;\n",
              "    }\n",
              "\n",
              "    .dataframe tbody tr th {\n",
              "        vertical-align: top;\n",
              "    }\n",
              "\n",
              "    .dataframe thead th {\n",
              "        text-align: right;\n",
              "    }\n",
              "</style>\n",
              "<table border=\"1\" class=\"dataframe\">\n",
              "  <thead>\n",
              "    <tr style=\"text-align: right;\">\n",
              "      <th></th>\n",
              "      <th>Unnamed: 0</th>\n",
              "      <th>Unnamed: 0.1</th>\n",
              "      <th>Degrees</th>\n",
              "      <th>Time</th>\n",
              "      <th>Speed</th>\n",
              "      <th>Energycons</th>\n",
              "      <th>EProp</th>\n",
              "      <th>E_Aux</th>\n",
              "      <th>HVAC</th>\n",
              "      <th>Power</th>\n",
              "      <th>Regen</th>\n",
              "      <th>SoC</th>\n",
              "      <th>driveCycle</th>\n",
              "      <th>city</th>\n",
              "      <th>weather</th>\n",
              "    </tr>\n",
              "  </thead>\n",
              "  <tbody>\n",
              "    <tr>\n",
              "      <th>0</th>\n",
              "      <td>30082</td>\n",
              "      <td>30082</td>\n",
              "      <td>0.0</td>\n",
              "      <td>0.000000</td>\n",
              "      <td>0.000000</td>\n",
              "      <td>NaN</td>\n",
              "      <td>0.0000</td>\n",
              "      <td>5.35</td>\n",
              "      <td>4.2501</td>\n",
              "      <td>9.6001</td>\n",
              "      <td>0.0</td>\n",
              "      <td>100.000</td>\n",
              "      <td>New York Comp</td>\n",
              "      <td>Seattle</td>\n",
              "      <td>Summer</td>\n",
              "    </tr>\n",
              "    <tr>\n",
              "      <th>1</th>\n",
              "      <td>30083</td>\n",
              "      <td>30083</td>\n",
              "      <td>0.1</td>\n",
              "      <td>0.000039</td>\n",
              "      <td>0.000000</td>\n",
              "      <td>inf</td>\n",
              "      <td>0.0000</td>\n",
              "      <td>5.35</td>\n",
              "      <td>4.2501</td>\n",
              "      <td>9.6001</td>\n",
              "      <td>0.0</td>\n",
              "      <td>100.000</td>\n",
              "      <td>New York Comp</td>\n",
              "      <td>Seattle</td>\n",
              "      <td>Summer</td>\n",
              "    </tr>\n",
              "    <tr>\n",
              "      <th>2</th>\n",
              "      <td>30084</td>\n",
              "      <td>30084</td>\n",
              "      <td>0.2</td>\n",
              "      <td>0.555860</td>\n",
              "      <td>0.000000</td>\n",
              "      <td>inf</td>\n",
              "      <td>0.0000</td>\n",
              "      <td>5.35</td>\n",
              "      <td>4.2501</td>\n",
              "      <td>9.6001</td>\n",
              "      <td>0.0</td>\n",
              "      <td>100.000</td>\n",
              "      <td>New York Comp</td>\n",
              "      <td>Seattle</td>\n",
              "      <td>Summer</td>\n",
              "    </tr>\n",
              "    <tr>\n",
              "      <th>3</th>\n",
              "      <td>30085</td>\n",
              "      <td>30085</td>\n",
              "      <td>0.3</td>\n",
              "      <td>5.500000</td>\n",
              "      <td>0.000000</td>\n",
              "      <td>inf</td>\n",
              "      <td>0.0000</td>\n",
              "      <td>5.35</td>\n",
              "      <td>4.2501</td>\n",
              "      <td>9.6001</td>\n",
              "      <td>0.0</td>\n",
              "      <td>99.995</td>\n",
              "      <td>New York Comp</td>\n",
              "      <td>Seattle</td>\n",
              "      <td>Summer</td>\n",
              "    </tr>\n",
              "    <tr>\n",
              "      <th>4</th>\n",
              "      <td>30086</td>\n",
              "      <td>30086</td>\n",
              "      <td>20.0</td>\n",
              "      <td>8.147600</td>\n",
              "      <td>0.027704</td>\n",
              "      <td>10641000.0</td>\n",
              "      <td>1.4306</td>\n",
              "      <td>5.26</td>\n",
              "      <td>4.2500</td>\n",
              "      <td>10.9410</td>\n",
              "      <td>0.0</td>\n",
              "      <td>99.993</td>\n",
              "      <td>New York Comp</td>\n",
              "      <td>Seattle</td>\n",
              "      <td>Summer</td>\n",
              "    </tr>\n",
              "  </tbody>\n",
              "</table>\n",
              "</div>\n",
              "      <button class=\"colab-df-convert\" onclick=\"convertToInteractive('df-e084b36a-5a44-41fc-bc8b-f5225088c810')\"\n",
              "              title=\"Convert this dataframe to an interactive table.\"\n",
              "              style=\"display:none;\">\n",
              "        \n",
              "  <svg xmlns=\"http://www.w3.org/2000/svg\" height=\"24px\"viewBox=\"0 0 24 24\"\n",
              "       width=\"24px\">\n",
              "    <path d=\"M0 0h24v24H0V0z\" fill=\"none\"/>\n",
              "    <path d=\"M18.56 5.44l.94 2.06.94-2.06 2.06-.94-2.06-.94-.94-2.06-.94 2.06-2.06.94zm-11 1L8.5 8.5l.94-2.06 2.06-.94-2.06-.94L8.5 2.5l-.94 2.06-2.06.94zm10 10l.94 2.06.94-2.06 2.06-.94-2.06-.94-.94-2.06-.94 2.06-2.06.94z\"/><path d=\"M17.41 7.96l-1.37-1.37c-.4-.4-.92-.59-1.43-.59-.52 0-1.04.2-1.43.59L10.3 9.45l-7.72 7.72c-.78.78-.78 2.05 0 2.83L4 21.41c.39.39.9.59 1.41.59.51 0 1.02-.2 1.41-.59l7.78-7.78 2.81-2.81c.8-.78.8-2.07 0-2.86zM5.41 20L4 18.59l7.72-7.72 1.47 1.35L5.41 20z\"/>\n",
              "  </svg>\n",
              "      </button>\n",
              "      \n",
              "  <style>\n",
              "    .colab-df-container {\n",
              "      display:flex;\n",
              "      flex-wrap:wrap;\n",
              "      gap: 12px;\n",
              "    }\n",
              "\n",
              "    .colab-df-convert {\n",
              "      background-color: #E8F0FE;\n",
              "      border: none;\n",
              "      border-radius: 50%;\n",
              "      cursor: pointer;\n",
              "      display: none;\n",
              "      fill: #1967D2;\n",
              "      height: 32px;\n",
              "      padding: 0 0 0 0;\n",
              "      width: 32px;\n",
              "    }\n",
              "\n",
              "    .colab-df-convert:hover {\n",
              "      background-color: #E2EBFA;\n",
              "      box-shadow: 0px 1px 2px rgba(60, 64, 67, 0.3), 0px 1px 3px 1px rgba(60, 64, 67, 0.15);\n",
              "      fill: #174EA6;\n",
              "    }\n",
              "\n",
              "    [theme=dark] .colab-df-convert {\n",
              "      background-color: #3B4455;\n",
              "      fill: #D2E3FC;\n",
              "    }\n",
              "\n",
              "    [theme=dark] .colab-df-convert:hover {\n",
              "      background-color: #434B5C;\n",
              "      box-shadow: 0px 1px 3px 1px rgba(0, 0, 0, 0.15);\n",
              "      filter: drop-shadow(0px 1px 2px rgba(0, 0, 0, 0.3));\n",
              "      fill: #FFFFFF;\n",
              "    }\n",
              "  </style>\n",
              "\n",
              "      <script>\n",
              "        const buttonEl =\n",
              "          document.querySelector('#df-e084b36a-5a44-41fc-bc8b-f5225088c810 button.colab-df-convert');\n",
              "        buttonEl.style.display =\n",
              "          google.colab.kernel.accessAllowed ? 'block' : 'none';\n",
              "\n",
              "        async function convertToInteractive(key) {\n",
              "          const element = document.querySelector('#df-e084b36a-5a44-41fc-bc8b-f5225088c810');\n",
              "          const dataTable =\n",
              "            await google.colab.kernel.invokeFunction('convertToInteractive',\n",
              "                                                     [key], {});\n",
              "          if (!dataTable) return;\n",
              "\n",
              "          const docLinkHtml = 'Like what you see? Visit the ' +\n",
              "            '<a target=\"_blank\" href=https://colab.research.google.com/notebooks/data_table.ipynb>data table notebook</a>'\n",
              "            + ' to learn more about interactive tables.';\n",
              "          element.innerHTML = '';\n",
              "          dataTable['output_type'] = 'display_data';\n",
              "          await google.colab.output.renderOutput(dataTable, element);\n",
              "          const docLink = document.createElement('div');\n",
              "          docLink.innerHTML = docLinkHtml;\n",
              "          element.appendChild(docLink);\n",
              "        }\n",
              "      </script>\n",
              "    </div>\n",
              "  </div>\n",
              "  "
            ]
          },
          "metadata": {},
          "execution_count": 3
        }
      ]
    },
    {
      "cell_type": "code",
      "source": [
        "NewYorkComp_data.shape"
      ],
      "metadata": {
        "colab": {
          "base_uri": "https://localhost:8080/"
        },
        "id": "bgScmOJqtiHt",
        "outputId": "8084b555-6039-419a-c6f6-8e9281b9b544"
      },
      "execution_count": 4,
      "outputs": [
        {
          "output_type": "execute_result",
          "data": {
            "text/plain": [
              "(8405, 15)"
            ]
          },
          "metadata": {},
          "execution_count": 4
        }
      ]
    },
    {
      "cell_type": "markdown",
      "source": [
        "# **Data Cleaning**"
      ],
      "metadata": {
        "id": "IX8kmZbAwptu"
      }
    },
    {
      "cell_type": "markdown",
      "source": [
        "Let's add dummies for weather so it will give 0 for summer and 1 for winter, as it will be easier to segregate the data based on seasons for our analysis to compare and contrast."
      ],
      "metadata": {
        "id": "rO5nqUNIhdT2"
      }
    },
    {
      "cell_type": "code",
      "source": [
        "# Creating a dummy variable for the variable 'city' and dropping the first one.\n",
        "#city_dummy = pd.get_dummies(UDDS_data['city'],prefix='city',drop_first=False)\n",
        "#Adding the results to the master dataframe\n",
        "#UD_data = pd.concat([UDDS_data,city_dummy],axis=1)\n",
        "\n",
        "# Creating a dummy variable for the variable 'weather' and dropping the first one.\n",
        "weather_dummy = pd.get_dummies(NewYorkComp_data['weather'],prefix='weather',drop_first=True)\n",
        "#Adding the results to the master dataframe\n",
        "NYC_data = pd.concat([NewYorkComp_data,weather_dummy],axis=1)"
      ],
      "metadata": {
        "id": "gHTfW8Uxsh8o"
      },
      "execution_count": 5,
      "outputs": []
    },
    {
      "cell_type": "code",
      "source": [
        "NYC_data.columns"
      ],
      "metadata": {
        "colab": {
          "base_uri": "https://localhost:8080/"
        },
        "id": "IZ12wHadtgVu",
        "outputId": "34597de9-5bff-4e73-a2eb-e7d706fa1f44"
      },
      "execution_count": 6,
      "outputs": [
        {
          "output_type": "execute_result",
          "data": {
            "text/plain": [
              "Index(['Unnamed: 0', 'Unnamed: 0.1', 'Degrees', 'Time', 'Speed', 'Energycons',\n",
              "       'EProp', 'E_Aux', 'HVAC', 'Power', 'Regen', 'SoC', 'driveCycle', 'city',\n",
              "       'weather', 'weather_Winter'],\n",
              "      dtype='object')"
            ]
          },
          "metadata": {},
          "execution_count": 6
        }
      ]
    },
    {
      "cell_type": "markdown",
      "source": [
        "Removing drivecycle and weather columns as we have already reproduced our data in such a way that one file is related to one drive cycle and we have our dummy for weather."
      ],
      "metadata": {
        "id": "ys82B4s-iDPh"
      }
    },
    {
      "cell_type": "code",
      "source": [
        "NYC_data.drop(columns=['weather','driveCycle','Unnamed: 0','Unnamed: 0.1'],inplace=True)"
      ],
      "metadata": {
        "id": "wixthnI8rtS6"
      },
      "execution_count": 7,
      "outputs": []
    },
    {
      "cell_type": "code",
      "source": [
        "NYC_data.shape"
      ],
      "metadata": {
        "colab": {
          "base_uri": "https://localhost:8080/"
        },
        "id": "xJdTHHjIuVQL",
        "outputId": "e1a7fa80-d843-44c5-9ea2-ea7fb2a8479b"
      },
      "execution_count": 8,
      "outputs": [
        {
          "output_type": "execute_result",
          "data": {
            "text/plain": [
              "(8405, 12)"
            ]
          },
          "metadata": {},
          "execution_count": 8
        }
      ]
    },
    {
      "cell_type": "markdown",
      "source": [
        "Check for any null values :"
      ],
      "metadata": {
        "id": "sgnfEmUeu92k"
      }
    },
    {
      "cell_type": "code",
      "source": [
        "NYC_nocity_data = NYC_data[['Degrees', 'Time', 'Speed', 'Energycons',\n",
        "       'EProp', 'E_Aux', 'HVAC', 'Power', 'Regen', 'SoC','weather_Winter']]\n",
        "df =NYC_nocity_data.columns.to_series()[np.isnan(NYC_nocity_data).any()]\n",
        "df1 =NYC_nocity_data.columns.to_series()[np.isinf(NYC_nocity_data).any()]\n",
        "print(df, df1)"
      ],
      "metadata": {
        "colab": {
          "base_uri": "https://localhost:8080/"
        },
        "id": "NIR-_Judu1ed",
        "outputId": "5615a775-5abc-46e6-f873-989ca612b0b9"
      },
      "execution_count": 9,
      "outputs": [
        {
          "output_type": "stream",
          "name": "stdout",
          "text": [
            "Energycons    Energycons\n",
            "dtype: object Energycons    Energycons\n",
            "dtype: object\n"
          ]
        }
      ]
    },
    {
      "cell_type": "markdown",
      "source": [
        "Only Energycons contain both Nan and inf values, so first we'll replace inf values with nan and check how much of the data will be effected."
      ],
      "metadata": {
        "id": "n1DkAvELa4JH"
      }
    },
    {
      "cell_type": "code",
      "source": [
        "NYC_data.replace(np.inf, np.nan, inplace=True)\n",
        "\n",
        "100* NYC_data.isnull().sum() / NYC_data.shape[0]"
      ],
      "metadata": {
        "colab": {
          "base_uri": "https://localhost:8080/"
        },
        "id": "iW_utDKjbJch",
        "outputId": "47ecf9b1-d3d1-4a54-9c18-9e0eb112716a"
      },
      "execution_count": 10,
      "outputs": [
        {
          "output_type": "execute_result",
          "data": {
            "text/plain": [
              "Degrees           0.000000\n",
              "Time              0.000000\n",
              "Speed             0.000000\n",
              "Energycons        0.939917\n",
              "EProp             0.000000\n",
              "E_Aux             0.000000\n",
              "HVAC              0.000000\n",
              "Power             0.000000\n",
              "Regen             0.000000\n",
              "SoC               0.000000\n",
              "city              0.000000\n",
              "weather_Winter    0.000000\n",
              "dtype: float64"
            ]
          },
          "metadata": {},
          "execution_count": 10
        }
      ]
    },
    {
      "cell_type": "markdown",
      "source": [
        "Energycons consists of 0.9% data of nan values, when combined with 10 cities, so per city with a particular season, removing those values might effect the regression analysis. Hence let's just replace nan values with 0 and continue with the analysis.\n",
        "\n"
      ],
      "metadata": {
        "id": "weuuIfljvJgc"
      }
    },
    {
      "cell_type": "code",
      "source": [
        "NYC_data.fillna(0,inplace = True)"
      ],
      "metadata": {
        "id": "KTZrBB0Iu1hO"
      },
      "execution_count": 11,
      "outputs": []
    },
    {
      "cell_type": "code",
      "source": [
        "NYC_data.shape"
      ],
      "metadata": {
        "colab": {
          "base_uri": "https://localhost:8080/"
        },
        "id": "9X-_894avfav",
        "outputId": "c4400d93-17e1-491a-dff1-8c6295bafea3"
      },
      "execution_count": 12,
      "outputs": [
        {
          "output_type": "execute_result",
          "data": {
            "text/plain": [
              "(8405, 12)"
            ]
          },
          "metadata": {},
          "execution_count": 12
        }
      ]
    },
    {
      "cell_type": "code",
      "source": [
        "NYC_data.to_csv(\"NewYorkComp_final.csv\")"
      ],
      "metadata": {
        "id": "7AMURILawUws"
      },
      "execution_count": 13,
      "outputs": []
    },
    {
      "cell_type": "markdown",
      "source": [
        "The resulting data set has been given the name NewYorkComp_final.csv"
      ],
      "metadata": {
        "id": "LzvBFCAjwejs"
      }
    },
    {
      "cell_type": "markdown",
      "source": [
        "# **Data Understanding**"
      ],
      "metadata": {
        "id": "kX0y2gzf-8QK"
      }
    },
    {
      "cell_type": "markdown",
      "source": [
        "Let's check how dependent are the variables on each other using correlation."
      ],
      "metadata": {
        "id": "JhLiHgBQ_DGj"
      }
    },
    {
      "cell_type": "code",
      "source": [
        "#plotting the heatmap for correlation\n",
        "hm = sns.heatmap(NYC_data.corr(), annot=True)"
      ],
      "metadata": {
        "id": "9Gi-74Jy_NnF",
        "colab": {
          "base_uri": "https://localhost:8080/",
          "height": 338
        },
        "outputId": "e58213dd-8bba-4dba-b3c7-23dbc20bde37"
      },
      "execution_count": 14,
      "outputs": [
        {
          "output_type": "display_data",
          "data": {
            "text/plain": [
              "<Figure size 432x288 with 2 Axes>"
            ],
            "image/png": "[encoded data removed]"
          },
          "metadata": {
            "needs_background": "light"
          }
        }
      ]
    },
    {
      "cell_type": "markdown",
      "source": [
        "The heatmap suggest that power is dependent on Eprop stronger than that of how it is dependent on degrees. We can predict that this can be because the power is the summation of  E-prop,E-Aux & HVAC. \n",
        "In this case, EProp and Power are both are less deperendent on degrees when compared to the strength of dependency as that of power and Eprop."
      ],
      "metadata": {
        "id": "FK4LhHiDGe0t"
      }
    },
    {
      "cell_type": "markdown",
      "source": [
        "# **Data Modeling**"
      ],
      "metadata": {
        "id": "9tvH6CQnwzr_"
      }
    },
    {
      "cell_type": "markdown",
      "source": [
        "Converting the data into Predictor and response sets. Where, the data in X, is used to regress on and the data is y is the dependent varibles and are true output varibles."
      ],
      "metadata": {
        "id": "UtKDyV7WyvAR"
      }
    },
    {
      "cell_type": "code",
      "source": [
        "from sklearn.linear_model import LinearRegression\n",
        "from sklearn.multioutput import MultiOutputRegressor\n",
        "from sklearn.neighbors import KNeighborsRegressor\n",
        "from sklearn.ensemble import RandomForestRegressor\n",
        "from sklearn.svm import LinearSVR\n",
        "\n",
        "from sklearn.metrics import mean_absolute_error, mean_absolute_percentage_error, mean_squared_error, r2_score\n",
        "import xgboost as xgb\n",
        "from sklearn.preprocessing import MinMaxScaler\n",
        "\n",
        "from pandas.core.base import NoNewAttributesMixin\n"
      ],
      "metadata": {
        "id": "udhndHnhzOMc"
      },
      "execution_count": 15,
      "outputs": []
    },
    {
      "cell_type": "code",
      "source": [
        "print(NYC_data['weather_Winter'].unique())"
      ],
      "metadata": {
        "id": "QN-9Tj7CE4Dj",
        "colab": {
          "base_uri": "https://localhost:8080/"
        },
        "outputId": "7f29a767-efec-4f85-bf44-185381b87004"
      },
      "execution_count": 16,
      "outputs": [
        {
          "output_type": "stream",
          "name": "stdout",
          "text": [
            "[0 1]\n"
          ]
        }
      ]
    },
    {
      "cell_type": "markdown",
      "source": [
        "splitting data into winter and summer as per seasons respectively"
      ],
      "metadata": {
        "id": "n9fOFmqCmiLI"
      }
    },
    {
      "cell_type": "code",
      "source": [
        "NYC= NYC_data.groupby('weather_Winter')\n",
        "NYC_winter = NYC.get_group(NYC_data['weather_Winter'].unique()[1])\n",
        "NYC_summer = NYC.get_group(NYC_data['weather_Winter'].unique()[0])"
      ],
      "metadata": {
        "id": "43xvOgyAAVGZ"
      },
      "execution_count": 17,
      "outputs": []
    },
    {
      "cell_type": "markdown",
      "source": [
        "Train and test split for winter:"
      ],
      "metadata": {
        "id": "imO7GNRkmeDi"
      }
    },
    {
      "cell_type": "code",
      "source": [
        "\n",
        "new_NYC_winter = NYC_winter\n",
        "\n",
        "NYCX_winter = new_NYC_winter[['Degrees', 'Time', 'Speed','weather_Winter']]\n",
        "\n",
        "\n",
        "NYCY_winter = new_NYC_winter[['Energycons', 'EProp', 'E_Aux', 'HVAC',\n",
        "       'Regen', 'SoC']]\n",
        "\n"
      ],
      "metadata": {
        "id": "cLXeZEUgzSmz"
      },
      "execution_count": 18,
      "outputs": []
    },
    {
      "cell_type": "markdown",
      "source": [
        "Train and test data for summer: "
      ],
      "metadata": {
        "id": "1uh7YjygmalC"
      }
    },
    {
      "cell_type": "code",
      "source": [
        "new_NYC_summer = NYC_summer\n",
        "\n",
        "NYCX_summer = new_NYC_summer[['Degrees', 'Time', 'Speed','weather_Winter']]\n",
        "\n",
        "\n",
        "NYCY_summer = new_NYC_summer[['Energycons', 'EProp', 'E_Aux', 'HVAC',\n",
        "       'Regen', 'SoC']]"
      ],
      "metadata": {
        "id": "6o4SZf8ofcC0"
      },
      "execution_count": 19,
      "outputs": []
    },
    {
      "cell_type": "markdown",
      "source": [
        "# Linear Regression For MultiTarget Regression:\n",
        "Applying Linear Regression model and checking the if the prediction is accurate."
      ],
      "metadata": {
        "id": "oSaTFs_FJ43c"
      }
    },
    {
      "cell_type": "markdown",
      "source": [
        "### linear regression for winter of all the cities"
      ],
      "metadata": {
        "id": "nIqX9EkulyTN"
      }
    },
    {
      "cell_type": "code",
      "source": [
        "NYC_winter_linearmodel = LinearRegression()\n",
        "# fit model\n",
        "NYC_winter_linearmodel.fit(NYCX_winter, NYCY_winter)"
      ],
      "metadata": {
        "id": "42gWohd-J3tZ",
        "colab": {
          "base_uri": "https://localhost:8080/"
        },
        "outputId": "3e79a85d-6079-4525-9e15-750db6548e82"
      },
      "execution_count": 20,
      "outputs": [
        {
          "output_type": "execute_result",
          "data": {
            "text/plain": [
              "LinearRegression()"
            ]
          },
          "metadata": {},
          "execution_count": 20
        }
      ]
    },
    {
      "cell_type": "code",
      "source": [
        "NYCY_winter_pred = NYC_winter_linearmodel.predict(NYCX_winter)\n",
        "r2_score( np.array(NYCY_winter), NYCY_winter_pred,multioutput='uniform_average')"
      ],
      "metadata": {
        "id": "oboXCb8aJ-zd",
        "colab": {
          "base_uri": "https://localhost:8080/"
        },
        "outputId": "e4ca8ec6-2de7-4d91-b4ce-7a6b69908ce7"
      },
      "execution_count": 21,
      "outputs": [
        {
          "output_type": "execute_result",
          "data": {
            "text/plain": [
              "0.3254961747926724"
            ]
          },
          "metadata": {},
          "execution_count": 21
        }
      ]
    },
    {
      "cell_type": "code",
      "source": [
        "mean_absolute_error( NYCY_winter, NYCY_winter_pred)"
      ],
      "metadata": {
        "colab": {
          "base_uri": "https://localhost:8080/"
        },
        "id": "lCOueOqClBxB",
        "outputId": "6aff9275-00c0-4a49-ee88-9826a6c487be"
      },
      "execution_count": 22,
      "outputs": [
        {
          "output_type": "execute_result",
          "data": {
            "text/plain": [
              "3857265.313080013"
            ]
          },
          "metadata": {},
          "execution_count": 22
        }
      ]
    },
    {
      "cell_type": "code",
      "source": [
        "mean_absolute_percentage_error( NYCY_winter, NYCY_winter_pred)"
      ],
      "metadata": {
        "colab": {
          "base_uri": "https://localhost:8080/"
        },
        "id": "AykQXlhDlCoy",
        "outputId": "3d595f00-9405-40ee-ef3c-abdd90b2d157"
      },
      "execution_count": 23,
      "outputs": [
        {
          "output_type": "execute_result",
          "data": {
            "text/plain": [
              "2.0898860447361837e+20"
            ]
          },
          "metadata": {},
          "execution_count": 23
        }
      ]
    },
    {
      "cell_type": "code",
      "source": [
        "mean_squared_error( NYCY_winter, NYCY_winter_pred)"
      ],
      "metadata": {
        "colab": {
          "base_uri": "https://localhost:8080/"
        },
        "id": "lkTBVFewlC_f",
        "outputId": "e0878321-0a63-4f21-a09e-05cd88a715df"
      },
      "execution_count": 24,
      "outputs": [
        {
          "output_type": "execute_result",
          "data": {
            "text/plain": [
              "3.2456014659661404e+16"
            ]
          },
          "metadata": {},
          "execution_count": 24
        }
      ]
    },
    {
      "cell_type": "markdown",
      "source": [
        "### Scaling and plotting for linear regression (winter)"
      ],
      "metadata": {
        "id": "l-DsYt2c-dm-"
      }
    },
    {
      "cell_type": "markdown",
      "source": [
        "As the values are too large, plotting our regression will become more difficult, therefore we will need to scale our values down."
      ],
      "metadata": {
        "id": "oR665gt17536"
      }
    },
    {
      "cell_type": "code",
      "source": [
        "scaler = MinMaxScaler() ##initialize the minmax scaler from sklearn\n",
        "NYCY_winter = scaler.fit_transform(NYCY_winter) ## fit transform on train data\n",
        "NYCY_winter_pred = scaler.fit_transform(NYCY_winter_pred)\n"
      ],
      "metadata": {
        "id": "Btv5sV_Q7KV-"
      },
      "execution_count": 25,
      "outputs": []
    },
    {
      "cell_type": "code",
      "source": [
        "#plt.plot(UDY_winter, UDY_winter_pred, color=\"b\")\n",
        "\n",
        "ax1 = sns.distplot(NYCY_winter, color=\"r\", label=\"Actual Value\")\n",
        "sns.distplot(NYCY_winter_pred, color=\"b\", label=\"Fitted Values\" , ax=ax1)"
      ],
      "metadata": {
        "colab": {
          "base_uri": "https://localhost:8080/",
          "height": 372
        },
        "id": "P35lPbzn4KYK",
        "outputId": "f2a27791-ba25-485c-98b0-c52aac950e4a"
      },
      "execution_count": 26,
      "outputs": [
        {
          "output_type": "stream",
          "name": "stderr",
          "text": [
            "/usr/local/lib/python3.7/dist-packages/seaborn/distributions.py:2619: FutureWarning: `distplot` is a deprecated function and will be removed in a future version. Please adapt your code to use either `displot` (a figure-level function with similar flexibility) or `histplot` (an axes-level function for histograms).\n",
            "  warnings.warn(msg, FutureWarning)\n",
            "/usr/local/lib/python3.7/dist-packages/seaborn/distributions.py:2619: FutureWarning: `distplot` is a deprecated function and will be removed in a future version. Please adapt your code to use either `displot` (a figure-level function with similar flexibility) or `histplot` (an axes-level function for histograms).\n",
            "  warnings.warn(msg, FutureWarning)\n"
          ]
        },
        {
          "output_type": "execute_result",
          "data": {
            "text/plain": [
              "<matplotlib.axes._subplots.AxesSubplot at 0x7f9be48c7510>"
            ]
          },
          "metadata": {},
          "execution_count": 26
        },
        {
          "output_type": "display_data",
          "data": {
            "text/plain": [
              "<Figure size 432x288 with 1 Axes>"
            ],
            "image/png": "[encoded data removed]"
          },
          "metadata": {
            "needs_background": "light"
          }
        }
      ]
    },
    {
      "cell_type": "markdown",
      "source": [
        "### linear regression for summer of all the cities"
      ],
      "metadata": {
        "id": "xvlsiGPyl6Nw"
      }
    },
    {
      "cell_type": "code",
      "source": [
        "NYC_summer_linearmodel = LinearRegression()\n",
        "# fit model\n",
        "NYC_summer_linearmodel.fit(NYCX_summer, NYCY_summer)"
      ],
      "metadata": {
        "colab": {
          "base_uri": "https://localhost:8080/"
        },
        "id": "JpBupWhxf1zM",
        "outputId": "4484857d-8dbf-48d3-f3b6-5317e3c2af32"
      },
      "execution_count": 27,
      "outputs": [
        {
          "output_type": "execute_result",
          "data": {
            "text/plain": [
              "LinearRegression()"
            ]
          },
          "metadata": {},
          "execution_count": 27
        }
      ]
    },
    {
      "cell_type": "code",
      "source": [
        "NYCY_summer_pred = NYC_summer_linearmodel.predict(NYCX_summer)\n",
        "r2_score( np.array(NYCY_summer), NYCY_summer_pred,multioutput='uniform_average')"
      ],
      "metadata": {
        "colab": {
          "base_uri": "https://localhost:8080/"
        },
        "id": "ewcv3cJHf-ac",
        "outputId": "216e4636-fd0b-40c0-f5ae-1d5c6773721d"
      },
      "execution_count": 28,
      "outputs": [
        {
          "output_type": "execute_result",
          "data": {
            "text/plain": [
              "0.3422292857710351"
            ]
          },
          "metadata": {},
          "execution_count": 28
        }
      ]
    },
    {
      "cell_type": "code",
      "source": [
        "mean_absolute_error( NYCY_summer, NYCY_summer_pred)"
      ],
      "metadata": {
        "colab": {
          "base_uri": "https://localhost:8080/"
        },
        "id": "LtcMJRJslTSo",
        "outputId": "7046859e-d05a-4691-ab45-016a460b132e"
      },
      "execution_count": 29,
      "outputs": [
        {
          "output_type": "execute_result",
          "data": {
            "text/plain": [
              "14112615.776844308"
            ]
          },
          "metadata": {},
          "execution_count": 29
        }
      ]
    },
    {
      "cell_type": "code",
      "source": [
        "mean_absolute_percentage_error( NYCY_summer, NYCY_summer_pred)"
      ],
      "metadata": {
        "colab": {
          "base_uri": "https://localhost:8080/"
        },
        "id": "MtecUuzHlTWc",
        "outputId": "95cf7456-8d1c-4fa1-9ad7-969d4d4ce777"
      },
      "execution_count": 30,
      "outputs": [
        {
          "output_type": "execute_result",
          "data": {
            "text/plain": [
              "7.66035663244148e+20"
            ]
          },
          "metadata": {},
          "execution_count": 30
        }
      ]
    },
    {
      "cell_type": "code",
      "source": [
        "mean_squared_error( NYCY_summer, NYCY_summer_pred)"
      ],
      "metadata": {
        "colab": {
          "base_uri": "https://localhost:8080/"
        },
        "id": "4eXheUTulTfT",
        "outputId": "c00bb02d-6d2f-4ff0-fea6-6966ad510adf"
      },
      "execution_count": 31,
      "outputs": [
        {
          "output_type": "execute_result",
          "data": {
            "text/plain": [
              "5.1201890800247814e+17"
            ]
          },
          "metadata": {},
          "execution_count": 31
        }
      ]
    },
    {
      "cell_type": "markdown",
      "source": [
        "###Scaling values and plotting: linear regression graph (summer)"
      ],
      "metadata": {
        "id": "jSpzdPw-8z9Q"
      }
    },
    {
      "cell_type": "code",
      "source": [
        "NYCY_summer = scaler.fit_transform(NYCY_summer) ## fit transform on train data\n",
        "NYCY_summer_pred = scaler.fit_transform(NYCY_summer_pred)"
      ],
      "metadata": {
        "id": "whCJTCLF8ylm"
      },
      "execution_count": 32,
      "outputs": []
    },
    {
      "cell_type": "code",
      "source": [
        "ax1 = sns.distplot(NYCY_summer, color=\"r\", label=\"Actual Value\")\n",
        "sns.distplot(NYCY_summer_pred, color=\"b\", label=\"Fitted Values\" , ax=ax1)"
      ],
      "metadata": {
        "colab": {
          "base_uri": "https://localhost:8080/",
          "height": 372
        },
        "id": "AzaTWZu09AXD",
        "outputId": "5c4b283e-7838-42d1-add6-19d9185ce405"
      },
      "execution_count": 33,
      "outputs": [
        {
          "output_type": "stream",
          "name": "stderr",
          "text": [
            "/usr/local/lib/python3.7/dist-packages/seaborn/distributions.py:2619: FutureWarning: `distplot` is a deprecated function and will be removed in a future version. Please adapt your code to use either `displot` (a figure-level function with similar flexibility) or `histplot` (an axes-level function for histograms).\n",
            "  warnings.warn(msg, FutureWarning)\n",
            "/usr/local/lib/python3.7/dist-packages/seaborn/distributions.py:2619: FutureWarning: `distplot` is a deprecated function and will be removed in a future version. Please adapt your code to use either `displot` (a figure-level function with similar flexibility) or `histplot` (an axes-level function for histograms).\n",
            "  warnings.warn(msg, FutureWarning)\n"
          ]
        },
        {
          "output_type": "execute_result",
          "data": {
            "text/plain": [
              "<matplotlib.axes._subplots.AxesSubplot at 0x7f9be47ab350>"
            ]
          },
          "metadata": {},
          "execution_count": 33
        },
        {
          "output_type": "display_data",
          "data": {
            "text/plain": [
              "<Figure size 432x288 with 1 Axes>"
            ],
            "image/png": "[encoded data removed]"
          },
          "metadata": {
            "needs_background": "light"
          }
        }
      ]
    },
    {
      "cell_type": "markdown",
      "source": [
        "### Conclusion for linear regression :\n",
        "\n",
        "Clearly, linear regression is not an accurate model for both summer and winter data. My guess here is that the variables are not as dependent as they must be for a linear regression to work."
      ],
      "metadata": {
        "id": "pd8bq6Ugl_B5"
      }
    },
    {
      "cell_type": "markdown",
      "source": [
        "# **KNN for multioutput Regression**"
      ],
      "metadata": {
        "id": "ZtHcDLZmo90v"
      }
    },
    {
      "cell_type": "markdown",
      "source": [
        "### KNN for winter of all the cities"
      ],
      "metadata": {
        "id": "5R4glefFrKx6"
      }
    },
    {
      "cell_type": "code",
      "source": [
        "KNNmodel = KNeighborsRegressor()\n",
        "# fit model\n",
        "KNNmodel.fit(NYCX_winter, NYCY_winter)"
      ],
      "metadata": {
        "colab": {
          "base_uri": "https://localhost:8080/"
        },
        "id": "bm82RicJpFwg",
        "outputId": "e3e88d14-a6b3-441e-c77e-beb6dd014373"
      },
      "execution_count": 34,
      "outputs": [
        {
          "output_type": "execute_result",
          "data": {
            "text/plain": [
              "KNeighborsRegressor()"
            ]
          },
          "metadata": {},
          "execution_count": 34
        }
      ]
    },
    {
      "cell_type": "code",
      "source": [
        "NYC_winter_KNNY_pred = KNNmodel.predict(NYCX_winter)\n",
        "r2_score( np.array(NYCY_winter), NYC_winter_KNNY_pred,multioutput='uniform_average')"
      ],
      "metadata": {
        "colab": {
          "base_uri": "https://localhost:8080/"
        },
        "id": "EldBF_9fpK8i",
        "outputId": "9488122f-a72c-48cb-f5f2-857e2da54209"
      },
      "execution_count": 35,
      "outputs": [
        {
          "output_type": "execute_result",
          "data": {
            "text/plain": [
              "0.6796204514353006"
            ]
          },
          "metadata": {},
          "execution_count": 35
        }
      ]
    },
    {
      "cell_type": "code",
      "source": [
        "mean_absolute_error( NYCY_winter, NYC_winter_KNNY_pred)"
      ],
      "metadata": {
        "colab": {
          "base_uri": "https://localhost:8080/"
        },
        "id": "uXYM530apLHJ",
        "outputId": "8de0045a-552c-4ffa-9a7c-d2d692643c62"
      },
      "execution_count": 36,
      "outputs": [
        {
          "output_type": "execute_result",
          "data": {
            "text/plain": [
              "0.04824819723652945"
            ]
          },
          "metadata": {},
          "execution_count": 36
        }
      ]
    },
    {
      "cell_type": "code",
      "source": [
        "mean_absolute_percentage_error( NYCY_winter, NYC_winter_KNNY_pred)"
      ],
      "metadata": {
        "colab": {
          "base_uri": "https://localhost:8080/"
        },
        "id": "HJgvgo22pLJj",
        "outputId": "1a7debe3-2784-4171-b4fb-ca634d091fbd"
      },
      "execution_count": 37,
      "outputs": [
        {
          "output_type": "execute_result",
          "data": {
            "text/plain": [
              "14330567673477.545"
            ]
          },
          "metadata": {},
          "execution_count": 37
        }
      ]
    },
    {
      "cell_type": "code",
      "source": [
        "mean_squared_error( NYCY_winter, NYC_winter_KNNY_pred)"
      ],
      "metadata": {
        "colab": {
          "base_uri": "https://localhost:8080/"
        },
        "id": "pRlWX_e4pLMf",
        "outputId": "47b82945-df68-416c-8e5f-98f022ec9006"
      },
      "execution_count": 38,
      "outputs": [
        {
          "output_type": "execute_result",
          "data": {
            "text/plain": [
              "0.01499663445442751"
            ]
          },
          "metadata": {},
          "execution_count": 38
        }
      ]
    },
    {
      "cell_type": "markdown",
      "source": [
        "### Scaling and plotting for KNN (winter)"
      ],
      "metadata": {
        "id": "Sfv8GK3M90X4"
      }
    },
    {
      "cell_type": "code",
      "source": [
        "NYC_winter_KNNY_pred = scaler.fit_transform(NYC_winter_KNNY_pred)"
      ],
      "metadata": {
        "id": "-DP1R6SA9Vgo"
      },
      "execution_count": 39,
      "outputs": []
    },
    {
      "cell_type": "code",
      "source": [
        "ax1 = sns.distplot(NYCY_winter, color=\"r\", label=\"Actual Value\")\n",
        "sns.distplot(NYC_winter_KNNY_pred, color=\"b\", label=\"Fitted Values\" , ax=ax1)"
      ],
      "metadata": {
        "colab": {
          "base_uri": "https://localhost:8080/",
          "height": 372
        },
        "id": "ZAoNqUE49Wx7",
        "outputId": "14b75d4d-24f9-4675-a63c-619d3cb27190"
      },
      "execution_count": 40,
      "outputs": [
        {
          "output_type": "stream",
          "name": "stderr",
          "text": [
            "/usr/local/lib/python3.7/dist-packages/seaborn/distributions.py:2619: FutureWarning: `distplot` is a deprecated function and will be removed in a future version. Please adapt your code to use either `displot` (a figure-level function with similar flexibility) or `histplot` (an axes-level function for histograms).\n",
            "  warnings.warn(msg, FutureWarning)\n",
            "/usr/local/lib/python3.7/dist-packages/seaborn/distributions.py:2619: FutureWarning: `distplot` is a deprecated function and will be removed in a future version. Please adapt your code to use either `displot` (a figure-level function with similar flexibility) or `histplot` (an axes-level function for histograms).\n",
            "  warnings.warn(msg, FutureWarning)\n"
          ]
        },
        {
          "output_type": "execute_result",
          "data": {
            "text/plain": [
              "<matplotlib.axes._subplots.AxesSubplot at 0x7f9be4672590>"
            ]
          },
          "metadata": {},
          "execution_count": 40
        },
        {
          "output_type": "display_data",
          "data": {
            "text/plain": [
              "<Figure size 432x288 with 1 Axes>"
            ],
            "image/png": "[encoded data removed]"
          },
          "metadata": {
            "needs_background": "light"
          }
        }
      ]
    },
    {
      "cell_type": "markdown",
      "source": [
        "### KNN for summer of all the cities"
      ],
      "metadata": {
        "id": "CACBETNCrRlL"
      }
    },
    {
      "cell_type": "code",
      "source": [
        "# fit model\n",
        "KNNmodel.fit(NYCX_summer, NYCY_summer)"
      ],
      "metadata": {
        "colab": {
          "base_uri": "https://localhost:8080/"
        },
        "id": "06EnioK1qGcN",
        "outputId": "0c7a108a-a976-41af-fdfa-54d93fed5003"
      },
      "execution_count": 41,
      "outputs": [
        {
          "output_type": "execute_result",
          "data": {
            "text/plain": [
              "KNeighborsRegressor()"
            ]
          },
          "metadata": {},
          "execution_count": 41
        }
      ]
    },
    {
      "cell_type": "code",
      "source": [
        "NYC_summer_KNNY_pred = KNNmodel.predict(NYCX_summer)\n",
        "r2_score( np.array(NYCY_summer), NYC_summer_KNNY_pred,multioutput='uniform_average')"
      ],
      "metadata": {
        "colab": {
          "base_uri": "https://localhost:8080/"
        },
        "id": "ZTKMqypNqGtf",
        "outputId": "3c200786-9b40-49e1-e36b-31c26751c95f"
      },
      "execution_count": 42,
      "outputs": [
        {
          "output_type": "execute_result",
          "data": {
            "text/plain": [
              "0.712050165334611"
            ]
          },
          "metadata": {},
          "execution_count": 42
        }
      ]
    },
    {
      "cell_type": "code",
      "source": [
        "mean_absolute_error( NYCY_summer, NYC_summer_KNNY_pred)"
      ],
      "metadata": {
        "colab": {
          "base_uri": "https://localhost:8080/"
        },
        "id": "NPBz4KjbqG19",
        "outputId": "e393ecdf-9261-4b7e-95d0-8e7592636e0c"
      },
      "execution_count": 43,
      "outputs": [
        {
          "output_type": "execute_result",
          "data": {
            "text/plain": [
              "0.03521443681654498"
            ]
          },
          "metadata": {},
          "execution_count": 43
        }
      ]
    },
    {
      "cell_type": "code",
      "source": [
        "mean_absolute_percentage_error( NYCY_summer, NYC_summer_KNNY_pred)"
      ],
      "metadata": {
        "colab": {
          "base_uri": "https://localhost:8080/"
        },
        "id": "QnYgj3oiqG4b",
        "outputId": "65684fbb-d275-40b8-b2c4-ebd520af7dfb"
      },
      "execution_count": 44,
      "outputs": [
        {
          "output_type": "execute_result",
          "data": {
            "text/plain": [
              "24359973766100.38"
            ]
          },
          "metadata": {},
          "execution_count": 44
        }
      ]
    },
    {
      "cell_type": "code",
      "source": [
        "mean_squared_error( NYCY_summer, NYC_summer_KNNY_pred)"
      ],
      "metadata": {
        "colab": {
          "base_uri": "https://localhost:8080/"
        },
        "id": "njuGH4pIqG8a",
        "outputId": "f32c44f9-5cfa-4067-ae86-0ccc1a3d9578"
      },
      "execution_count": 45,
      "outputs": [
        {
          "output_type": "execute_result",
          "data": {
            "text/plain": [
              "0.0108250385274266"
            ]
          },
          "metadata": {},
          "execution_count": 45
        }
      ]
    },
    {
      "cell_type": "markdown",
      "source": [
        "### Scaling and plotting for KNN (summer)"
      ],
      "metadata": {
        "id": "hR7C7JB--DTc"
      }
    },
    {
      "cell_type": "code",
      "source": [
        "NYC_summer_KNNY_pred = scaler.fit_transform(NYC_summer_KNNY_pred)"
      ],
      "metadata": {
        "id": "eqaWOQbA9aRJ"
      },
      "execution_count": 46,
      "outputs": []
    },
    {
      "cell_type": "code",
      "source": [
        "ax1 = sns.distplot(NYCY_summer, color=\"r\", label=\"Actual Value\")\n",
        "sns.distplot(NYC_summer_KNNY_pred, color=\"b\", label=\"Fitted Values\" , ax=ax1)"
      ],
      "metadata": {
        "colab": {
          "base_uri": "https://localhost:8080/",
          "height": 372
        },
        "id": "TYKpgsou9bVa",
        "outputId": "6da493ba-a5e1-4612-9ff1-3c8efdcc6968"
      },
      "execution_count": 47,
      "outputs": [
        {
          "output_type": "stream",
          "name": "stderr",
          "text": [
            "/usr/local/lib/python3.7/dist-packages/seaborn/distributions.py:2619: FutureWarning: `distplot` is a deprecated function and will be removed in a future version. Please adapt your code to use either `displot` (a figure-level function with similar flexibility) or `histplot` (an axes-level function for histograms).\n",
            "  warnings.warn(msg, FutureWarning)\n",
            "/usr/local/lib/python3.7/dist-packages/seaborn/distributions.py:2619: FutureWarning: `distplot` is a deprecated function and will be removed in a future version. Please adapt your code to use either `displot` (a figure-level function with similar flexibility) or `histplot` (an axes-level function for histograms).\n",
            "  warnings.warn(msg, FutureWarning)\n"
          ]
        },
        {
          "output_type": "execute_result",
          "data": {
            "text/plain": [
              "<matplotlib.axes._subplots.AxesSubplot at 0x7f9be45e8cd0>"
            ]
          },
          "metadata": {},
          "execution_count": 47
        },
        {
          "output_type": "display_data",
          "data": {
            "text/plain": [
              "<Figure size 432x288 with 1 Axes>"
            ],
            "image/png": "[encoded data removed]"
          },
          "metadata": {
            "needs_background": "light"
          }
        }
      ]
    },
    {
      "cell_type": "markdown",
      "source": [
        "### Conclusion for KNN :\n",
        "\n",
        "KNN seems to be a better model for both summer and winter data when compared to that of linear regression. But, it is not the best model as a single model as it's accuracy is only about 71%."
      ],
      "metadata": {
        "id": "JgZ4MyLErW4Q"
      }
    },
    {
      "cell_type": "markdown",
      "source": [
        "# **Random Forest for multioutput Regression**\n"
      ],
      "metadata": {
        "id": "dA3TW_Gtr3um"
      }
    },
    {
      "cell_type": "markdown",
      "source": [
        "### Random forest for winter of all the cities"
      ],
      "metadata": {
        "id": "38REkVzFr92t"
      }
    },
    {
      "cell_type": "code",
      "source": [
        "RFmodel = RandomForestRegressor()\n",
        "# fit model\n",
        "RFmodel.fit(NYCX_winter, NYCY_winter)"
      ],
      "metadata": {
        "colab": {
          "base_uri": "https://localhost:8080/"
        },
        "id": "5n2KI7dFsBUR",
        "outputId": "a75c5fa4-21aa-46cd-e4b4-35fa4593b58f"
      },
      "execution_count": 48,
      "outputs": [
        {
          "output_type": "execute_result",
          "data": {
            "text/plain": [
              "RandomForestRegressor()"
            ]
          },
          "metadata": {},
          "execution_count": 48
        }
      ]
    },
    {
      "cell_type": "code",
      "source": [
        "NYC_winter_RFY_pred = RFmodel.predict(NYCX_winter)\n",
        "r2_score( np.array(NYCY_winter), NYC_winter_RFY_pred,multioutput='uniform_average')"
      ],
      "metadata": {
        "colab": {
          "base_uri": "https://localhost:8080/"
        },
        "id": "d8UA2hVEsBWz",
        "outputId": "2c2fb997-e7b1-4b64-dc71-04f47d80fc90"
      },
      "execution_count": 49,
      "outputs": [
        {
          "output_type": "execute_result",
          "data": {
            "text/plain": [
              "0.9260306185302903"
            ]
          },
          "metadata": {},
          "execution_count": 49
        }
      ]
    },
    {
      "cell_type": "code",
      "source": [
        "mean_absolute_error( NYCY_winter, NYC_winter_RFY_pred)"
      ],
      "metadata": {
        "colab": {
          "base_uri": "https://localhost:8080/"
        },
        "id": "oYr46dXbsBaM",
        "outputId": "8b759fd3-1620-454f-841b-38db28a0fe99"
      },
      "execution_count": 50,
      "outputs": [
        {
          "output_type": "execute_result",
          "data": {
            "text/plain": [
              "0.02438230371265152"
            ]
          },
          "metadata": {},
          "execution_count": 50
        }
      ]
    },
    {
      "cell_type": "code",
      "source": [
        "mean_absolute_percentage_error( NYCY_winter, NYC_winter_RFY_pred)"
      ],
      "metadata": {
        "colab": {
          "base_uri": "https://localhost:8080/"
        },
        "id": "KuZphopAsBlY",
        "outputId": "9da512ea-b867-4b16-8b6d-c0fc5b66ddab"
      },
      "execution_count": 51,
      "outputs": [
        {
          "output_type": "execute_result",
          "data": {
            "text/plain": [
              "5399595877178.751"
            ]
          },
          "metadata": {},
          "execution_count": 51
        }
      ]
    },
    {
      "cell_type": "code",
      "source": [
        "mean_squared_error( NYCY_winter, NYC_winter_RFY_pred)"
      ],
      "metadata": {
        "colab": {
          "base_uri": "https://localhost:8080/"
        },
        "id": "SOx9fe0msB24",
        "outputId": "4fc3dbb0-1730-416f-81ff-1e59ec16ed5f"
      },
      "execution_count": 52,
      "outputs": [
        {
          "output_type": "execute_result",
          "data": {
            "text/plain": [
              "0.003626913892025922"
            ]
          },
          "metadata": {},
          "execution_count": 52
        }
      ]
    },
    {
      "cell_type": "markdown",
      "source": [
        "### Scaling and plotting for Random forest (winter)"
      ],
      "metadata": {
        "id": "AmobSUlr-8z3"
      }
    },
    {
      "cell_type": "code",
      "source": [
        "NYC_winter_RFY_pred = scaler.fit_transform(NYC_winter_RFY_pred)"
      ],
      "metadata": {
        "id": "TLE0S0Vi-7YF"
      },
      "execution_count": 53,
      "outputs": []
    },
    {
      "cell_type": "code",
      "source": [
        "ax1 = sns.distplot(NYCY_winter, color=\"r\", label=\"Actual Value\")\n",
        "sns.distplot(NYC_winter_RFY_pred, color=\"b\", label=\"Fitted Values\" , ax=ax1)"
      ],
      "metadata": {
        "colab": {
          "base_uri": "https://localhost:8080/",
          "height": 372
        },
        "id": "KEU3CbXY-8Ho",
        "outputId": "1b4ecfed-79dd-4ae0-af1d-7037b7f2d38e"
      },
      "execution_count": 54,
      "outputs": [
        {
          "output_type": "stream",
          "name": "stderr",
          "text": [
            "/usr/local/lib/python3.7/dist-packages/seaborn/distributions.py:2619: FutureWarning: `distplot` is a deprecated function and will be removed in a future version. Please adapt your code to use either `displot` (a figure-level function with similar flexibility) or `histplot` (an axes-level function for histograms).\n",
            "  warnings.warn(msg, FutureWarning)\n",
            "/usr/local/lib/python3.7/dist-packages/seaborn/distributions.py:2619: FutureWarning: `distplot` is a deprecated function and will be removed in a future version. Please adapt your code to use either `displot` (a figure-level function with similar flexibility) or `histplot` (an axes-level function for histograms).\n",
            "  warnings.warn(msg, FutureWarning)\n"
          ]
        },
        {
          "output_type": "execute_result",
          "data": {
            "text/plain": [
              "<matplotlib.axes._subplots.AxesSubplot at 0x7f9be4447950>"
            ]
          },
          "metadata": {},
          "execution_count": 54
        },
        {
          "output_type": "display_data",
          "data": {
            "text/plain": [
              "<Figure size 432x288 with 1 Axes>"
            ],
            "image/png": "[encoded data removed]"
          },
          "metadata": {
            "needs_background": "light"
          }
        }
      ]
    },
    {
      "cell_type": "markdown",
      "source": [
        "### Random forest for summer of all the cities"
      ],
      "metadata": {
        "id": "fA6WNd8CsGYL"
      }
    },
    {
      "cell_type": "code",
      "source": [
        "RFmodel.fit(NYCX_summer, NYCY_summer)"
      ],
      "metadata": {
        "colab": {
          "base_uri": "https://localhost:8080/"
        },
        "id": "-bSGFHq0sB42",
        "outputId": "b4bb929d-2834-4d79-8f5d-dac27a453cd1"
      },
      "execution_count": 55,
      "outputs": [
        {
          "output_type": "execute_result",
          "data": {
            "text/plain": [
              "RandomForestRegressor()"
            ]
          },
          "metadata": {},
          "execution_count": 55
        }
      ]
    },
    {
      "cell_type": "code",
      "source": [
        "NYC_summer_RFY_pred = RFmodel.predict(NYCX_summer)\n",
        "r2_score( np.array(NYCY_summer), NYC_summer_RFY_pred,multioutput='uniform_average')"
      ],
      "metadata": {
        "colab": {
          "base_uri": "https://localhost:8080/"
        },
        "id": "t72BbtsksB75",
        "outputId": "417e8325-3a78-48d8-ee60-1842aa067bdf"
      },
      "execution_count": 56,
      "outputs": [
        {
          "output_type": "execute_result",
          "data": {
            "text/plain": [
              "0.9178135855497671"
            ]
          },
          "metadata": {},
          "execution_count": 56
        }
      ]
    },
    {
      "cell_type": "code",
      "source": [
        "mean_absolute_error( NYCY_summer, NYC_summer_RFY_pred)"
      ],
      "metadata": {
        "colab": {
          "base_uri": "https://localhost:8080/"
        },
        "id": "Kmgif-rPsB_E",
        "outputId": "de93414e-3602-465b-a978-96a421cc1388"
      },
      "execution_count": 57,
      "outputs": [
        {
          "output_type": "execute_result",
          "data": {
            "text/plain": [
              "0.016523896573269508"
            ]
          },
          "metadata": {},
          "execution_count": 57
        }
      ]
    },
    {
      "cell_type": "code",
      "source": [
        "mean_absolute_percentage_error( NYCY_summer, NYC_summer_RFY_pred)\n"
      ],
      "metadata": {
        "colab": {
          "base_uri": "https://localhost:8080/"
        },
        "id": "dIZJBC1mssH5",
        "outputId": "eabcc107-73b6-4230-9448-1cbc0c85eadb"
      },
      "execution_count": 58,
      "outputs": [
        {
          "output_type": "execute_result",
          "data": {
            "text/plain": [
              "12290761155005.146"
            ]
          },
          "metadata": {},
          "execution_count": 58
        }
      ]
    },
    {
      "cell_type": "code",
      "source": [
        "mean_squared_error( NYCY_summer, NYC_summer_RFY_pred)"
      ],
      "metadata": {
        "colab": {
          "base_uri": "https://localhost:8080/"
        },
        "id": "gTcL1fakssKt",
        "outputId": "896a0cf0-846e-4a20-e578-65eabd2c7c0a"
      },
      "execution_count": 59,
      "outputs": [
        {
          "output_type": "execute_result",
          "data": {
            "text/plain": [
              "0.002549951340189185"
            ]
          },
          "metadata": {},
          "execution_count": 59
        }
      ]
    },
    {
      "cell_type": "markdown",
      "source": [
        "### Scaling and plotting for Random forest (summer)"
      ],
      "metadata": {
        "id": "D15vJrBi_UBH"
      }
    },
    {
      "cell_type": "code",
      "source": [
        "NYC_summer_RFY_pred = scaler.fit_transform(NYC_summer_RFY_pred)"
      ],
      "metadata": {
        "id": "VaVjiAmv_Tp2"
      },
      "execution_count": 60,
      "outputs": []
    },
    {
      "cell_type": "code",
      "source": [
        "ax1 = sns.distplot(NYCY_summer, color=\"r\", label=\"Actual Value\")\n",
        "sns.distplot(NYC_summer_RFY_pred, color=\"b\", label=\"Fitted Values\" , ax=ax1)"
      ],
      "metadata": {
        "colab": {
          "base_uri": "https://localhost:8080/",
          "height": 372
        },
        "id": "_Op97Z2A_TV3",
        "outputId": "d9d9e284-ad74-4de3-982a-0c2d848c51c7"
      },
      "execution_count": 61,
      "outputs": [
        {
          "output_type": "stream",
          "name": "stderr",
          "text": [
            "/usr/local/lib/python3.7/dist-packages/seaborn/distributions.py:2619: FutureWarning: `distplot` is a deprecated function and will be removed in a future version. Please adapt your code to use either `displot` (a figure-level function with similar flexibility) or `histplot` (an axes-level function for histograms).\n",
            "  warnings.warn(msg, FutureWarning)\n",
            "/usr/local/lib/python3.7/dist-packages/seaborn/distributions.py:2619: FutureWarning: `distplot` is a deprecated function and will be removed in a future version. Please adapt your code to use either `displot` (a figure-level function with similar flexibility) or `histplot` (an axes-level function for histograms).\n",
            "  warnings.warn(msg, FutureWarning)\n"
          ]
        },
        {
          "output_type": "execute_result",
          "data": {
            "text/plain": [
              "<matplotlib.axes._subplots.AxesSubplot at 0x7f9be4357a50>"
            ]
          },
          "metadata": {},
          "execution_count": 61
        },
        {
          "output_type": "display_data",
          "data": {
            "text/plain": [
              "<Figure size 432x288 with 1 Axes>"
            ],
            "image/png": "[encoded data removed]"
          },
          "metadata": {
            "needs_background": "light"
          }
        }
      ]
    },
    {
      "cell_type": "markdown",
      "source": [
        "### Conclusion for Random Forest\n",
        " :\n",
        "Random forest seems to be the best model for the data with 93% accuracy and the graph shows how accurate the predicted values are to that of actual values."
      ],
      "metadata": {
        "id": "G7yeVihpuFYr"
      }
    },
    {
      "cell_type": "markdown",
      "source": [
        "# **MultiOutput Regression using XGBoost:**"
      ],
      "metadata": {
        "id": "hK2kTNlWurcZ"
      }
    },
    {
      "cell_type": "markdown",
      "source": [
        "### XGBoost for winter of all the cities"
      ],
      "metadata": {
        "id": "H4Z8mL-ruyEd"
      }
    },
    {
      "cell_type": "code",
      "source": [
        "multioutputregressor = MultiOutputRegressor(xgb.XGBRegressor(objective='reg:linear')).fit(NYCX_winter, NYCY_winter)\n",
        "NYC_winter_XGBY_pred= multioutputregressor.predict(NYCX_winter)"
      ],
      "metadata": {
        "colab": {
          "base_uri": "https://localhost:8080/"
        },
        "id": "aTJuUrjSuqxK",
        "outputId": "98e2120b-44b6-4e6a-a9e9-1658a8c7ec3f"
      },
      "execution_count": 62,
      "outputs": [
        {
          "output_type": "stream",
          "name": "stdout",
          "text": [
            "[00:46:52] WARNING: /workspace/src/objective/regression_obj.cu:152: reg:linear is now deprecated in favor of reg:squarederror.\n",
            "[00:46:52] WARNING: /workspace/src/objective/regression_obj.cu:152: reg:linear is now deprecated in favor of reg:squarederror.\n",
            "[00:46:52] WARNING: /workspace/src/objective/regression_obj.cu:152: reg:linear is now deprecated in favor of reg:squarederror.\n",
            "[00:46:53] WARNING: /workspace/src/objective/regression_obj.cu:152: reg:linear is now deprecated in favor of reg:squarederror.\n",
            "[00:46:53] WARNING: /workspace/src/objective/regression_obj.cu:152: reg:linear is now deprecated in favor of reg:squarederror.\n",
            "[00:46:53] WARNING: /workspace/src/objective/regression_obj.cu:152: reg:linear is now deprecated in favor of reg:squarederror.\n"
          ]
        }
      ]
    },
    {
      "cell_type": "code",
      "source": [
        "r2_score( np.array(NYCY_winter), NYC_winter_XGBY_pred ,multioutput='uniform_average')"
      ],
      "metadata": {
        "colab": {
          "base_uri": "https://localhost:8080/"
        },
        "id": "SkA_s1O4u8pQ",
        "outputId": "52d84a0d-e0de-4c41-a37c-0614d24dae8b"
      },
      "execution_count": 63,
      "outputs": [
        {
          "output_type": "execute_result",
          "data": {
            "text/plain": [
              "0.7384529698839608"
            ]
          },
          "metadata": {},
          "execution_count": 63
        }
      ]
    },
    {
      "cell_type": "code",
      "source": [
        "mean_absolute_error( NYCY_winter, NYC_winter_XGBY_pred)"
      ],
      "metadata": {
        "colab": {
          "base_uri": "https://localhost:8080/"
        },
        "id": "DlUIClNEu_Lu",
        "outputId": "3873591e-fa27-463d-eb55-0a09072dce65"
      },
      "execution_count": 64,
      "outputs": [
        {
          "output_type": "execute_result",
          "data": {
            "text/plain": [
              "0.057857731959516455"
            ]
          },
          "metadata": {},
          "execution_count": 64
        }
      ]
    },
    {
      "cell_type": "code",
      "source": [
        "mean_absolute_percentage_error( NYCY_winter, NYC_winter_XGBY_pred)"
      ],
      "metadata": {
        "colab": {
          "base_uri": "https://localhost:8080/"
        },
        "id": "v_D3evyYu_HC",
        "outputId": "7555e028-84fa-41f5-f620-77e6bf679aa5"
      },
      "execution_count": 65,
      "outputs": [
        {
          "output_type": "execute_result",
          "data": {
            "text/plain": [
              "16202525863915.203"
            ]
          },
          "metadata": {},
          "execution_count": 65
        }
      ]
    },
    {
      "cell_type": "code",
      "source": [
        "mean_squared_error( NYCY_winter, NYC_winter_XGBY_pred)"
      ],
      "metadata": {
        "colab": {
          "base_uri": "https://localhost:8080/"
        },
        "id": "RiZiYrHHu_EY",
        "outputId": "ecdecff3-b47c-43f6-b9a3-7042ffda4094"
      },
      "execution_count": 66,
      "outputs": [
        {
          "output_type": "execute_result",
          "data": {
            "text/plain": [
              "0.016731620398818824"
            ]
          },
          "metadata": {},
          "execution_count": 66
        }
      ]
    },
    {
      "cell_type": "markdown",
      "source": [
        "### Scaling and plotting for XGBoost (winter)"
      ],
      "metadata": {
        "id": "U6wpofZY_jqq"
      }
    },
    {
      "cell_type": "code",
      "source": [
        "NYC_winter_XGBY_pred = scaler.fit_transform(NYC_winter_XGBY_pred)"
      ],
      "metadata": {
        "id": "3ZaA2AHd_kUj"
      },
      "execution_count": 67,
      "outputs": []
    },
    {
      "cell_type": "code",
      "source": [
        "ax1 = sns.distplot(NYCY_winter, color=\"r\", label=\"Actual Value\")\n",
        "sns.distplot(NYC_winter_XGBY_pred, color=\"b\", label=\"Fitted Values\" , ax=ax1)"
      ],
      "metadata": {
        "colab": {
          "base_uri": "https://localhost:8080/",
          "height": 372
        },
        "id": "c00iXVTS_iy-",
        "outputId": "bb4efafe-2186-47e4-f509-838139a88e10"
      },
      "execution_count": 68,
      "outputs": [
        {
          "output_type": "stream",
          "name": "stderr",
          "text": [
            "/usr/local/lib/python3.7/dist-packages/seaborn/distributions.py:2619: FutureWarning: `distplot` is a deprecated function and will be removed in a future version. Please adapt your code to use either `displot` (a figure-level function with similar flexibility) or `histplot` (an axes-level function for histograms).\n",
            "  warnings.warn(msg, FutureWarning)\n",
            "/usr/local/lib/python3.7/dist-packages/seaborn/distributions.py:2619: FutureWarning: `distplot` is a deprecated function and will be removed in a future version. Please adapt your code to use either `displot` (a figure-level function with similar flexibility) or `histplot` (an axes-level function for histograms).\n",
            "  warnings.warn(msg, FutureWarning)\n"
          ]
        },
        {
          "output_type": "execute_result",
          "data": {
            "text/plain": [
              "<matplotlib.axes._subplots.AxesSubplot at 0x7f9bed80fd10>"
            ]
          },
          "metadata": {},
          "execution_count": 68
        },
        {
          "output_type": "display_data",
          "data": {
            "text/plain": [
              "<Figure size 432x288 with 1 Axes>"
            ],
            "image/png": "[encoded data removed]"
          },
          "metadata": {
            "needs_background": "light"
          }
        }
      ]
    },
    {
      "cell_type": "markdown",
      "source": [
        "### XGBoost for summer of all the cities"
      ],
      "metadata": {
        "id": "jbhrtoDAvCcy"
      }
    },
    {
      "cell_type": "code",
      "source": [
        "multioutputregressor.fit(NYCX_summer, NYCY_summer)\n",
        "NYC_summer_XGBY_pred= multioutputregressor.predict(NYCX_summer)"
      ],
      "metadata": {
        "colab": {
          "base_uri": "https://localhost:8080/"
        },
        "id": "B6iRFPlvu-7S",
        "outputId": "db1c57e4-f797-44cd-f27d-25a948361f99"
      },
      "execution_count": 69,
      "outputs": [
        {
          "output_type": "stream",
          "name": "stdout",
          "text": [
            "[00:46:55] WARNING: /workspace/src/objective/regression_obj.cu:152: reg:linear is now deprecated in favor of reg:squarederror.\n",
            "[00:46:55] WARNING: /workspace/src/objective/regression_obj.cu:152: reg:linear is now deprecated in favor of reg:squarederror.\n",
            "[00:46:56] WARNING: /workspace/src/objective/regression_obj.cu:152: reg:linear is now deprecated in favor of reg:squarederror.\n",
            "[00:46:56] WARNING: /workspace/src/objective/regression_obj.cu:152: reg:linear is now deprecated in favor of reg:squarederror.\n",
            "[00:46:56] WARNING: /workspace/src/objective/regression_obj.cu:152: reg:linear is now deprecated in favor of reg:squarederror.\n",
            "[00:46:56] WARNING: /workspace/src/objective/regression_obj.cu:152: reg:linear is now deprecated in favor of reg:squarederror.\n"
          ]
        }
      ]
    },
    {
      "cell_type": "code",
      "source": [
        "r2_score( np.array(NYCY_summer), NYC_summer_XGBY_pred ,multioutput='uniform_average')"
      ],
      "metadata": {
        "colab": {
          "base_uri": "https://localhost:8080/"
        },
        "id": "8LcAV4ggu-z8",
        "outputId": "1f6c057d-8bdb-43ff-e000-e93d25c4f73c"
      },
      "execution_count": 70,
      "outputs": [
        {
          "output_type": "execute_result",
          "data": {
            "text/plain": [
              "0.7589726330896092"
            ]
          },
          "metadata": {},
          "execution_count": 70
        }
      ]
    },
    {
      "cell_type": "code",
      "source": [
        "mean_absolute_error( NYCY_summer, NYC_summer_XGBY_pred)"
      ],
      "metadata": {
        "colab": {
          "base_uri": "https://localhost:8080/"
        },
        "id": "9yvlsdPTu-BM",
        "outputId": "3955b683-b52b-4742-9af3-5853103a0adf"
      },
      "execution_count": 71,
      "outputs": [
        {
          "output_type": "execute_result",
          "data": {
            "text/plain": [
              "0.04624667856392251"
            ]
          },
          "metadata": {},
          "execution_count": 71
        }
      ]
    },
    {
      "cell_type": "code",
      "source": [
        "mean_absolute_percentage_error( NYCY_summer, NYC_summer_XGBY_pred)\n"
      ],
      "metadata": {
        "colab": {
          "base_uri": "https://localhost:8080/"
        },
        "id": "NjM1xcX5u94Z",
        "outputId": "a4d02f13-38a4-4591-cd3a-dd96f03d202b"
      },
      "execution_count": 72,
      "outputs": [
        {
          "output_type": "execute_result",
          "data": {
            "text/plain": [
              "24308895194830.234"
            ]
          },
          "metadata": {},
          "execution_count": 72
        }
      ]
    },
    {
      "cell_type": "code",
      "source": [
        "mean_squared_error( NYCY_summer, NYC_summer_XGBY_pred)"
      ],
      "metadata": {
        "colab": {
          "base_uri": "https://localhost:8080/"
        },
        "id": "8uEHBijDu9rV",
        "outputId": "8353932d-8edc-4129-8235-405d5ad14829"
      },
      "execution_count": 73,
      "outputs": [
        {
          "output_type": "execute_result",
          "data": {
            "text/plain": [
              "0.012346663445319692"
            ]
          },
          "metadata": {},
          "execution_count": 73
        }
      ]
    },
    {
      "cell_type": "markdown",
      "source": [
        "### Scaling and plotting for XGBoost (summer)"
      ],
      "metadata": {
        "id": "maxo7KY6AACq"
      }
    },
    {
      "cell_type": "code",
      "source": [
        "NYC_summer_XGBY_pred = scaler.fit_transform(NYC_summer_XGBY_pred)"
      ],
      "metadata": {
        "id": "uYfAsgTS_-2w"
      },
      "execution_count": 74,
      "outputs": []
    },
    {
      "cell_type": "code",
      "source": [
        "ax1 = sns.distplot(NYCY_summer, color=\"r\", label=\"Actual Value\")\n",
        "sns.distplot(NYC_summer_XGBY_pred, color=\"b\", label=\"Fitted Values\" , ax=ax1)"
      ],
      "metadata": {
        "colab": {
          "base_uri": "https://localhost:8080/",
          "height": 372
        },
        "id": "kf7zxNdi__lP",
        "outputId": "f43a5108-f16c-4469-f27f-47b8c83386c6"
      },
      "execution_count": 75,
      "outputs": [
        {
          "output_type": "stream",
          "name": "stderr",
          "text": [
            "/usr/local/lib/python3.7/dist-packages/seaborn/distributions.py:2619: FutureWarning: `distplot` is a deprecated function and will be removed in a future version. Please adapt your code to use either `displot` (a figure-level function with similar flexibility) or `histplot` (an axes-level function for histograms).\n",
            "  warnings.warn(msg, FutureWarning)\n",
            "/usr/local/lib/python3.7/dist-packages/seaborn/distributions.py:2619: FutureWarning: `distplot` is a deprecated function and will be removed in a future version. Please adapt your code to use either `displot` (a figure-level function with similar flexibility) or `histplot` (an axes-level function for histograms).\n",
            "  warnings.warn(msg, FutureWarning)\n"
          ]
        },
        {
          "output_type": "execute_result",
          "data": {
            "text/plain": [
              "<matplotlib.axes._subplots.AxesSubplot at 0x7f9be41580d0>"
            ]
          },
          "metadata": {},
          "execution_count": 75
        },
        {
          "output_type": "display_data",
          "data": {
            "text/plain": [
              "<Figure size 432x288 with 1 Axes>"
            ],
            "image/png": "[encoded data removed]"
          },
          "metadata": {
            "needs_background": "light"
          }
        }
      ]
    },
    {
      "cell_type": "markdown",
      "source": [
        "###Conclusion for XGBoost :\n",
        "XGBoost model is almost like KNN model with accuracy of around the same values for both winter and summer but a little better."
      ],
      "metadata": {
        "id": "OxaoTUkPwip4"
      }
    }
  ]
}